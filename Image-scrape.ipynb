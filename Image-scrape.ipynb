{
 "cells": [
  {
   "cell_type": "markdown",
   "metadata": {},
   "source": [
    "### Setup"
   ]
  },
  {
   "cell_type": "code",
   "execution_count": 1,
   "metadata": {},
   "outputs": [],
   "source": [
    "import requests\n",
    "import matplotlib.pyplot as plt\n",
    "import numpy as np\n",
    "import pandas as pd\n",
    "from PIL import Image\n",
    "from io import BytesIO\n",
    "import time"
   ]
  },
  {
   "cell_type": "code",
   "execution_count": 2,
   "metadata": {},
   "outputs": [],
   "source": [
    "subscription_key = \"729a71455f084d5885fb65b14e25aa26\"\n",
    "search_url = \"https://api.bing.microsoft.com/v7.0/images/search\"\n",
    "headers = {\"Ocp-Apim-Subscription-Key\" : subscription_key}"
   ]
  },
  {
   "cell_type": "markdown",
   "metadata": {},
   "source": [
    "### Choosing the monuments"
   ]
  },
  {
   "cell_type": "code",
   "execution_count": 7,
   "metadata": {},
   "outputs": [],
   "source": [
    "search_term = {\"Eiffel\": [\"Eiffel tower\", \"torre eiffel\", \"la torre eiffel\", \"tour eiffel\", \"Eiffelturm\", \"Eiffel-torni\", \n",
    "                          \"Eiffeltårnet\", \"Eiffeltoren\", \"Wieża Eiffla\", \"Tháp Eiffel\"],\n",
    "    # 931 \"Eiffel Thiet-thap\",\n",
    "               \"Liberty\": [\"estátua da liberdade\", \"Statue of Liberty\", \"Statue de la Liberté\", \"Freiheitsstatue\", \n",
    "                           \"Estátua de la Libertad\", \"Vapaudenpatsas\", \"Statua Wolności\",\"Vrijheidsbeeld\", \"Statua della Libertà\"],\n",
    "    # 827\n",
    "               \"Tower Bridge\": [\"Tower Bridge\", \"Puente de la Torre\", \"Ponte da Torre de Londres\", \"Ponte della Torre\"],\n",
    "    # 514\n",
    "               \"Basilica\": [\"St. Peter's Basilica\", \"Basílica de San Pedro\", \"Basilique Saint-Pierre\", \"Basílica de São Pedro\",\n",
    "                            \"Basilica di San Pietro in Vaticano\", \"Petersdom\"],\n",
    "    # 569\n",
    "               \"BigBen\": ['Big Ben', 'Clock Tower', 'Elizabeth Tower'],\n",
    "    # 514\n",
    "               \"Wall\": [\"Great Wall of China\", \"Grande Muralha da China\", \"Gran Muralla China\", \"Grande Muraille\",\n",
    "                          \"Kiinan muuri\", \"Chinesische Mauer\", \"Grande muraglia cinese\", \"Chinese Muur\"],\n",
    "    # 743\n",
    "               \"Notre-Dame\": [\"Notre-Dame Cathedral\", \"Notre-Dame de Paris\", \"Cattedrale di Notre-Dame\", \"Catedral de Notre Dame\",\n",
    "                       \"Kathedrale Notre-Dame de Paris\", \"Notre-Damen katedraali\"],\n",
    "    # 473\n",
    "               \"Triomphe\": [\"Arc de Triomphe\", \"Arco de Triunfo de París\", \"Arco do Triunfo\", \"Riemukaari\", \n",
    "                                   \"Arc de Triomphe de l’Étoile\"],\n",
    "    # 440\n",
    "               \"Washington\": [\"Washington Monument\", \"Washington-monumentet\", \"Monumento a Washington\", \"Washington-monumentti\",\n",
    "                   \"Pomnik Waszyngtona\"],\n",
    "    # 469\n",
    "               \"Pisa\": [\"Torre de Pisa\", \"Leaning Tower of Pisa\", \"Torre Pendente di Pisa\", \"Tower of Pisa\", \"Torre di Pisa\",\n",
    "                       \"Torre de Pisa\", \"Schiefer Turm von Pisa\", \"Torre inclinada de Pisa\", \"Pisan torni\",\n",
    "                       \"Krzywa Wieża w Pizie\", \"Tour de Pise\", \"Toren van Pisa\"]\n",
    "    # 514\n",
    "    \n",
    "              }"
   ]
  },
  {
   "cell_type": "code",
   "execution_count": 8,
   "metadata": {},
   "outputs": [],
   "source": [
    "images = {\"Eiffel\": [],\n",
    "          \"Liberty\": [],\n",
    "          \"Tower Bridge\":[],\n",
    "          \"Basilica\": [],\n",
    "          \"BigBen\": [],\n",
    "          \"Wall\": [],\n",
    "          \"Notre-Dame\": [],\n",
    "          \"Triomphe\": [],\n",
    "          \"Washington\": [],\n",
    "          \"Pisa\": []\n",
    "        }"
   ]
  },
  {
   "cell_type": "markdown",
   "metadata": {},
   "source": [
    "### Get the images"
   ]
  },
  {
   "cell_type": "code",
   "execution_count": 10,
   "metadata": {
    "scrolled": false
   },
   "outputs": [
    {
     "name": "stdout",
     "output_type": "stream",
     "text": [
      "Eiffel tower\n",
      "torre eiffel\n",
      "la torre eiffel\n",
      "tour eiffel\n",
      "Eiffelturm\n",
      "Eiffel-torni\n",
      "Eiffeltårnet\n",
      "Eiffeltoren\n",
      "Wieża Eiffla\n",
      "Tháp Eiffel\n",
      "['Eiffel tower', 'torre eiffel', 'la torre eiffel', 'tour eiffel', 'Eiffelturm', 'Eiffel-torni', 'Eiffeltårnet', 'Eiffeltoren', 'Wieża Eiffla', 'Tháp Eiffel']\n",
      "2227\n",
      "965\n",
      "estátua da liberdade\n",
      "Statue of Liberty\n",
      "Statue de la Liberté\n",
      "Freiheitsstatue\n",
      "Estátua de la Libertad\n",
      "Vapaudenpatsas\n",
      "Statua Wolności\n",
      "Vrijheidsbeeld\n",
      "Statua della Libertà\n",
      "['estátua da liberdade', 'Statue of Liberty', 'Statue de la Liberté', 'Freiheitsstatue', 'Estátua de la Libertad', 'Vapaudenpatsas', 'Statua Wolności', 'Vrijheidsbeeld', 'Statua della Libertà']\n",
      "1420\n",
      "962\n",
      "Tower Bridge\n",
      "Puente de la Torre\n",
      "Ponte da Torre de Londres\n",
      "Ponte della Torre\n",
      "['Tower Bridge', 'Puente de la Torre', 'Ponte da Torre de Londres', 'Ponte della Torre']\n",
      "571\n",
      "533\n",
      "St. Peter's Basilica\n",
      "Basílica de San Pedro\n",
      "Basilique Saint-Pierre\n",
      "Basílica de São Pedro\n",
      "Basilica di San Pietro in Vaticano\n",
      "Petersdom\n",
      "[\"St. Peter's Basilica\", 'Basílica de San Pedro', 'Basilique Saint-Pierre', 'Basílica de São Pedro', 'Basilica di San Pietro in Vaticano', 'Petersdom']\n",
      "855\n",
      "705\n",
      "Big Ben\n",
      "Clock Tower\n",
      "Elizabeth Tower\n",
      "['Big Ben', 'Clock Tower', 'Elizabeth Tower']\n",
      "679\n",
      "511\n",
      "Great Wall of China\n",
      "Grande Muralha da China\n",
      "Gran Muralla China\n",
      "Grande Muraille\n",
      "Kiinan muuri\n",
      "Chinesische Mauer\n",
      "Grande muraglia cinese\n",
      "Chinese Muur\n",
      "['Great Wall of China', 'Grande Muralha da China', 'Gran Muralla China', 'Grande Muraille', 'Kiinan muuri', 'Chinesische Mauer', 'Grande muraglia cinese', 'Chinese Muur']\n",
      "492\n",
      "414\n",
      "Notre-Dame Cathedral\n",
      "Notre-Dame de Paris\n",
      "Cattedrale di Notre-Dame\n",
      "Catedral de Notre Dame\n",
      "Kathedrale Notre-Dame de Paris\n",
      "Notre-Damen katedraali\n",
      "['Notre-Dame Cathedral', 'Notre-Dame de Paris', 'Cattedrale di Notre-Dame', 'Catedral de Notre Dame', 'Kathedrale Notre-Dame de Paris', 'Notre-Damen katedraali']\n",
      "923\n",
      "509\n",
      "Arc de Triomphe\n",
      "Arco de Triunfo de París\n",
      "Arco do Triunfo\n",
      "Riemukaari\n",
      "Arc de Triomphe de l’Étoile\n",
      "['Arc de Triomphe', 'Arco de Triunfo de París', 'Arco do Triunfo', 'Riemukaari', 'Arc de Triomphe de l’Étoile']\n",
      "657\n",
      "294\n",
      "Washington Monument\n",
      "Washington-monumentet\n",
      "Monumento a Washington\n",
      "Washington-monumentti\n",
      "Pomnik Waszyngtona\n",
      "['Washington Monument', 'Washington-monumentet', 'Monumento a Washington', 'Washington-monumentti', 'Pomnik Waszyngtona']\n",
      "392\n",
      "319\n",
      "Torre de Pisa\n",
      "Leaning Tower of Pisa\n",
      "Torre Pendente di Pisa\n",
      "Tower of Pisa\n",
      "Torre di Pisa\n",
      "Torre de Pisa\n",
      "Schiefer Turm von Pisa\n",
      "Torre inclinada de Pisa\n",
      "Pisan torni\n",
      "Krzywa Wieża w Pizie\n",
      "Tour de Pise\n",
      "Toren van Pisa\n",
      "['Torre de Pisa', 'Leaning Tower of Pisa', 'Torre Pendente di Pisa', 'Tower of Pisa', 'Torre di Pisa', 'Torre de Pisa', 'Schiefer Turm von Pisa', 'Torre inclinada de Pisa', 'Pisan torni', 'Krzywa Wieża w Pizie', 'Tour de Pise', 'Toren van Pisa']\n",
      "1500\n",
      "731\n"
     ]
    }
   ],
   "source": [
    "for i in search_term.keys():\n",
    "    img = []\n",
    "    for j in search_term[i]:\n",
    "        time.sleep(2)\n",
    "        print(j)\n",
    "        thumbnail_urls = []\n",
    "        offset = 0\n",
    "        totalEstimatedMatches = 0\n",
    "        while offset <= (totalEstimatedMatches + 1):\n",
    "            params  = {\"q\": j, \"license\": \"public\", \"imageType\": \"photo\", \"count\": 150,\n",
    "                      \"offset\":offset, \"aspect\": \"tall\"}\n",
    "            response = requests.get(search_url, headers=headers, params=params)\n",
    "            response.raise_for_status()\n",
    "            search_results = response.json()\n",
    "            totalEstimatedMatches = search_results[\"totalEstimatedMatches\"]\n",
    "            thumbnail_urls = thumbnail_urls + [image[\"thumbnailUrl\"] for image in search_results[\"value\"]]\n",
    "            offset = offset + 150\n",
    "        img = img + thumbnail_urls\n",
    "    print(search_term[i])\n",
    "    print(len(img))\n",
    "    images[i] = list(dict.fromkeys(img))\n",
    "    print(len(images[i]))"
   ]
  },
  {
   "cell_type": "markdown",
   "metadata": {},
   "source": [
    "### Resize the images and save them"
   ]
  },
  {
   "cell_type": "markdown",
   "metadata": {},
   "source": [
    "Downsizing larger images to match the size of smaller images is often a better bet than increasing the size of small images to be larger."
   ]
  },
  {
   "cell_type": "code",
   "execution_count": 11,
   "metadata": {},
   "outputs": [],
   "source": [
    "width = []\n",
    "height = []\n",
    "for monument in images.keys():\n",
    "    i = 0\n",
    "    for img in images[monument]:\n",
    "        try:\n",
    "            image_data = requests.get(img)\n",
    "            image_data.raise_for_status()\n",
    "            width.append(Image.open(BytesIO(image_data.content)).size[0])\n",
    "            height.append(Image.open(BytesIO(image_data.content)).size[1])\n",
    "            i=i+1\n",
    "        except:\n",
    "            i=i+1"
   ]
  },
  {
   "cell_type": "code",
   "execution_count": 47,
   "metadata": {},
   "outputs": [
    {
     "name": "stdout",
     "output_type": "stream",
     "text": [
      "79 474 430.4093023255814 474.0\n",
      "58 1408\n",
      "6450\n",
      "4763\n"
     ]
    },
    {
     "data": {
      "text/plain": [
       "(array([  16.,   41.,   47.,   21.,    6.,   44.,   89.,  247.,  234.,\n",
       "          30.,   10.,   51.,   23.,  271.,   55.,   24.,  128.,  224.,\n",
       "          63., 4826.]),\n",
       " array([ 79.  ,  98.75, 118.5 , 138.25, 158.  , 177.75, 197.5 , 217.25,\n",
       "        237.  , 256.75, 276.5 , 296.25, 316.  , 335.75, 355.5 , 375.25,\n",
       "        395.  , 414.75, 434.5 , 454.25, 474.  ]),\n",
       " <BarContainer object of 20 artists>)"
      ]
     },
     "execution_count": 47,
     "metadata": {},
     "output_type": "execute_result"
    },
    {
     "data": {
      "image/png": "[encoded data removed]",
      "text/plain": [
       "<Figure size 432x288 with 1 Axes>"
      ]
     },
     "metadata": {
      "needs_background": "light"
     },
     "output_type": "display_data"
    }
   ],
   "source": [
    "from statistics import mean, median\n",
    "print(min(width),max(width),mean(width), median(width))\n",
    "print(len(width))\n",
    "print(width.count(474))\n",
    "\n",
    "plt.hist(pd.DataFrame(width),bins=20)"
   ]
  },
  {
   "cell_type": "code",
   "execution_count": 49,
   "metadata": {},
   "outputs": [
    {
     "name": "stdout",
     "output_type": "stream",
     "text": [
      "58 1408 609.175968992248 632.0\n",
      "6450\n",
      "1344\n"
     ]
    },
    {
     "data": {
      "text/plain": [
       "(array([1.200e+01, 1.070e+02, 6.800e+01, 2.450e+02, 5.660e+02, 8.500e+01,\n",
       "        2.460e+02, 1.540e+02, 2.343e+03, 2.303e+03, 1.330e+02, 1.540e+02,\n",
       "        1.400e+01, 1.500e+01, 1.000e+00, 1.000e+00, 2.000e+00, 0.000e+00,\n",
       "        0.000e+00, 1.000e+00]),\n",
       " array([  58. ,  125.5,  193. ,  260.5,  328. ,  395.5,  463. ,  530.5,\n",
       "         598. ,  665.5,  733. ,  800.5,  868. ,  935.5, 1003. , 1070.5,\n",
       "        1138. , 1205.5, 1273. , 1340.5, 1408. ]),\n",
       " <BarContainer object of 20 artists>)"
      ]
     },
     "execution_count": 49,
     "metadata": {},
     "output_type": "execute_result"
    },
    {
     "data": {
      "image/png": "[encoded data removed]",
      "text/plain": [
       "<Figure size 432x288 with 1 Axes>"
      ]
     },
     "metadata": {
      "needs_background": "light"
     },
     "output_type": "display_data"
    }
   ],
   "source": [
    "print(min(height),max(height),mean(height), median(height))\n",
    "print(len(height))\n",
    "print(height.count(632))\n",
    "\n",
    "plt.hist(pd.DataFrame(height),bins=20)"
   ]
  },
  {
   "cell_type": "code",
   "execution_count": 55,
   "metadata": {},
   "outputs": [
    {
     "data": {
      "text/plain": [
       "dict_keys(['Eiffel', 'Liberty', 'Tower Bridge', 'Basilica', 'BigBen', 'Wall', 'Mont', 'Triomphe', 'Washington', 'Pisa'])"
      ]
     },
     "execution_count": 55,
     "metadata": {},
     "output_type": "execute_result"
    }
   ],
   "source": [
    "images.keys()"
   ]
  },
  {
   "cell_type": "code",
   "execution_count": 12,
   "metadata": {},
   "outputs": [],
   "source": [
    "#to resize the image\n",
    "for monument in images.keys():\n",
    "#monument=\"Washington\"\n",
    "    i = 0 \n",
    "    for img in images[monument]:\n",
    "        try:\n",
    "            image_data = requests.get(img)\n",
    "            image_data.raise_for_status()  \n",
    "            load_img_rz = np.array(Image.open(BytesIO(image_data.content)).resize((400,600)))\n",
    "            Image.fromarray(load_img_rz).save(monument + str(i) + \".jpeg\")\n",
    "            i = i + 1\n",
    "        except:\n",
    "            i = i + 1"
   ]
  },
  {
   "cell_type": "code",
   "execution_count": null,
   "metadata": {},
   "outputs": [],
   "source": [
    "# all the same shape\n",
    "# > 1000 per category\n",
    "# 10 categories\n",
    "# download the images in different folders\n",
    "# tutorial in tensorflow 2\n",
    "# image preprocessing\n",
    "# literature: image recognition and apply it to similar problem to ours\n",
    "# diary of what I already did"
   ]
  }
 ],
 "metadata": {
  "kernelspec": {
   "display_name": "Python 3",
   "language": "python",
   "name": "python3"
  },
  "language_info": {
   "codemirror_mode": {
    "name": "ipython",
    "version": 3
   },
   "file_extension": ".py",
   "mimetype": "text/x-python",
   "name": "python",
   "nbconvert_exporter": "python",
   "pygments_lexer": "ipython3",
   "version": "3.8.5"
  }
 },
 "nbformat": 4,
 "nbformat_minor": 4
}

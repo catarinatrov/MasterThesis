{
 "cells": [
  {
   "cell_type": "code",
   "execution_count": 1,
   "metadata": {},
   "outputs": [],
   "source": [
    "from tensorflow.keras.preprocessing.image import ImageDataGenerator\n",
    "from tensorflow.keras.preprocessing import image\n",
    "from tensorflow.keras.optimizers import RMSprop\n",
    "from tensorflow.keras import datasets, layers, models, metrics\n",
    "import matplotlib.pyplot as plt\n",
    "import tensorflow as tf\n",
    "\n",
    "import numpy as np\n",
    "import cv2\n",
    "import os\n",
    "import random\n",
    "import math\n",
    "from PIL import Image\n",
    "#https://www.youtube.com/watch?v=uqomO_BZ44g\n",
    "#https://www.tensorflow.org/tutorials/images/classification"
   ]
  },
  {
   "cell_type": "code",
   "execution_count": 2,
   "metadata": {},
   "outputs": [],
   "source": [
    "import seaborn as sns"
   ]
  },
  {
   "cell_type": "markdown",
   "metadata": {},
   "source": [
    "### Dealing with duplicates"
   ]
  },
  {
   "cell_type": "markdown",
   "metadata": {},
   "source": [
    "#### Get the images from the folders"
   ]
  },
  {
   "cell_type": "code",
   "execution_count": 4,
   "metadata": {},
   "outputs": [],
   "source": [
    "#folder_names = ['Triomphe','bigBen', 'Liberty', 'Pisa', 'Basilica', 'Eiffel', 'Notre-Dame', 'TowerBridge', 'Triomphe', 'Wall', 'Washington']\n",
    "folder_names = ['Eiffel']\n",
    "i = 0\n",
    "images = []\n",
    "arr = []\n",
    "while i < len(folder_names):\n",
    "    dire = 'images/' + folder_names[i] + '/'\n",
    "    arr.append(os.listdir(dire))\n",
    "    images.append([(x,cv2.imread(dire + x)) for x in arr[i]])\n",
    "    i = i+1"
   ]
  },
  {
   "cell_type": "code",
   "execution_count": 8,
   "metadata": {},
   "outputs": [
    {
     "data": {
      "text/plain": [
       "889"
      ]
     },
     "execution_count": 8,
     "metadata": {},
     "output_type": "execute_result"
    }
   ],
   "source": [
    "len(images[0])"
   ]
  },
  {
   "cell_type": "code",
   "execution_count": 5,
   "metadata": {},
   "outputs": [
    {
     "ename": "KeyboardInterrupt",
     "evalue": "",
     "output_type": "error",
     "traceback": [
      "\u001b[1;31m---------------------------------------------------------------------------\u001b[0m",
      "\u001b[1;31mKeyboardInterrupt\u001b[0m                         Traceback (most recent call last)",
      "\u001b[1;32m<ipython-input-5-3383997d2720>\u001b[0m in \u001b[0;36m<module>\u001b[1;34m\u001b[0m\n\u001b[0;32m     12\u001b[0m             \u001b[0mduplicates\u001b[0m\u001b[1;33m[\u001b[0m\u001b[0mz\u001b[0m\u001b[1;33m]\u001b[0m\u001b[1;33m[\u001b[0m\u001b[0marr\u001b[0m\u001b[1;33m[\u001b[0m\u001b[0mz\u001b[0m\u001b[1;33m]\u001b[0m\u001b[1;33m[\u001b[0m\u001b[0mi\u001b[0m\u001b[1;33m]\u001b[0m\u001b[1;33m]\u001b[0m \u001b[1;33m=\u001b[0m \u001b[1;33m[\u001b[0m\u001b[1;33m]\u001b[0m\u001b[1;33m\u001b[0m\u001b[1;33m\u001b[0m\u001b[0m\n\u001b[0;32m     13\u001b[0m             \u001b[1;32mfor\u001b[0m \u001b[0mj\u001b[0m \u001b[1;32min\u001b[0m \u001b[0mrange\u001b[0m\u001b[1;33m(\u001b[0m\u001b[0mi\u001b[0m\u001b[1;33m+\u001b[0m\u001b[1;36m1\u001b[0m\u001b[1;33m,\u001b[0m\u001b[0mlen\u001b[0m\u001b[1;33m(\u001b[0m\u001b[0marr\u001b[0m\u001b[1;33m[\u001b[0m\u001b[0mz\u001b[0m\u001b[1;33m]\u001b[0m\u001b[1;33m)\u001b[0m\u001b[1;33m)\u001b[0m\u001b[1;33m:\u001b[0m\u001b[1;33m\u001b[0m\u001b[1;33m\u001b[0m\u001b[0m\n\u001b[1;32m---> 14\u001b[1;33m                 \u001b[1;32mif\u001b[0m \u001b[0mnp\u001b[0m\u001b[1;33m.\u001b[0m\u001b[0msum\u001b[0m\u001b[1;33m(\u001b[0m\u001b[0mimages\u001b[0m\u001b[1;33m[\u001b[0m\u001b[0mz\u001b[0m\u001b[1;33m]\u001b[0m\u001b[1;33m[\u001b[0m\u001b[0mi\u001b[0m\u001b[1;33m]\u001b[0m\u001b[1;33m[\u001b[0m\u001b[1;36m1\u001b[0m\u001b[1;33m]\u001b[0m \u001b[1;33m==\u001b[0m \u001b[0mimages\u001b[0m\u001b[1;33m[\u001b[0m\u001b[0mz\u001b[0m\u001b[1;33m]\u001b[0m\u001b[1;33m[\u001b[0m\u001b[0mj\u001b[0m\u001b[1;33m]\u001b[0m\u001b[1;33m[\u001b[0m\u001b[1;36m1\u001b[0m\u001b[1;33m]\u001b[0m\u001b[1;33m)\u001b[0m\u001b[1;33m/\u001b[0m\u001b[0mno\u001b[0m \u001b[1;33m>\u001b[0m \u001b[1;36m0.1\u001b[0m \u001b[1;32mor\u001b[0m \u001b[0mnp\u001b[0m\u001b[1;33m.\u001b[0m\u001b[0msum\u001b[0m\u001b[1;33m(\u001b[0m\u001b[0mimages\u001b[0m\u001b[1;33m[\u001b[0m\u001b[0mz\u001b[0m\u001b[1;33m]\u001b[0m\u001b[1;33m[\u001b[0m\u001b[0mi\u001b[0m\u001b[1;33m]\u001b[0m\u001b[1;33m[\u001b[0m\u001b[1;36m1\u001b[0m\u001b[1;33m]\u001b[0m \u001b[1;33m==\u001b[0m \u001b[0mnp\u001b[0m\u001b[1;33m.\u001b[0m\u001b[0mflip\u001b[0m\u001b[1;33m(\u001b[0m\u001b[0mimages\u001b[0m\u001b[1;33m[\u001b[0m\u001b[0mz\u001b[0m\u001b[1;33m]\u001b[0m\u001b[1;33m[\u001b[0m\u001b[0mj\u001b[0m\u001b[1;33m]\u001b[0m\u001b[1;33m[\u001b[0m\u001b[1;36m1\u001b[0m\u001b[1;33m]\u001b[0m\u001b[1;33m,\u001b[0m \u001b[1;36m1\u001b[0m\u001b[1;33m)\u001b[0m\u001b[1;33m)\u001b[0m\u001b[1;33m/\u001b[0m\u001b[0mno\u001b[0m \u001b[1;33m>\u001b[0m \u001b[1;36m0.1\u001b[0m\u001b[1;33m:\u001b[0m\u001b[1;33m\u001b[0m\u001b[1;33m\u001b[0m\u001b[0m\n\u001b[0m\u001b[0;32m     15\u001b[0m                     \u001b[0mduplicates\u001b[0m\u001b[1;33m[\u001b[0m\u001b[0mz\u001b[0m\u001b[1;33m]\u001b[0m\u001b[1;33m[\u001b[0m\u001b[0marr\u001b[0m\u001b[1;33m[\u001b[0m\u001b[0mz\u001b[0m\u001b[1;33m]\u001b[0m\u001b[1;33m[\u001b[0m\u001b[0mi\u001b[0m\u001b[1;33m]\u001b[0m\u001b[1;33m]\u001b[0m\u001b[1;33m.\u001b[0m\u001b[0mappend\u001b[0m\u001b[1;33m(\u001b[0m\u001b[0marr\u001b[0m\u001b[1;33m[\u001b[0m\u001b[0mz\u001b[0m\u001b[1;33m]\u001b[0m\u001b[1;33m[\u001b[0m\u001b[0mj\u001b[0m\u001b[1;33m]\u001b[0m\u001b[1;33m)\u001b[0m\u001b[1;33m\u001b[0m\u001b[1;33m\u001b[0m\u001b[0m\n\u001b[0;32m     16\u001b[0m                     \u001b[0mdup\u001b[0m\u001b[1;33m[\u001b[0m\u001b[0mz\u001b[0m\u001b[1;33m]\u001b[0m\u001b[1;33m.\u001b[0m\u001b[0mappend\u001b[0m\u001b[1;33m(\u001b[0m\u001b[0marr\u001b[0m\u001b[1;33m[\u001b[0m\u001b[0mz\u001b[0m\u001b[1;33m]\u001b[0m\u001b[1;33m[\u001b[0m\u001b[0mj\u001b[0m\u001b[1;33m]\u001b[0m\u001b[1;33m)\u001b[0m\u001b[1;33m\u001b[0m\u001b[1;33m\u001b[0m\u001b[0m\n",
      "\u001b[1;32m<__array_function__ internals>\u001b[0m in \u001b[0;36msum\u001b[1;34m(*args, **kwargs)\u001b[0m\n",
      "\u001b[1;32m~\\anaconda3\\lib\\site-packages\\numpy\\core\\fromnumeric.py\u001b[0m in \u001b[0;36msum\u001b[1;34m(a, axis, dtype, out, keepdims, initial, where)\u001b[0m\n\u001b[0;32m   2239\u001b[0m         \u001b[1;32mreturn\u001b[0m \u001b[0mres\u001b[0m\u001b[1;33m\u001b[0m\u001b[1;33m\u001b[0m\u001b[0m\n\u001b[0;32m   2240\u001b[0m \u001b[1;33m\u001b[0m\u001b[0m\n\u001b[1;32m-> 2241\u001b[1;33m     return _wrapreduction(a, np.add, 'sum', axis, dtype, out, keepdims=keepdims,\n\u001b[0m\u001b[0;32m   2242\u001b[0m                           initial=initial, where=where)\n\u001b[0;32m   2243\u001b[0m \u001b[1;33m\u001b[0m\u001b[0m\n",
      "\u001b[1;32m~\\anaconda3\\lib\\site-packages\\numpy\\core\\fromnumeric.py\u001b[0m in \u001b[0;36m_wrapreduction\u001b[1;34m(obj, ufunc, method, axis, dtype, out, **kwargs)\u001b[0m\n\u001b[0;32m     85\u001b[0m                 \u001b[1;32mreturn\u001b[0m \u001b[0mreduction\u001b[0m\u001b[1;33m(\u001b[0m\u001b[0maxis\u001b[0m\u001b[1;33m=\u001b[0m\u001b[0maxis\u001b[0m\u001b[1;33m,\u001b[0m \u001b[0mout\u001b[0m\u001b[1;33m=\u001b[0m\u001b[0mout\u001b[0m\u001b[1;33m,\u001b[0m \u001b[1;33m**\u001b[0m\u001b[0mpasskwargs\u001b[0m\u001b[1;33m)\u001b[0m\u001b[1;33m\u001b[0m\u001b[1;33m\u001b[0m\u001b[0m\n\u001b[0;32m     86\u001b[0m \u001b[1;33m\u001b[0m\u001b[0m\n\u001b[1;32m---> 87\u001b[1;33m     \u001b[1;32mreturn\u001b[0m \u001b[0mufunc\u001b[0m\u001b[1;33m.\u001b[0m\u001b[0mreduce\u001b[0m\u001b[1;33m(\u001b[0m\u001b[0mobj\u001b[0m\u001b[1;33m,\u001b[0m \u001b[0maxis\u001b[0m\u001b[1;33m,\u001b[0m \u001b[0mdtype\u001b[0m\u001b[1;33m,\u001b[0m \u001b[0mout\u001b[0m\u001b[1;33m,\u001b[0m \u001b[1;33m**\u001b[0m\u001b[0mpasskwargs\u001b[0m\u001b[1;33m)\u001b[0m\u001b[1;33m\u001b[0m\u001b[1;33m\u001b[0m\u001b[0m\n\u001b[0m\u001b[0;32m     88\u001b[0m \u001b[1;33m\u001b[0m\u001b[0m\n\u001b[0;32m     89\u001b[0m \u001b[1;33m\u001b[0m\u001b[0m\n",
      "\u001b[1;31mKeyboardInterrupt\u001b[0m: "
     ]
    }
   ],
   "source": [
    "no = images[0][0][1].shape[0] * images[0][0][1].shape[1] * images[0][0][1].shape[2]\n",
    "z = 0\n",
    "duplicates = []\n",
    "dup = []\n",
    "while z <len(folder_names):\n",
    "    duplicates.append({})\n",
    "    dup.append([])\n",
    "    i = 0\n",
    "    while i <len(arr[z]):\n",
    "        m = False\n",
    "        if arr[z][i] not in dup[z]:\n",
    "            duplicates[z][arr[z][i]] = []\n",
    "            for j in range(i+1,len(arr[z])):\n",
    "                if np.sum(images[z][i][1] == images[z][j][1])/no > 0.1 or np.sum(images[z][i][1] == np.flip(images[z][j][1], 1))/no > 0.1:\n",
    "                    duplicates[z][arr[z][i]].append(arr[z][j])\n",
    "                    dup[z].append(arr[z][j])\n",
    "                    m = True\n",
    "        if m:\n",
    "            dup[z].append(arr[z][i])\n",
    "        i = i + 1\n",
    "    z = z+1"
   ]
  },
  {
   "cell_type": "code",
   "execution_count": 9,
   "metadata": {},
   "outputs": [
    {
     "data": {
      "text/plain": [
       "[['BigBen352.jpeg',\n",
       "  'Eiffel102.jpeg',\n",
       "  'Eiffel205.jpeg',\n",
       "  'Eiffel29.jpeg',\n",
       "  'Eiffel866.jpeg',\n",
       "  'Pisa119.jpeg',\n",
       "  'Tower Bridge237.jpeg',\n",
       "  'BigBen235.jpeg',\n",
       "  'Eiffel351.jpeg',\n",
       "  'Eiffel479.jpeg',\n",
       "  'Eiffel718.jpeg',\n",
       "  'Eiffel719.jpeg',\n",
       "  'Pisa414.jpeg',\n",
       "  'Eiffel0.jpeg',\n",
       "  'Eiffel348.jpeg',\n",
       "  'Eiffel1.jpeg',\n",
       "  'Eiffel105.jpeg',\n",
       "  'Eiffel358.jpeg',\n",
       "  'Tower Bridge148.jpeg',\n",
       "  'Eiffel10.jpeg',\n",
       "  'Eiffel433.jpeg',\n",
       "  'Eiffel551.jpeg',\n",
       "  'Tower Bridge191.jpeg',\n",
       "  'Eiffel100.jpeg',\n",
       "  'Eiffel27.jpeg',\n",
       "  'Pisa411.jpeg',\n",
       "  'Tower Bridge181.jpeg',\n",
       "  'Triomphe224.jpeg',\n",
       "  'Eiffel101.jpeg',\n",
       "  'Eiffel867.jpeg',\n",
       "  'Tower Bridge66.jpeg',\n",
       "  'Eiffel104.jpeg',\n",
       "  'Eiffel38.jpeg',\n",
       "  'Eiffel106.jpeg',\n",
       "  'Eiffel491.jpeg',\n",
       "  'Pisa430.jpeg',\n",
       "  'Tower Bridge228.jpeg',\n",
       "  'Eiffel107.jpeg',\n",
       "  'Eiffel55.jpeg',\n",
       "  'Eiffel108.jpeg',\n",
       "  'Eiffel214.jpeg',\n",
       "  'Eiffel651.jpeg',\n",
       "  'Eiffel657.jpeg',\n",
       "  'Eiffel924.jpeg',\n",
       "  'Pisa660.jpeg',\n",
       "  'Tower Bridge72.jpeg',\n",
       "  'Tower Bridge77.jpeg',\n",
       "  'Eiffel109.jpeg',\n",
       "  'Pisa619.jpeg',\n",
       "  'Eiffel11.jpeg',\n",
       "  'Eiffel946.jpeg',\n",
       "  'Eiffel110.jpeg',\n",
       "  'Eiffel268.jpeg',\n",
       "  'Eiffel528.jpeg',\n",
       "  'Pisa423.jpeg',\n",
       "  'Eiffel111.jpeg',\n",
       "  'Eiffel569.jpeg',\n",
       "  'Eiffel112.jpeg',\n",
       "  'Eiffel137.jpeg',\n",
       "  'Eiffel247.jpeg',\n",
       "  'Eiffel250.jpeg',\n",
       "  'Eiffel519.jpeg',\n",
       "  'Eiffel792.jpeg',\n",
       "  'Liberty941.jpeg',\n",
       "  'Eiffel113.jpeg',\n",
       "  'Eiffel133.jpeg',\n",
       "  'Eiffel78.jpeg',\n",
       "  'Tower Bridge169.jpeg',\n",
       "  'Triomphe193.jpeg',\n",
       "  'Triomphe200.jpeg',\n",
       "  'Eiffel115.jpeg',\n",
       "  'Eiffel126.jpeg',\n",
       "  'Eiffel117.jpeg',\n",
       "  'Eiffel246.jpeg',\n",
       "  'Eiffel789.jpeg',\n",
       "  'Triomphe257.jpeg',\n",
       "  'Eiffel118.jpeg',\n",
       "  'Eiffel123.jpeg',\n",
       "  'Eiffel119.jpeg',\n",
       "  'Eiffel710.jpeg',\n",
       "  'Eiffel12.jpeg',\n",
       "  'Eiffel77.jpeg',\n",
       "  'Pisa394.jpeg',\n",
       "  'Tower Bridge189.jpeg',\n",
       "  'Eiffel121.jpeg',\n",
       "  'Eiffel405.jpeg',\n",
       "  'Eiffel802.jpeg',\n",
       "  'Pisa438.jpeg',\n",
       "  'Tower Bridge233.jpeg',\n",
       "  'Eiffel122.jpeg',\n",
       "  'Eiffel854.jpeg',\n",
       "  'Eiffel860.jpeg',\n",
       "  'Eiffel124.jpeg',\n",
       "  'Eiffel478.jpeg',\n",
       "  'Eiffel87.jpeg',\n",
       "  'Pisa449.jpeg',\n",
       "  'Tower Bridge133.jpeg',\n",
       "  'Triomphe87.jpeg',\n",
       "  'Eiffel125.jpeg',\n",
       "  'Eiffel202.jpeg',\n",
       "  'Eiffel213.jpeg',\n",
       "  'Eiffel28.jpeg',\n",
       "  'Eiffel428.jpeg',\n",
       "  'Pisa439.jpeg',\n",
       "  'Pisa487.jpeg',\n",
       "  'Tower Bridge258.jpeg',\n",
       "  'Eiffel127.jpeg',\n",
       "  'Eiffel420.jpeg',\n",
       "  'Triomphe50.jpeg',\n",
       "  'Eiffel129.jpeg',\n",
       "  'Eiffel412.jpeg',\n",
       "  'Eiffel501.jpeg',\n",
       "  'Eiffel552.jpeg',\n",
       "  'Eiffel881.jpeg',\n",
       "  'Eiffel13.jpeg',\n",
       "  'Eiffel494.jpeg',\n",
       "  'Eiffel579.jpeg',\n",
       "  'Eiffel804.jpeg',\n",
       "  'Eiffel130.jpeg',\n",
       "  'Eiffel667.jpeg',\n",
       "  'Eiffel788.jpeg',\n",
       "  'Pisa422.jpeg',\n",
       "  'Eiffel132.jpeg',\n",
       "  'Eiffel22.jpeg',\n",
       "  'Pisa444.jpeg',\n",
       "  'Eiffel134.jpeg',\n",
       "  'Eiffel446.jpeg',\n",
       "  'Eiffel821.jpeg',\n",
       "  'Eiffel136.jpeg',\n",
       "  'Eiffel71.jpeg',\n",
       "  'Eiffel781.jpeg',\n",
       "  'Eiffel902.jpeg',\n",
       "  'Pisa108.jpeg',\n",
       "  'Pisa110.jpeg',\n",
       "  'Pisa310.jpeg',\n",
       "  'Tower Bridge250.jpeg',\n",
       "  'Eiffel138.jpeg',\n",
       "  'Eiffel62.jpeg',\n",
       "  'Eiffel865.jpeg',\n",
       "  'Eiffel869.jpeg',\n",
       "  'Liberty960.jpeg',\n",
       "  'Pisa431.jpeg',\n",
       "  'Tower Bridge247.jpeg',\n",
       "  'Tower Bridge370.jpeg',\n",
       "  'Eiffel139.jpeg',\n",
       "  'Eiffel244.jpeg',\n",
       "  'Eiffel380.jpeg',\n",
       "  'Eiffel576.jpeg',\n",
       "  'Liberty581.jpeg',\n",
       "  'Eiffel14.jpeg',\n",
       "  'Eiffel480.jpeg',\n",
       "  'Eiffel63.jpeg',\n",
       "  'Eiffel630.jpeg',\n",
       "  'Eiffel794.jpeg',\n",
       "  'Pisa467.jpeg',\n",
       "  'Eiffel140.jpeg',\n",
       "  'Eiffel377.jpeg',\n",
       "  'Eiffel627.jpeg',\n",
       "  'Eiffel141.jpeg',\n",
       "  'Eiffel30.jpeg',\n",
       "  'Eiffel783.jpeg',\n",
       "  'Eiffel142.jpeg',\n",
       "  'Eiffel254.jpeg',\n",
       "  'Eiffel53.jpeg',\n",
       "  'Eiffel563.jpeg',\n",
       "  'Tower Bridge101.jpeg',\n",
       "  'Tower Bridge206.jpeg',\n",
       "  'Triomphe183.jpeg',\n",
       "  'Eiffel144.jpeg',\n",
       "  'Eiffel370.jpeg',\n",
       "  'Eiffel416.jpeg',\n",
       "  'Pisa407.jpeg',\n",
       "  'Pisa481.jpeg',\n",
       "  'Eiffel145.jpeg',\n",
       "  'Eiffel383.jpeg',\n",
       "  'Eiffel684.jpeg',\n",
       "  'Tower Bridge137.jpeg',\n",
       "  'Eiffel146.jpeg',\n",
       "  'Eiffel777.jpeg',\n",
       "  'Eiffel147.jpeg',\n",
       "  'Eiffel361.jpeg',\n",
       "  'Eiffel6.jpeg',\n",
       "  'Liberty353.jpeg',\n",
       "  'Liberty359.jpeg',\n",
       "  'Pisa451.jpeg',\n",
       "  'Eiffel148.jpeg',\n",
       "  'Eiffel204.jpeg',\n",
       "  'Eiffel149.jpeg',\n",
       "  'Eiffel263.jpeg',\n",
       "  'Eiffel265.jpeg',\n",
       "  'Eiffel942.jpeg',\n",
       "  'Pisa462.jpeg',\n",
       "  'Eiffel153.jpeg',\n",
       "  'Eiffel660.jpeg',\n",
       "  'Eiffel154.jpeg',\n",
       "  'Eiffel399.jpeg',\n",
       "  'Tower Bridge33.jpeg',\n",
       "  'Tower Bridge79.jpeg',\n",
       "  'Eiffel155.jpeg',\n",
       "  'Eiffel229.jpeg',\n",
       "  'Eiffel674.jpeg',\n",
       "  'Eiffel160.jpeg',\n",
       "  'Eiffel327.jpeg',\n",
       "  'Eiffel381.jpeg',\n",
       "  'Eiffel533.jpeg',\n",
       "  'Eiffel162.jpeg',\n",
       "  'Eiffel396.jpeg',\n",
       "  'Eiffel529.jpeg',\n",
       "  'Eiffel164.jpeg',\n",
       "  'Eiffel908.jpeg',\n",
       "  'Eiffel166.jpeg',\n",
       "  'Eiffel208.jpeg',\n",
       "  'Eiffel236.jpeg',\n",
       "  'Eiffel245.jpeg',\n",
       "  'Eiffel875.jpeg',\n",
       "  'Notre-Dame432.jpeg',\n",
       "  'Pisa446.jpeg',\n",
       "  'Pisa476.jpeg',\n",
       "  'Tower Bridge240.jpeg',\n",
       "  'Eiffel167.jpeg',\n",
       "  'Eiffel704.jpeg',\n",
       "  'Eiffel169.jpeg',\n",
       "  'Eiffel248.jpeg',\n",
       "  'Eiffel703.jpeg',\n",
       "  'Pisa586.jpeg',\n",
       "  'Pisa598.jpeg',\n",
       "  'Tower Bridge205.jpeg',\n",
       "  'Eiffel17.jpeg',\n",
       "  'Eiffel391.jpeg',\n",
       "  'Eiffel605.jpeg',\n",
       "  'Washington215.jpeg',\n",
       "  'Eiffel171.jpeg',\n",
       "  'Tower Bridge142.jpeg',\n",
       "  'Triomphe188.jpeg',\n",
       "  'Triomphe215.jpeg',\n",
       "  'Eiffel172.jpeg',\n",
       "  'Eiffel531.jpeg',\n",
       "  'Eiffel562.jpeg',\n",
       "  'Eiffel174.jpeg',\n",
       "  'Eiffel496.jpeg',\n",
       "  'Pisa468.jpeg',\n",
       "  'Eiffel175.jpeg',\n",
       "  'Eiffel617.jpeg',\n",
       "  'Eiffel678.jpeg',\n",
       "  'Eiffel176.jpeg',\n",
       "  'Eiffel955.jpeg',\n",
       "  'Eiffel177.jpeg',\n",
       "  'Eiffel376.jpeg',\n",
       "  'Eiffel701.jpeg',\n",
       "  'Eiffel18.jpeg',\n",
       "  'Eiffel559.jpeg',\n",
       "  'Eiffel180.jpeg',\n",
       "  'Eiffel905.jpeg',\n",
       "  'Eiffel181.jpeg',\n",
       "  'Eiffel192.jpeg',\n",
       "  'Eiffel244.jpeg',\n",
       "  'Eiffel252.jpeg',\n",
       "  'Eiffel253.jpeg',\n",
       "  'Eiffel292.jpeg',\n",
       "  'Eiffel388.jpeg',\n",
       "  'Eiffel404.jpeg',\n",
       "  'Eiffel421.jpeg',\n",
       "  'Eiffel498.jpeg',\n",
       "  'Eiffel539.jpeg',\n",
       "  'Eiffel568.jpeg',\n",
       "  'Eiffel635.jpeg',\n",
       "  'Eiffel650.jpeg',\n",
       "  'Eiffel661.jpeg',\n",
       "  'Eiffel685.jpeg',\n",
       "  'Eiffel772.jpeg',\n",
       "  'Eiffel778.jpeg',\n",
       "  'Eiffel813.jpeg',\n",
       "  'Triomphe202.jpeg',\n",
       "  'Eiffel182.jpeg',\n",
       "  'Eiffel224.jpeg',\n",
       "  'Eiffel183.jpeg',\n",
       "  'Eiffel679.jpeg',\n",
       "  'Eiffel184.jpeg',\n",
       "  'Eiffel572.jpeg',\n",
       "  'Eiffel580.jpeg',\n",
       "  'Eiffel714.jpeg',\n",
       "  'Eiffel187.jpeg',\n",
       "  'Eiffel634.jpeg',\n",
       "  'Eiffel189.jpeg',\n",
       "  'Eiffel676.jpeg',\n",
       "  'Eiffel782.jpeg',\n",
       "  'Eiffel19.jpeg',\n",
       "  'Eiffel485.jpeg',\n",
       "  'Eiffel190.jpeg',\n",
       "  'Eiffel210.jpeg',\n",
       "  'Eiffel242.jpeg',\n",
       "  'Eiffel193.jpeg',\n",
       "  'Eiffel368.jpeg',\n",
       "  'Tower Bridge361.jpeg',\n",
       "  'Triomphe190.jpeg',\n",
       "  'Triomphe223.jpeg',\n",
       "  'Eiffel195.jpeg',\n",
       "  'Notre-Dame494.jpeg',\n",
       "  'Pisa459.jpeg',\n",
       "  'Eiffel199.jpeg',\n",
       "  'Eiffel349.jpeg',\n",
       "  'Eiffel766.jpeg',\n",
       "  'Eiffel793.jpeg',\n",
       "  'Notre-Dame497.jpeg',\n",
       "  'Pisa366.jpeg',\n",
       "  'Pisa59.jpeg',\n",
       "  'Triomphe105.jpeg',\n",
       "  'Eiffel2.jpeg',\n",
       "  'Eiffel435.jpeg',\n",
       "  'Eiffel505.jpeg',\n",
       "  'Eiffel732.jpeg',\n",
       "  'Eiffel900.jpeg',\n",
       "  'Eiffel904.jpeg',\n",
       "  'Pisa453.jpeg',\n",
       "  'Pisa485.jpeg',\n",
       "  'Tower Bridge238.jpeg',\n",
       "  'Tower Bridge400.jpeg',\n",
       "  'Eiffel20.jpeg',\n",
       "  'Eiffel961.jpeg',\n",
       "  'Triomphe211.jpeg',\n",
       "  'Eiffel200.jpeg',\n",
       "  'Eiffel227.jpeg',\n",
       "  'Eiffel409.jpeg',\n",
       "  'Eiffel52.jpeg',\n",
       "  'Eiffel620.jpeg',\n",
       "  'Liberty72.jpeg',\n",
       "  'Pisa464.jpeg',\n",
       "  'Pisa666.jpeg',\n",
       "  'Tower Bridge254.jpeg',\n",
       "  'Tower Bridge354.jpeg',\n",
       "  'Eiffel201.jpeg',\n",
       "  'Eiffel226.jpeg',\n",
       "  'Eiffel203.jpeg',\n",
       "  'Eiffel34.jpeg',\n",
       "  'Eiffel811.jpeg',\n",
       "  'Eiffel209.jpeg',\n",
       "  'Eiffel225.jpeg',\n",
       "  'Eiffel21.jpeg',\n",
       "  'Eiffel382.jpeg',\n",
       "  'Eiffel85.jpeg',\n",
       "  'Eiffel906.jpeg',\n",
       "  'Eiffel211.jpeg',\n",
       "  'Eiffel74.jpeg',\n",
       "  'Eiffel784.jpeg',\n",
       "  'Eiffel219.jpeg',\n",
       "  'Eiffel271.jpeg',\n",
       "  'Eiffel99.jpeg',\n",
       "  'Pisa442.jpeg',\n",
       "  'Tower Bridge243.jpeg',\n",
       "  'Triomphe53.jpeg',\n",
       "  'Eiffel220.jpeg',\n",
       "  'Eiffel238.jpeg',\n",
       "  'Eiffel221.jpeg',\n",
       "  'Eiffel422.jpeg',\n",
       "  'Eiffel530.jpeg',\n",
       "  'Eiffel543.jpeg',\n",
       "  'Eiffel762.jpeg',\n",
       "  'Eiffel795.jpeg',\n",
       "  'Eiffel815.jpeg',\n",
       "  'Eiffel951.jpeg',\n",
       "  'Pisa249.jpeg',\n",
       "  'Eiffel222.jpeg',\n",
       "  'Eiffel899.jpeg',\n",
       "  'Eiffel92.jpeg',\n",
       "  'Eiffel945.jpeg',\n",
       "  'Notre-Dame218.jpeg',\n",
       "  'Pisa426.jpeg',\n",
       "  'Eiffel223.jpeg',\n",
       "  'Eiffel4.jpeg',\n",
       "  'Eiffel612.jpeg',\n",
       "  'Eiffel228.jpeg',\n",
       "  'Eiffel350.jpeg',\n",
       "  'Eiffel481.jpeg',\n",
       "  'Tower Bridge138.jpeg',\n",
       "  'Tower Bridge28.jpeg',\n",
       "  'Eiffel23.jpeg',\n",
       "  'Eiffel695.jpeg',\n",
       "  'Eiffel231.jpeg',\n",
       "  'Eiffel353.jpeg',\n",
       "  'Eiffel407.jpeg',\n",
       "  'Eiffel41.jpeg',\n",
       "  'Eiffel515.jpeg',\n",
       "  'Eiffel658.jpeg',\n",
       "  'Eiffel691.jpeg',\n",
       "  'Eiffel923.jpeg',\n",
       "  'Pisa408.jpeg',\n",
       "  'Tower Bridge193.jpeg',\n",
       "  'Eiffel233.jpeg',\n",
       "  'Eiffel284.jpeg',\n",
       "  'Eiffel235.jpeg',\n",
       "  'Eiffel363.jpeg',\n",
       "  'Eiffel611.jpeg',\n",
       "  'Eiffel705.jpeg',\n",
       "  'Eiffel24.jpeg',\n",
       "  'Eiffel402.jpeg',\n",
       "  'Eiffel770.jpeg',\n",
       "  'Eiffel786.jpeg',\n",
       "  'Eiffel241.jpeg',\n",
       "  'Eiffel275.jpeg',\n",
       "  'Eiffel251.jpeg',\n",
       "  'Triomphe77.jpeg',\n",
       "  'Eiffel256.jpeg',\n",
       "  'Eiffel484.jpeg',\n",
       "  'Tower Bridge105.jpeg',\n",
       "  'Eiffel259.jpeg',\n",
       "  'Notre-Dame190.jpeg',\n",
       "  'Tower Bridge203.jpeg',\n",
       "  'Eiffel26.jpeg',\n",
       "  'Eiffel417.jpeg',\n",
       "  'Eiffel521.jpeg',\n",
       "  'Eiffel621.jpeg',\n",
       "  'Pisa460.jpeg',\n",
       "  'Eiffel260.jpeg',\n",
       "  'Pisa244.jpeg',\n",
       "  'Eiffel261.jpeg',\n",
       "  'Eiffel385.jpeg',\n",
       "  'Eiffel943.jpeg',\n",
       "  'Pisa264.jpeg',\n",
       "  'Eiffel262.jpeg',\n",
       "  'Eiffel518.jpeg',\n",
       "  'Eiffel84.jpeg',\n",
       "  'Pisa319.jpeg',\n",
       "  'Eiffel266.jpeg',\n",
       "  'Eiffel296.jpeg',\n",
       "  'Eiffel272.jpeg',\n",
       "  'Eiffel524.jpeg',\n",
       "  'Eiffel646.jpeg',\n",
       "  'Pisa600.jpeg',\n",
       "  'Triomphe192.jpeg',\n",
       "  'Eiffel273.jpeg',\n",
       "  'Triomphe82.jpeg',\n",
       "  'Eiffel274.jpeg']]"
      ]
     },
     "execution_count": 9,
     "metadata": {},
     "output_type": "execute_result"
    }
   ],
   "source": [
    "dup"
   ]
  },
  {
   "cell_type": "code",
   "execution_count": 29,
   "metadata": {
    "scrolled": false
   },
   "outputs": [
    {
     "name": "stdout",
     "output_type": "stream",
     "text": [
      "True\n",
      "55 55\n",
      "No of images I need for validation\n",
      "14\n",
      "No of images I have for validation\n",
      "15\n",
      "0.7857142857142857\n"
     ]
    }
   ],
   "source": [
    "for i in range(0, len(folder_names)):\n",
    "    print(len(set(dup[i])) == len(dup[i]))\n",
    "    print(len(set(dup[i])), len(dup[i]))\n",
    "    print('No of images I need for validation')\n",
    "    print(math.floor(len(arr[i])*0.2))\n",
    "    print('No of images I have for validation')\n",
    "    print(len(arr[i]) - len(set(dup[i])))\n",
    "    print(len(set(dup[i]))/ len(arr[i]))"
   ]
  },
  {
   "cell_type": "code",
   "execution_count": 30,
   "metadata": {},
   "outputs": [],
   "source": [
    "val = []\n",
    "set_difference = []\n",
    "unique = []\n",
    "for i in range(0, len(folder_names)):\n",
    "    set_difference.append(set(arr[i]) - set(dup[i]))\n",
    "    unique.append(list(set_difference[i]))\n",
    "    val.append(random.sample(set(unique[i]), math.floor(len(arr[i])*0.2)))"
   ]
  },
  {
   "cell_type": "markdown",
   "metadata": {},
   "source": [
    "Before doing this delete all the images in the folders!!"
   ]
  },
  {
   "cell_type": "code",
   "execution_count": 31,
   "metadata": {},
   "outputs": [],
   "source": [
    "# len(folder_names)\n",
    "for z in range(0, len(folder_names)):\n",
    "    for i in images[z]:\n",
    "        if i[0] in val[z]:\n",
    "            Image.fromarray(i[1]).save(folder_names[z] + '/validation/' + i[0])\n",
    "        else:\n",
    "            Image.fromarray(i[1]).save(folder_names[z] + '/training/' + i[0])"
   ]
  },
  {
   "cell_type": "markdown",
   "metadata": {},
   "source": [
    "## Training and Validation sets"
   ]
  },
  {
   "cell_type": "code",
   "execution_count": 2,
   "metadata": {},
   "outputs": [],
   "source": [
    "batch_size = 32\n",
    "img_height = 400\n",
    "img_width = 600"
   ]
  },
  {
   "cell_type": "code",
   "execution_count": 204,
   "metadata": {},
   "outputs": [
    {
     "name": "stdout",
     "output_type": "stream",
     "text": [
      "Found 1915 files belonging to 10 classes.\n"
     ]
    }
   ],
   "source": [
    "train_ds = tf.keras.preprocessing.image_dataset_from_directory(\n",
    "  \"images_model/Training\",\n",
    "  validation_split=None,\n",
    "  subset=None,\n",
    "  seed=None,\n",
    "  image_size=(img_height, img_width),\n",
    "  batch_size=batch_size)"
   ]
  },
  {
   "cell_type": "code",
   "execution_count": 205,
   "metadata": {},
   "outputs": [
    {
     "name": "stdout",
     "output_type": "stream",
     "text": [
      "Found 473 files belonging to 10 classes.\n"
     ]
    }
   ],
   "source": [
    "val_ds = tf.keras.preprocessing.image_dataset_from_directory(\n",
    "  \"images_model/Validation\",\n",
    "  validation_split=None,\n",
    "  subset=None,\n",
    "  seed=None,\n",
    "  image_size=(img_height, img_width),\n",
    "  batch_size=batch_size)"
   ]
  },
  {
   "cell_type": "code",
   "execution_count": 206,
   "metadata": {
    "scrolled": true
   },
   "outputs": [
    {
     "name": "stdout",
     "output_type": "stream",
     "text": [
      "['Basilica', 'Eiffel', 'Liberty', 'Notre-Dame', 'Pisa', 'TowerBridge', 'Triomphe', 'Wall', 'Washington', 'bigBen']\n"
     ]
    }
   ],
   "source": [
    "class_names = train_ds.class_names\n",
    "num_classes = len(class_names)\n",
    "print(class_names)"
   ]
  },
  {
   "cell_type": "markdown",
   "metadata": {},
   "source": [
    "# Changing filter size"
   ]
  },
  {
   "cell_type": "code",
   "execution_count": 232,
   "metadata": {},
   "outputs": [],
   "source": [
    "model66 = models.Sequential()\n",
    "# Conv2D(#filters, size of filter, )\n",
    "model66.add(layers.experimental.preprocessing.Rescaling(1./255, input_shape=(img_height, img_width, 3)))\n",
    "model66.add(layers.Conv2D(96, (11, 11), strides=(4, 4), padding= 'valid', input_shape=(img_height, img_width, 3),data_format='channels_last'))\n",
    "model66.add(layers.Activation('relu'))\n",
    "model66.add(layers.MaxPooling2D(pool_size=(3, 3), strides=(2, 2)))\n",
    "\n",
    "model66.add(layers.Conv2D(256, (5, 5), strides=(1, 1), padding = 'same'))\n",
    "model66.add(layers.Activation('relu'))\n",
    "model66.add(layers.MaxPooling2D(pool_size=(3, 3), strides=(2, 2)))\n",
    "\n",
    "model66.add(layers.Conv2D(384, (3, 3), padding = 'same'))\n",
    "model66.add(layers.Activation('relu'))\n",
    "model66.add(layers.Conv2D(384, (3, 3), padding = 'same'))\n",
    "model66.add(layers.Activation('relu'))\n",
    "model66.add(layers.Conv2D(384, (3, 3), padding = 'same'))\n",
    "model66.add(layers.Activation('relu'))\n",
    "model66.add(layers.MaxPooling2D(pool_size=(2, 2)))\n",
    "\n",
    "model66.add(layers.Flatten())\n",
    "model66.add(layers.Dense(128))\n",
    "model66.add(layers.Activation('relu'))\n",
    "model66.add(layers.Dropout(0.3))\n",
    "model66.add(layers.Dense(128))\n",
    "model66.add(layers.Activation('relu'))\n",
    "model66.add(layers.Dropout(0.3))\n",
    "model66.add(layers.Dense(num_classes))\n",
    "model66.add(layers.Activation('softmax'))\n",
    "\n",
    "model66.compile(optimizer = 'adam',\n",
    "            # optimizer = tf.optimizers.SGD(lr=0.001),\n",
    "              loss = tf.keras.losses.SparseCategoricalCrossentropy(from_logits=True),\n",
    "              metrics = ['accuracy'])"
   ]
  },
  {
   "cell_type": "code",
   "execution_count": 233,
   "metadata": {},
   "outputs": [
    {
     "name": "stdout",
     "output_type": "stream",
     "text": [
      "Model: \"sequential_34\"\n",
      "_________________________________________________________________\n",
      "Layer (type)                 Output Shape              Param #   \n",
      "=================================================================\n",
      "rescaling_30 (Rescaling)     (None, 400, 600, 3)       0         \n",
      "_________________________________________________________________\n",
      "conv2d_108 (Conv2D)          (None, 98, 148, 96)       34944     \n",
      "_________________________________________________________________\n",
      "activation_168 (Activation)  (None, 98, 148, 96)       0         \n",
      "_________________________________________________________________\n",
      "max_pooling2d_97 (MaxPooling (None, 48, 73, 96)        0         \n",
      "_________________________________________________________________\n",
      "conv2d_109 (Conv2D)          (None, 48, 73, 256)       614656    \n",
      "_________________________________________________________________\n",
      "activation_169 (Activation)  (None, 48, 73, 256)       0         \n",
      "_________________________________________________________________\n",
      "max_pooling2d_98 (MaxPooling (None, 23, 36, 256)       0         \n",
      "_________________________________________________________________\n",
      "conv2d_110 (Conv2D)          (None, 23, 36, 384)       885120    \n",
      "_________________________________________________________________\n",
      "activation_170 (Activation)  (None, 23, 36, 384)       0         \n",
      "_________________________________________________________________\n",
      "conv2d_111 (Conv2D)          (None, 23, 36, 384)       1327488   \n",
      "_________________________________________________________________\n",
      "activation_171 (Activation)  (None, 23, 36, 384)       0         \n",
      "_________________________________________________________________\n",
      "conv2d_112 (Conv2D)          (None, 23, 36, 384)       1327488   \n",
      "_________________________________________________________________\n",
      "activation_172 (Activation)  (None, 23, 36, 384)       0         \n",
      "_________________________________________________________________\n",
      "max_pooling2d_99 (MaxPooling (None, 11, 18, 384)       0         \n",
      "_________________________________________________________________\n",
      "flatten_27 (Flatten)         (None, 76032)             0         \n",
      "_________________________________________________________________\n",
      "dense_60 (Dense)             (None, 128)               9732224   \n",
      "_________________________________________________________________\n",
      "activation_173 (Activation)  (None, 128)               0         \n",
      "_________________________________________________________________\n",
      "dropout_33 (Dropout)         (None, 128)               0         \n",
      "_________________________________________________________________\n",
      "dense_61 (Dense)             (None, 128)               16512     \n",
      "_________________________________________________________________\n",
      "activation_174 (Activation)  (None, 128)               0         \n",
      "_________________________________________________________________\n",
      "dropout_34 (Dropout)         (None, 128)               0         \n",
      "_________________________________________________________________\n",
      "dense_62 (Dense)             (None, 10)                1290      \n",
      "_________________________________________________________________\n",
      "activation_175 (Activation)  (None, 10)                0         \n",
      "=================================================================\n",
      "Total params: 13,939,722\n",
      "Trainable params: 13,939,722\n",
      "Non-trainable params: 0\n",
      "_________________________________________________________________\n"
     ]
    }
   ],
   "source": [
    "model66.summary()"
   ]
  },
  {
   "cell_type": "code",
   "execution_count": 234,
   "metadata": {},
   "outputs": [
    {
     "name": "stdout",
     "output_type": "stream",
     "text": [
      "Epoch 1/10\n",
      "60/60 [==============================] - 586s 10s/step - loss: 2.2863 - accuracy: 0.3129 - val_loss: 1.8643 - val_accuracy: 0.3742\n",
      "Epoch 2/10\n",
      "60/60 [==============================] - 603s 10s/step - loss: 1.8961 - accuracy: 0.3544 - val_loss: 1.8394 - val_accuracy: 0.3742\n",
      "Epoch 3/10\n",
      "60/60 [==============================] - 571s 10s/step - loss: 1.9170 - accuracy: 0.3651 - val_loss: 1.8324 - val_accuracy: 0.3742\n",
      "Epoch 4/10\n",
      "60/60 [==============================] - 547s 9s/step - loss: 1.8480 - accuracy: 0.3786 - val_loss: 1.8394 - val_accuracy: 0.3742\n",
      "Epoch 5/10\n",
      "60/60 [==============================] - 534s 9s/step - loss: 1.8707 - accuracy: 0.3800 - val_loss: 1.8496 - val_accuracy: 0.3742\n",
      "Epoch 6/10\n",
      "60/60 [==============================] - 536s 9s/step - loss: 1.8648 - accuracy: 0.3781 - val_loss: 1.8480 - val_accuracy: 0.3742\n",
      "Epoch 7/10\n",
      "60/60 [==============================] - 537s 9s/step - loss: 1.8417 - accuracy: 0.3746 - val_loss: 1.8465 - val_accuracy: 0.3742\n",
      "Epoch 8/10\n",
      "60/60 [==============================] - 531s 9s/step - loss: 1.8414 - accuracy: 0.3719 - val_loss: 1.8714 - val_accuracy: 0.3742\n",
      "Epoch 9/10\n",
      "60/60 [==============================] - 550s 9s/step - loss: 1.8519 - accuracy: 0.3768 - val_loss: 1.8363 - val_accuracy: 0.3742\n",
      "Epoch 10/10\n",
      "60/60 [==============================] - 556s 9s/step - loss: 1.8360 - accuracy: 0.3791 - val_loss: 1.8606 - val_accuracy: 0.3742\n"
     ]
    }
   ],
   "source": [
    "epochs = 10\n",
    "history66 = model66.fit(\n",
    "  train_ds,\n",
    "  validation_data=val_ds,\n",
    "  epochs=epochs\n",
    ") "
   ]
  },
  {
   "cell_type": "code",
   "execution_count": 240,
   "metadata": {},
   "outputs": [
    {
     "data": {
      "text/plain": [
       "{'name': 'SGD',\n",
       " 'learning_rate': 0.01,\n",
       " 'decay': 0.0,\n",
       " 'momentum': 0.0,\n",
       " 'nesterov': False}"
      ]
     },
     "execution_count": 240,
     "metadata": {},
     "output_type": "execute_result"
    }
   ],
   "source": [
    "model66.optimizer.get_config()"
   ]
  },
  {
   "cell_type": "code",
   "execution_count": 238,
   "metadata": {},
   "outputs": [
    {
     "data": {
      "image/png": "[encoded data removed]",
      "text/plain": [
       "<Figure size 576x576 with 2 Axes>"
      ]
     },
     "metadata": {
      "needs_background": "light"
     },
     "output_type": "display_data"
    }
   ],
   "source": [
    "acc = history66.history['accuracy']\n",
    "val_acc = history66.history['val_accuracy']\n",
    "\n",
    "loss = history66.history['loss']\n",
    "val_loss = history66.history['val_loss']\n",
    "\n",
    "epochs_range = range(epochs)\n",
    "\n",
    "plt.figure(figsize=(8, 8))\n",
    "plt.subplot(1, 2, 1)\n",
    "plt.plot(epochs_range, acc, label='Training Accuracy')\n",
    "plt.plot(epochs_range, val_acc, label='Validation Accuracy')\n",
    "plt.legend(loc='lower right')\n",
    "plt.title('Training and Validation Accuracy')\n",
    "\n",
    "plt.subplot(1, 2, 2)\n",
    "plt.plot(epochs_range, loss, label='Training Loss')\n",
    "plt.plot(epochs_range, val_loss, label='Validation Loss')\n",
    "plt.legend(loc='upper right')\n",
    "plt.title('Training and Validation Loss')\n",
    "plt.show()"
   ]
  },
  {
   "cell_type": "markdown",
   "metadata": {},
   "source": [
    "## 1st Model"
   ]
  },
  {
   "cell_type": "code",
   "execution_count": 198,
   "metadata": {},
   "outputs": [],
   "source": [
    "model = models.Sequential()\n",
    "# Conv2D(#filters, size of filter, )\n",
    "model.add(layers.experimental.preprocessing.Rescaling(1./255, input_shape=(img_height, img_width, 3)))\n",
    "model.add(layers.Conv2D(32, (3, 3), padding= 'same', input_shape=(img_height, img_width, 3),data_format='channels_last'))\n",
    "model.add(layers.Activation('relu'))\n",
    "model.add(layers.MaxPooling2D(pool_size=(2, 2)))\n",
    "\n",
    "model.add(layers.Conv2D(64, (3, 3)))\n",
    "model.add(layers.Activation('relu'))\n",
    "model.add(layers.MaxPooling2D(pool_size=(2, 2)))\n",
    "\n",
    "model.add(layers.Conv2D(64, (3, 3)))\n",
    "model.add(layers.Activation('relu'))\n",
    "model.add(layers.MaxPooling2D(pool_size=(2, 2)))\n",
    "\n",
    "model.add(layers.Conv2D(64, (3, 3)))\n",
    "model.add(layers.Activation('relu'))\n",
    "model.add(layers.MaxPooling2D(pool_size=(2, 2)))\n",
    "\n",
    "model.add(layers.Flatten())\n",
    "model.add(layers.Dense(64))\n",
    "model.add(layers.Activation('relu'))\n",
    "model.add(layers.Dropout(0.2))\n",
    "model.add(layers.Dense(num_classes))\n",
    "model.add(layers.Activation('softmax'))\n",
    "\n",
    "model.compile(optimizer='SGD',\n",
    "              loss=tf.keras.losses.SparseCategoricalCrossentropy(from_logits=True),\n",
    "              metrics=['accuracy'])"
   ]
  },
  {
   "cell_type": "code",
   "execution_count": 236,
   "metadata": {},
   "outputs": [
    {
     "name": "stdout",
     "output_type": "stream",
     "text": [
      "Model: \"sequential_25\"\n",
      "_________________________________________________________________\n",
      "Layer (type)                 Output Shape              Param #   \n",
      "=================================================================\n",
      "rescaling_21 (Rescaling)     (None, 400, 600, 3)       0         \n",
      "_________________________________________________________________\n",
      "conv2d_69 (Conv2D)           (None, 400, 600, 32)      896       \n",
      "_________________________________________________________________\n",
      "activation_105 (Activation)  (None, 400, 600, 32)      0         \n",
      "_________________________________________________________________\n",
      "max_pooling2d_69 (MaxPooling (None, 200, 300, 32)      0         \n",
      "_________________________________________________________________\n",
      "conv2d_70 (Conv2D)           (None, 198, 298, 64)      18496     \n",
      "_________________________________________________________________\n",
      "activation_106 (Activation)  (None, 198, 298, 64)      0         \n",
      "_________________________________________________________________\n",
      "max_pooling2d_70 (MaxPooling (None, 99, 149, 64)       0         \n",
      "_________________________________________________________________\n",
      "conv2d_71 (Conv2D)           (None, 97, 147, 64)       36928     \n",
      "_________________________________________________________________\n",
      "activation_107 (Activation)  (None, 97, 147, 64)       0         \n",
      "_________________________________________________________________\n",
      "max_pooling2d_71 (MaxPooling (None, 48, 73, 64)        0         \n",
      "_________________________________________________________________\n",
      "conv2d_72 (Conv2D)           (None, 46, 71, 64)        36928     \n",
      "_________________________________________________________________\n",
      "activation_108 (Activation)  (None, 46, 71, 64)        0         \n",
      "_________________________________________________________________\n",
      "max_pooling2d_72 (MaxPooling (None, 23, 35, 64)        0         \n",
      "_________________________________________________________________\n",
      "flatten_18 (Flatten)         (None, 51520)             0         \n",
      "_________________________________________________________________\n",
      "dense_36 (Dense)             (None, 64)                3297344   \n",
      "_________________________________________________________________\n",
      "activation_109 (Activation)  (None, 64)                0         \n",
      "_________________________________________________________________\n",
      "dropout_18 (Dropout)         (None, 64)                0         \n",
      "_________________________________________________________________\n",
      "dense_37 (Dense)             (None, 10)                650       \n",
      "_________________________________________________________________\n",
      "activation_110 (Activation)  (None, 10)                0         \n",
      "=================================================================\n",
      "Total params: 3,391,242\n",
      "Trainable params: 3,391,242\n",
      "Non-trainable params: 0\n",
      "_________________________________________________________________\n"
     ]
    }
   ],
   "source": [
    "model.summary()"
   ]
  },
  {
   "cell_type": "code",
   "execution_count": 199,
   "metadata": {},
   "outputs": [
    {
     "name": "stdout",
     "output_type": "stream",
     "text": [
      "Epoch 1/10\n",
      "60/60 [==============================] - 452s 7s/step - loss: 2.0718 - accuracy: 0.3496 - val_loss: 1.8652 - val_accuracy: 0.3742\n",
      "Epoch 2/10\n",
      "60/60 [==============================] - 488s 8s/step - loss: 1.8803 - accuracy: 0.3660 - val_loss: 1.7257 - val_accuracy: 0.3932\n",
      "Epoch 3/10\n",
      "60/60 [==============================] - 449s 7s/step - loss: 1.7091 - accuracy: 0.4191 - val_loss: 1.5901 - val_accuracy: 0.4313\n",
      "Epoch 4/10\n",
      "60/60 [==============================] - 474s 8s/step - loss: 1.4792 - accuracy: 0.5062 - val_loss: 1.4427 - val_accuracy: 0.5201\n",
      "Epoch 5/10\n",
      "60/60 [==============================] - 594s 10s/step - loss: 1.3165 - accuracy: 0.5686 - val_loss: 1.3377 - val_accuracy: 0.5581\n",
      "Epoch 6/10\n",
      "60/60 [==============================] - 689s 11s/step - loss: 1.1580 - accuracy: 0.6215 - val_loss: 1.3160 - val_accuracy: 0.5793\n",
      "Epoch 7/10\n",
      "60/60 [==============================] - 436s 7s/step - loss: 0.9925 - accuracy: 0.6574 - val_loss: 1.2570 - val_accuracy: 0.5877\n",
      "Epoch 8/10\n",
      "60/60 [==============================] - 432s 7s/step - loss: 0.8946 - accuracy: 0.7037 - val_loss: 1.3710 - val_accuracy: 0.5962\n",
      "Epoch 9/10\n",
      "60/60 [==============================] - 457s 8s/step - loss: 0.7610 - accuracy: 0.7527 - val_loss: 1.2516 - val_accuracy: 0.6152\n",
      "Epoch 10/10\n",
      "60/60 [==============================] - 440s 7s/step - loss: 0.6450 - accuracy: 0.8035 - val_loss: 1.3185 - val_accuracy: 0.6152\n"
     ]
    }
   ],
   "source": [
    "epochs = 15\n",
    "history8 = model.fit(\n",
    "  train_ds,\n",
    "  validation_data=val_ds,\n",
    "  epochs=epochs\n",
    ") "
   ]
  },
  {
   "cell_type": "code",
   "execution_count": null,
   "metadata": {},
   "outputs": [],
   "source": [
    "model."
   ]
  },
  {
   "cell_type": "code",
   "execution_count": 239,
   "metadata": {},
   "outputs": [
    {
     "data": {
      "image/png": "[encoded data removed]",
      "text/plain": [
       "<Figure size 576x576 with 2 Axes>"
      ]
     },
     "metadata": {
      "needs_background": "light"
     },
     "output_type": "display_data"
    }
   ],
   "source": [
    "acc = history8.history['accuracy']\n",
    "val_acc = history8.history['val_accuracy']\n",
    "\n",
    "loss = history8.history['loss']\n",
    "val_loss = history8.history['val_loss']\n",
    "\n",
    "epochs_range = range(epochs)\n",
    "\n",
    "plt.figure(figsize=(8, 8))\n",
    "plt.subplot(1, 2, 1)\n",
    "plt.plot(epochs_range, acc, label='Training Accuracy')\n",
    "plt.plot(epochs_range, val_acc, label='Validation Accuracy')\n",
    "plt.legend(loc='lower right')\n",
    "plt.title('Training and Validation Accuracy')\n",
    "\n",
    "plt.subplot(1, 2, 2)\n",
    "plt.plot(epochs_range, loss, label='Training Loss')\n",
    "plt.plot(epochs_range, val_loss, label='Validation Loss')\n",
    "plt.legend(loc='upper right')\n",
    "plt.title('Training and Validation Loss')\n",
    "plt.show()"
   ]
  },
  {
   "cell_type": "markdown",
   "metadata": {},
   "source": [
    "# Run this\n",
    "### with RMSprop"
   ]
  },
  {
   "cell_type": "code",
   "execution_count": 196,
   "metadata": {},
   "outputs": [
    {
     "name": "stdout",
     "output_type": "stream",
     "text": [
      "Epoch 1/10\n",
      "60/60 [==============================] - 477s 8s/step - loss: 1.1049 - accuracy: 0.6517 - val_loss: 1.2319 - val_accuracy: 0.5983\n",
      "Epoch 2/10\n",
      "60/60 [==============================] - 476s 8s/step - loss: 0.6996 - accuracy: 0.7775 - val_loss: 1.1482 - val_accuracy: 0.6490\n",
      "Epoch 3/10\n",
      "60/60 [==============================] - 489s 8s/step - loss: 0.3714 - accuracy: 0.8856 - val_loss: 1.4922 - val_accuracy: 0.6321\n",
      "Epoch 4/10\n",
      "60/60 [==============================] - 461s 8s/step - loss: 0.2649 - accuracy: 0.9191 - val_loss: 1.7596 - val_accuracy: 0.6512\n",
      "Epoch 5/10\n",
      "60/60 [==============================] - 451s 7s/step - loss: 0.1592 - accuracy: 0.9499 - val_loss: 2.0064 - val_accuracy: 0.6575\n",
      "Epoch 6/10\n",
      "60/60 [==============================] - 468s 8s/step - loss: 0.1554 - accuracy: 0.9593 - val_loss: 2.1538 - val_accuracy: 0.6490\n",
      "Epoch 7/10\n",
      "60/60 [==============================] - 627s 10s/step - loss: 0.0764 - accuracy: 0.9812 - val_loss: 2.4542 - val_accuracy: 0.6385\n",
      "Epoch 8/10\n",
      "60/60 [==============================] - 453s 8s/step - loss: 0.0884 - accuracy: 0.9760 - val_loss: 2.6282 - val_accuracy: 0.6047\n",
      "Epoch 9/10\n",
      "60/60 [==============================] - 433s 7s/step - loss: 0.0474 - accuracy: 0.9864 - val_loss: 2.7438 - val_accuracy: 0.6258\n",
      "Epoch 10/10\n",
      "60/60 [==============================] - 425s 7s/step - loss: 0.0396 - accuracy: 0.9885 - val_loss: 3.6294 - val_accuracy: 0.6300\n"
     ]
    }
   ],
   "source": [
    "history8 = model.fit(\n",
    "  train_ds,\n",
    "  validation_data=val_ds,\n",
    "  epochs=epochs\n",
    ") "
   ]
  },
  {
   "cell_type": "code",
   "execution_count": 197,
   "metadata": {},
   "outputs": [
    {
     "data": {
      "image/png": "[encoded data removed]",
      "text/plain": [
       "<Figure size 576x576 with 2 Axes>"
      ]
     },
     "metadata": {
      "needs_background": "light"
     },
     "output_type": "display_data"
    }
   ],
   "source": [
    "acc = history8.history['accuracy']\n",
    "val_acc = history8.history['val_accuracy']\n",
    "\n",
    "loss = history8.history['loss']\n",
    "val_loss = history8.history['val_loss']\n",
    "\n",
    "epochs_range = range(epochs)\n",
    "\n",
    "plt.figure(figsize=(8, 8))\n",
    "plt.subplot(1, 2, 1)\n",
    "plt.plot(epochs_range, acc, label='Training Accuracy')\n",
    "plt.plot(epochs_range, val_acc, label='Validation Accuracy')\n",
    "plt.legend(loc='lower right')\n",
    "plt.title('Training and Validation Accuracy')\n",
    "\n",
    "plt.subplot(1, 2, 2)\n",
    "plt.plot(epochs_range, loss, label='Training Loss')\n",
    "plt.plot(epochs_range, val_loss, label='Validation Loss')\n",
    "plt.legend(loc='upper right')\n",
    "plt.title('Training and Validation Loss')\n",
    "plt.show()"
   ]
  },
  {
   "cell_type": "code",
   "execution_count": 29,
   "metadata": {},
   "outputs": [
    {
     "name": "stdout",
     "output_type": "stream",
     "text": [
      "Epoch 1/10\n",
      "60/60 [==============================] - 436s 7s/step - loss: 1.9377 - accuracy: 0.3462 - val_loss: 1.4084 - val_accuracy: 0.5349\n",
      "Epoch 2/10\n",
      "60/60 [==============================] - 427s 7s/step - loss: 1.1876 - accuracy: 0.6147 - val_loss: 1.2405 - val_accuracy: 0.6216\n",
      "Epoch 3/10\n",
      "60/60 [==============================] - 454s 8s/step - loss: 0.8604 - accuracy: 0.7225 - val_loss: 1.2818 - val_accuracy: 0.6385\n",
      "Epoch 4/10\n",
      "60/60 [==============================] - 457s 8s/step - loss: 0.5692 - accuracy: 0.8329 - val_loss: 1.1979 - val_accuracy: 0.6321\n",
      "Epoch 5/10\n",
      "60/60 [==============================] - 487s 8s/step - loss: 0.4498 - accuracy: 0.8608 - val_loss: 1.3408 - val_accuracy: 0.6702\n",
      "Epoch 6/10\n",
      "60/60 [==============================] - 520s 9s/step - loss: 0.2954 - accuracy: 0.9121 - val_loss: 1.4331 - val_accuracy: 0.6660\n",
      "Epoch 7/10\n",
      "60/60 [==============================] - 449s 7s/step - loss: 0.1854 - accuracy: 0.9339 - val_loss: 1.7680 - val_accuracy: 0.6596\n",
      "Epoch 8/10\n",
      "60/60 [==============================] - 450s 7s/step - loss: 0.1503 - accuracy: 0.9428 - val_loss: 1.9983 - val_accuracy: 0.6406\n",
      "Epoch 9/10\n",
      "60/60 [==============================] - 449s 7s/step - loss: 0.1818 - accuracy: 0.9401 - val_loss: 1.6714 - val_accuracy: 0.6786\n",
      "Epoch 10/10\n",
      "60/60 [==============================] - 453s 8s/step - loss: 0.1437 - accuracy: 0.9494 - val_loss: 1.6452 - val_accuracy: 0.6533\n"
     ]
    }
   ],
   "source": [
    "epochs=10\n",
    "history = model.fait(\n",
    "  train_ds,\n",
    "  validation_data=val_ds,\n",
    "  epochs=epochs\n",
    ")"
   ]
  },
  {
   "cell_type": "code",
   "execution_count": 74,
   "metadata": {},
   "outputs": [],
   "source": [
    "acc = history.history['accuracy']\n",
    "val_acc = history.history['val_accuracy']\n",
    "\n",
    "loss = history.history['loss']\n",
    "val_loss = history.history['val_loss']"
   ]
  },
  {
   "cell_type": "code",
   "execution_count": 91,
   "metadata": {},
   "outputs": [],
   "source": [
    "preds = np.round(model.predict(val_ds),0)"
   ]
  },
  {
   "cell_type": "code",
   "execution_count": 97,
   "metadata": {},
   "outputs": [
    {
     "data": {
      "text/plain": [
       "(473, 10)"
      ]
     },
     "execution_count": 97,
     "metadata": {},
     "output_type": "execute_result"
    }
   ],
   "source": [
    "preds.shape"
   ]
  },
  {
   "cell_type": "code",
   "execution_count": 136,
   "metadata": {},
   "outputs": [
    {
     "name": "stderr",
     "output_type": "stream",
     "text": [
      "C:\\Users\\catar\\anaconda3\\lib\\site-packages\\tensorflow\\python\\keras\\engine\\sequential.py:450: UserWarning: `model.predict_classes()` is deprecated and will be removed after 2021-01-01. Please use instead:* `np.argmax(model.predict(x), axis=-1)`,   if your model does multi-class classification   (e.g. if it uses a `softmax` last-layer activation).* `(model.predict(x) > 0.5).astype(\"int32\")`,   if your model does binary classification   (e.g. if it uses a `sigmoid` last-layer activation).\n",
      "  warnings.warn('`model.predict_classes()` is deprecated and '\n"
     ]
    }
   ],
   "source": [
    "test_label = np.concatenate([y for x, y in val_ds], axis=0) \n",
    "predictions =  np.array([])\n",
    "for x, y in val_ds:\n",
    "    predictions = np.concatenate([predictions, model.predict_classes(x)])\n",
    "    #labels = np.concatenate([labels, np.argmax(y.numpy(), axis=-1)])"
   ]
  },
  {
   "cell_type": "code",
   "execution_count": 144,
   "metadata": {},
   "outputs": [
    {
     "name": "stdout",
     "output_type": "stream",
     "text": [
      "              precision    recall  f1-score   support\n",
      "\n",
      "    Basilica       0.00      0.00      0.00         3\n",
      "      Eiffel       0.40      0.51      0.45       177\n",
      "     Liberty       0.22      0.14      0.17        73\n",
      "  Notre-Dame       0.00      0.00      0.00        12\n",
      "        Pisa       0.11      0.08      0.09        61\n",
      " TowerBridge       0.00      0.00      0.00         8\n",
      "    Triomphe       0.00      0.00      0.00        14\n",
      "        Wall       0.00      0.00      0.00        21\n",
      "  Washington       0.00      0.00      0.00        33\n",
      "      bigBen       0.21      0.21      0.21        71\n",
      "\n",
      "    accuracy                           0.25       473\n",
      "   macro avg       0.09      0.09      0.09       473\n",
      "weighted avg       0.23      0.25      0.24       473\n",
      "\n"
     ]
    },
    {
     "name": "stderr",
     "output_type": "stream",
     "text": [
      "C:\\Users\\catar\\anaconda3\\lib\\site-packages\\sklearn\\metrics\\_classification.py:1248: UndefinedMetricWarning: Precision and F-score are ill-defined and being set to 0.0 in labels with no predicted samples. Use `zero_division` parameter to control this behavior.\n",
      "  _warn_prf(average, modifier, msg_start, len(result))\n",
      "C:\\Users\\catar\\anaconda3\\lib\\site-packages\\sklearn\\metrics\\_classification.py:1248: UndefinedMetricWarning: Precision and F-score are ill-defined and being set to 0.0 in labels with no predicted samples. Use `zero_division` parameter to control this behavior.\n",
      "  _warn_prf(average, modifier, msg_start, len(result))\n",
      "C:\\Users\\catar\\anaconda3\\lib\\site-packages\\sklearn\\metrics\\_classification.py:1248: UndefinedMetricWarning: Precision and F-score are ill-defined and being set to 0.0 in labels with no predicted samples. Use `zero_division` parameter to control this behavior.\n",
      "  _warn_prf(average, modifier, msg_start, len(result))\n"
     ]
    }
   ],
   "source": [
    "from sklearn import metrics\n",
    "classi = metrics.classification_report(test_label,predictions, target_names = class_names)\n",
    "print(classi)"
   ]
  },
  {
   "cell_type": "code",
   "execution_count": 152,
   "metadata": {
    "scrolled": true
   },
   "outputs": [
    {
     "name": "stdout",
     "output_type": "stream",
     "text": [
      "[[ 0  0  0  2  0  0  0  0  0  1]\n",
      " [ 0 90 18  3 19  2  0 19  6 20]\n",
      " [ 0 34 10  2  4  0  2  3  5 13]\n",
      " [ 0  3  1  0  0  0  1  3  1  3]\n",
      " [ 0 34  3  1  5  2  1  5  3  7]\n",
      " [ 0  4  0  0  2  0  0  0  0  2]\n",
      " [ 0  6  2  0  3  0  0  1  1  1]\n",
      " [ 0  5  2  3  4  0  0  0  3  4]\n",
      " [ 0 15  4  1  1  0  1  5  0  6]\n",
      " [ 0 32  5  1  8  0  0  9  1 15]]\n"
     ]
    }
   ],
   "source": [
    "aa = tf.math.confusion_matrix(test_label, predictions).numpy()\n",
    "print(aa)"
   ]
  },
  {
   "cell_type": "code",
   "execution_count": 161,
   "metadata": {},
   "outputs": [],
   "source": [
    "from sklearn.metrics import confusion_matrix\n",
    "conf_matr = confusion_matrix(test_label.tolist(), predictions.tolist())\n",
    "cm_normalized = conf_matr.astype('float') / conf_matr.sum(axis=1)[:, np.newaxis]"
   ]
  },
  {
   "cell_type": "code",
   "execution_count": 164,
   "metadata": {},
   "outputs": [],
   "source": [
    "cm_df = pd.DataFrame(cm_normalized,\n",
    "                     index = class_names, \n",
    "                     columns = class_names)"
   ]
  },
  {
   "cell_type": "code",
   "execution_count": 166,
   "metadata": {},
   "outputs": [
    {
     "data": {
      "image/png": "[encoded data removed]",
      "text/plain": [
       "<Figure size 576x576 with 2 Axes>"
      ]
     },
     "metadata": {
      "needs_background": "light"
     },
     "output_type": "display_data"
    }
   ],
   "source": [
    "#Plotting the confusion matrix\n",
    "plt.figure(figsize=(8,8))\n",
    "sns.heatmap(cm_df, annot=True)\n",
    "plt.title('Confusion Matrix')\n",
    "plt.ylabel('Actual Values')\n",
    "plt.xlabel('Predicted Values')\n",
    "plt.show()"
   ]
  },
  {
   "cell_type": "code",
   "execution_count": 106,
   "metadata": {},
   "outputs": [],
   "source": [
    "import pandas as pd\n",
    "from sklearn.metrics import confusion_matrix"
   ]
  },
  {
   "cell_type": "code",
   "execution_count": 114,
   "metadata": {},
   "outputs": [
    {
     "data": {
      "text/plain": [
       "array([[0., 0., 0., ..., 0., 0., 0.],\n",
       "       [0., 1., 0., ..., 0., 0., 0.],\n",
       "       [0., 1., 0., ..., 0., 0., 0.],\n",
       "       ...,\n",
       "       [0., 1., 0., ..., 0., 0., 0.],\n",
       "       [0., 1., 0., ..., 0., 0., 0.],\n",
       "       [0., 0., 0., ..., 0., 0., 1.]], dtype=float32)"
      ]
     },
     "execution_count": 114,
     "metadata": {},
     "output_type": "execute_result"
    }
   ],
   "source": [
    "preds"
   ]
  },
  {
   "cell_type": "code",
   "execution_count": 107,
   "metadata": {
    "scrolled": true
   },
   "outputs": [],
   "source": [
    "categorical_test_labels = pd.DataFrame(test_label).idxmax(axis=1)\n",
    "categorical_preds = pd.DataFrame(preds).idxmax(axis=1)\n",
    "confusion_matrix= confusion_matrix(categorical_test_labels, categorical_preds)"
   ]
  },
  {
   "cell_type": "code",
   "execution_count": 108,
   "metadata": {
    "scrolled": true
   },
   "outputs": [
    {
     "data": {
      "text/plain": [
       "array([[ 54, 206,  44,  12,  41,   1,   5,  28,  17,  65],\n",
       "       [  0,   0,   0,   0,   0,   0,   0,   0,   0,   0],\n",
       "       [  0,   0,   0,   0,   0,   0,   0,   0,   0,   0],\n",
       "       [  0,   0,   0,   0,   0,   0,   0,   0,   0,   0],\n",
       "       [  0,   0,   0,   0,   0,   0,   0,   0,   0,   0],\n",
       "       [  0,   0,   0,   0,   0,   0,   0,   0,   0,   0],\n",
       "       [  0,   0,   0,   0,   0,   0,   0,   0,   0,   0],\n",
       "       [  0,   0,   0,   0,   0,   0,   0,   0,   0,   0],\n",
       "       [  0,   0,   0,   0,   0,   0,   0,   0,   0,   0],\n",
       "       [  0,   0,   0,   0,   0,   0,   0,   0,   0,   0]], dtype=int64)"
      ]
     },
     "execution_count": 108,
     "metadata": {},
     "output_type": "execute_result"
    }
   ],
   "source": [
    "confusion_matrix"
   ]
  },
  {
   "cell_type": "code",
   "execution_count": 109,
   "metadata": {},
   "outputs": [],
   "source": [
    "from sklearn.metrics import plot_confusion_matrix"
   ]
  },
  {
   "cell_type": "code",
   "execution_count": 79,
   "metadata": {},
   "outputs": [],
   "source": [
    "y_pred = model.predict(val_ds, batch_size=32)"
   ]
  },
  {
   "cell_type": "code",
   "execution_count": 111,
   "metadata": {},
   "outputs": [
    {
     "data": {
      "text/plain": [
       "array([[3.1227664e-06, 1.0079183e-03, 1.5250890e-01, ..., 8.7332859e-04,\n",
       "        2.0942104e-03, 1.8597822e-01],\n",
       "       [1.6469379e-04, 7.4007827e-01, 5.4899743e-03, ..., 1.9567806e-05,\n",
       "        1.3277643e-05, 1.2813389e-01],\n",
       "       [1.2320867e-16, 1.0000000e+00, 1.9881823e-24, ..., 3.0240988e-15,\n",
       "        3.7500359e-16, 2.2132234e-09],\n",
       "       ...,\n",
       "       [2.2219692e-06, 9.9783343e-01, 6.2541410e-08, ..., 7.7456210e-09,\n",
       "        4.2737033e-10, 2.1523673e-03],\n",
       "       [9.1101714e-07, 6.4201616e-02, 9.8064658e-05, ..., 6.5745015e-05,\n",
       "        9.2926198e-01, 1.5284403e-03],\n",
       "       [3.8000233e-06, 3.7198582e-01, 7.4985017e-08, ..., 6.2501800e-01,\n",
       "        7.9262641e-04, 1.4804745e-03]], dtype=float32)"
      ]
     },
     "execution_count": 111,
     "metadata": {},
     "output_type": "execute_result"
    }
   ],
   "source": [
    "y_pred"
   ]
  },
  {
   "cell_type": "code",
   "execution_count": 113,
   "metadata": {},
   "outputs": [
    {
     "data": {
      "text/plain": [
       "<tf.Tensor: shape=(473,), dtype=float32, numpy=\n",
       "array([0., 0., 0., 0., 0., 0., 0., 0., 0., 0., 0., 0., 0., 0., 0., 0., 0.,\n",
       "       0., 0., 0., 0., 0., 0., 0., 0., 0., 0., 0., 0., 0., 0., 0., 0., 0.,\n",
       "       0., 0., 0., 0., 0., 0., 0., 0., 0., 0., 0., 0., 0., 0., 0., 0., 0.,\n",
       "       0., 0., 0., 0., 0., 0., 0., 0., 0., 0., 0., 0., 0., 0., 0., 0., 0.,\n",
       "       0., 0., 0., 0., 0., 0., 0., 0., 0., 0., 0., 0., 0., 0., 0., 0., 0.,\n",
       "       0., 0., 0., 0., 0., 0., 0., 0., 0., 0., 0., 0., 0., 0., 0., 0., 0.,\n",
       "       0., 0., 0., 0., 0., 0., 0., 0., 0., 0., 0., 0., 0., 0., 0., 0., 0.,\n",
       "       0., 0., 0., 0., 0., 0., 0., 0., 0., 0., 0., 0., 0., 0., 0., 0., 0.,\n",
       "       0., 0., 0., 0., 0., 0., 0., 0., 0., 0., 0., 0., 0., 0., 0., 0., 0.,\n",
       "       0., 0., 0., 0., 0., 0., 0., 0., 0., 0., 0., 0., 0., 0., 0., 0., 0.,\n",
       "       0., 0., 0., 0., 0., 0., 0., 0., 0., 0., 0., 0., 0., 0., 0., 0., 0.,\n",
       "       0., 0., 0., 0., 0., 0., 0., 0., 0., 0., 0., 0., 0., 0., 0., 0., 0.,\n",
       "       0., 0., 0., 0., 0., 0., 0., 0., 0., 0., 0., 0., 0., 0., 0., 0., 0.,\n",
       "       0., 0., 0., 0., 0., 0., 0., 0., 0., 0., 0., 0., 0., 0., 0., 0., 0.,\n",
       "       0., 0., 0., 0., 0., 0., 0., 0., 0., 0., 0., 0., 0., 0., 0., 0., 0.,\n",
       "       0., 0., 0., 0., 0., 0., 0., 0., 0., 0., 0., 0., 0., 0., 0., 0., 0.,\n",
       "       0., 0., 0., 0., 0., 0., 0., 0., 0., 0., 0., 0., 0., 0., 0., 0., 0.,\n",
       "       0., 0., 0., 0., 0., 0., 0., 0., 0., 0., 0., 0., 0., 0., 0., 0., 0.,\n",
       "       0., 0., 0., 0., 0., 0., 0., 0., 0., 0., 0., 0., 0., 0., 0., 0., 0.,\n",
       "       0., 0., 0., 0., 0., 0., 0., 0., 0., 0., 0., 0., 0., 0., 0., 0., 0.,\n",
       "       0., 0., 0., 0., 0., 0., 0., 0., 0., 0., 0., 0., 0., 0., 0., 0., 0.,\n",
       "       0., 0., 0., 0., 0., 0., 0., 0., 0., 0., 0., 0., 0., 0., 0., 0., 0.,\n",
       "       0., 0., 0., 0., 0., 0., 0., 0., 0., 0., 0., 0., 0., 0., 0., 0., 0.,\n",
       "       0., 0., 0., 0., 0., 0., 0., 0., 0., 0., 0., 0., 0., 0., 0., 0., 0.,\n",
       "       0., 0., 0., 0., 0., 0., 0., 0., 0., 0., 0., 0., 0., 0., 0., 0., 0.,\n",
       "       0., 0., 0., 0., 0., 0., 0., 0., 0., 0., 0., 0., 0., 0., 0., 0., 0.,\n",
       "       0., 0., 0., 0., 0., 0., 0., 0., 0., 0., 0., 0., 0., 0., 0., 0., 0.,\n",
       "       0., 0., 0., 0., 0., 0., 0., 0., 0., 0., 0., 0., 0., 0.],\n",
       "      dtype=float32)>"
      ]
     },
     "execution_count": 113,
     "metadata": {},
     "output_type": "execute_result"
    }
   ],
   "source": [
    "metrics.categorical_accuracy(test_label, y_pred)"
   ]
  },
  {
   "cell_type": "code",
   "execution_count": null,
   "metadata": {},
   "outputs": [],
   "source": [
    "keras.metrics.top_k_categorical_accuracy(y_true, y_pred, k=5)"
   ]
  },
  {
   "cell_type": "code",
   "execution_count": 30,
   "metadata": {},
   "outputs": [
    {
     "data": {
      "image/png": "[encoded data removed]",
      "text/plain": [
       "<Figure size 576x576 with 2 Axes>"
      ]
     },
     "metadata": {
      "needs_background": "light"
     },
     "output_type": "display_data"
    }
   ],
   "source": [
    "acc = history.history['accuracy']\n",
    "val_acc = history.history['val_accuracy']\n",
    "\n",
    "loss = history.history['loss']\n",
    "val_loss = history.history['val_loss']\n",
    "\n",
    "epochs_range = range(epochs)\n",
    "\n",
    "plt.figure(figsize=(8, 8))\n",
    "plt.subplot(1, 2, 1)\n",
    "plt.plot(epochs_range, acc, label='Training Accuracy')\n",
    "plt.plot(epochs_range, val_acc, label='Validation Accuracy')\n",
    "plt.legend(loc='lower right')\n",
    "plt.title('Training and Validation Accuracy')\n",
    "\n",
    "plt.subplot(1, 2, 2)\n",
    "plt.plot(epochs_range, loss, label='Training Loss')\n",
    "plt.plot(epochs_range, val_loss, label='Validation Loss')\n",
    "plt.legend(loc='upper right')\n",
    "plt.title('Training and Validation Loss')\n",
    "plt.show()"
   ]
  },
  {
   "cell_type": "code",
   "execution_count": 70,
   "metadata": {},
   "outputs": [
    {
     "ename": "ImportError",
     "evalue": "cannot import name 'tfma' from 'tensorflow.keras' (C:\\Users\\catar\\anaconda3\\lib\\site-packages\\tensorflow\\keras\\__init__.py)",
     "output_type": "error",
     "traceback": [
      "\u001b[1;31m---------------------------------------------------------------------------\u001b[0m",
      "\u001b[1;31mImportError\u001b[0m                               Traceback (most recent call last)",
      "\u001b[1;32m<ipython-input-70-88c30ee9e1cd>\u001b[0m in \u001b[0;36m<module>\u001b[1;34m\u001b[0m\n\u001b[1;32m----> 1\u001b[1;33m \u001b[1;32mfrom\u001b[0m \u001b[0mtensorflow\u001b[0m\u001b[1;33m.\u001b[0m\u001b[0mkeras\u001b[0m \u001b[1;32mimport\u001b[0m \u001b[0mtfma\u001b[0m\u001b[1;33m\u001b[0m\u001b[1;33m\u001b[0m\u001b[0m\n\u001b[0m",
      "\u001b[1;31mImportError\u001b[0m: cannot import name 'tfma' from 'tensorflow.keras' (C:\\Users\\catar\\anaconda3\\lib\\site-packages\\tensorflow\\keras\\__init__.py)"
     ]
    }
   ],
   "source": [
    "from tensorflow.keras import tfma"
   ]
  },
  {
   "cell_type": "code",
   "execution_count": 73,
   "metadata": {},
   "outputs": [
    {
     "ename": "NameError",
     "evalue": "name 'tfma' is not defined",
     "output_type": "error",
     "traceback": [
      "\u001b[1;31m---------------------------------------------------------------------------\u001b[0m",
      "\u001b[1;31mNameError\u001b[0m                                 Traceback (most recent call last)",
      "\u001b[1;32m<ipython-input-73-3d929799eb21>\u001b[0m in \u001b[0;36m<module>\u001b[1;34m\u001b[0m\n\u001b[0;32m     13\u001b[0m     \u001b[1;31m#    name='multi_class_confusion_matrix_plot'),\u001b[0m\u001b[1;33m\u001b[0m\u001b[1;33m\u001b[0m\u001b[1;33m\u001b[0m\u001b[0m\n\u001b[0;32m     14\u001b[0m ]\n\u001b[1;32m---> 15\u001b[1;33m \u001b[0mmetrics_specs\u001b[0m \u001b[1;33m=\u001b[0m \u001b[0mtfma\u001b[0m\u001b[1;33m.\u001b[0m\u001b[0mmetrics\u001b[0m\u001b[1;33m.\u001b[0m\u001b[0mspecs_from_metrics\u001b[0m\u001b[1;33m(\u001b[0m\u001b[0mmetrics\u001b[0m\u001b[1;33m)\u001b[0m\u001b[1;33m\u001b[0m\u001b[1;33m\u001b[0m\u001b[0m\n\u001b[0m",
      "\u001b[1;31mNameError\u001b[0m: name 'tfma' is not defined"
     ]
    }
   ],
   "source": [
    "from google.protobuf import text_format\n",
    "metrics = [\n",
    "    #tfma.metrics.ExampleCount(name='example_count'),\n",
    "    #tfma.metrics.WeightedExampleCount(name='weighted_example_count'),\n",
    "    tf.keras.metrics.SparseCategoricalCrossentropy(\n",
    "        name='sparse_categorical_crossentropy'),\n",
    "    tf.keras.metrics.SparseCategoricalAccuracy(name='accuracy'),\n",
    "    tf.keras.metrics.Precision(name='precision', top_k=1),\n",
    "    tf.keras.metrics.Precision(name='precision', top_k=3),\n",
    "    tf.keras.metrics.Recall(name='recall', top_k=1),\n",
    "    tf.keras.metrics.Recall(name='recall', top_k=3),\n",
    "    #tfma.metrics.MultiClassConfusionMatrixPlot(\n",
    "    #    name='multi_class_confusion_matrix_plot'),\n",
    "]\n",
    "metrics_specs = tfma.metrics.specs_from_metrics(metrics)"
   ]
  },
  {
   "cell_type": "markdown",
   "metadata": {},
   "source": [
    "# 2nd Model"
   ]
  },
  {
   "cell_type": "code",
   "execution_count": 8,
   "metadata": {},
   "outputs": [],
   "source": [
    "model1 = models.Sequential()\n",
    "# Conv2D(#filters, size of filter, )\n",
    "model1.add(layers.experimental.preprocessing.Rescaling(1./255, input_shape=(img_height, img_width, 3)))\n",
    "model1.add(layers.Conv2D(32, (3, 3), padding= 'same', input_shape=(img_height, img_width, 3),data_format='channels_last'))\n",
    "model1.add(layers.Activation('relu'))\n",
    "model1.add(layers.MaxPooling2D(pool_size=(2, 2)))\n",
    "\n",
    "model1.add(layers.Conv2D(64, (3, 3)))\n",
    "model1.add(layers.Activation('relu'))\n",
    "model1.add(layers.MaxPooling2D(pool_size=(2, 2)))\n",
    "\n",
    "model1.add(layers.Conv2D(128, (3, 3)))\n",
    "model1.add(layers.Activation('relu'))\n",
    "model1.add(layers.MaxPooling2D(pool_size=(2, 2)))\n",
    "\n",
    "model1.add(layers.Flatten())\n",
    "model1.add(layers.Dense(64))\n",
    "model1.add(layers.Activation('relu'))\n",
    "model1.add(layers.Dropout(0.2))\n",
    "model1.add(layers.Dense(num_classes))\n",
    "model1.add(layers.Activation('softmax'))\n",
    "\n",
    "model1.compile(optimizer='adam',\n",
    "              loss=tf.keras.losses.SparseCategoricalCrossentropy(from_logits=True),\n",
    "              metrics=['accuracy'])"
   ]
  },
  {
   "cell_type": "code",
   "execution_count": 9,
   "metadata": {},
   "outputs": [
    {
     "name": "stdout",
     "output_type": "stream",
     "text": [
      "Model: \"sequential_1\"\n",
      "_________________________________________________________________\n",
      "Layer (type)                 Output Shape              Param #   \n",
      "=================================================================\n",
      "rescaling_1 (Rescaling)      (None, 400, 600, 3)       0         \n",
      "_________________________________________________________________\n",
      "conv2d_3 (Conv2D)            (None, 400, 600, 32)      896       \n",
      "_________________________________________________________________\n",
      "activation_5 (Activation)    (None, 400, 600, 32)      0         \n",
      "_________________________________________________________________\n",
      "max_pooling2d_3 (MaxPooling2 (None, 200, 300, 32)      0         \n",
      "_________________________________________________________________\n",
      "conv2d_4 (Conv2D)            (None, 198, 298, 64)      18496     \n",
      "_________________________________________________________________\n",
      "activation_6 (Activation)    (None, 198, 298, 64)      0         \n",
      "_________________________________________________________________\n",
      "max_pooling2d_4 (MaxPooling2 (None, 99, 149, 64)       0         \n",
      "_________________________________________________________________\n",
      "conv2d_5 (Conv2D)            (None, 97, 147, 128)      73856     \n",
      "_________________________________________________________________\n",
      "activation_7 (Activation)    (None, 97, 147, 128)      0         \n",
      "_________________________________________________________________\n",
      "max_pooling2d_5 (MaxPooling2 (None, 48, 73, 128)       0         \n",
      "_________________________________________________________________\n",
      "flatten_1 (Flatten)          (None, 448512)            0         \n",
      "_________________________________________________________________\n",
      "dense_2 (Dense)              (None, 64)                28704832  \n",
      "_________________________________________________________________\n",
      "activation_8 (Activation)    (None, 64)                0         \n",
      "_________________________________________________________________\n",
      "dropout_1 (Dropout)          (None, 64)                0         \n",
      "_________________________________________________________________\n",
      "dense_3 (Dense)              (None, 10)                650       \n",
      "_________________________________________________________________\n",
      "activation_9 (Activation)    (None, 10)                0         \n",
      "=================================================================\n",
      "Total params: 28,798,730\n",
      "Trainable params: 28,798,730\n",
      "Non-trainable params: 0\n",
      "_________________________________________________________________\n"
     ]
    }
   ],
   "source": [
    "model1.summary()"
   ]
  },
  {
   "cell_type": "code",
   "execution_count": 10,
   "metadata": {},
   "outputs": [
    {
     "name": "stdout",
     "output_type": "stream",
     "text": [
      "Epoch 1/10\n",
      "60/60 [==============================] - 933s 15s/step - loss: 4.4476 - accuracy: 0.3357 - val_loss: 1.3839 - val_accuracy: 0.5539\n",
      "Epoch 2/10\n",
      "60/60 [==============================] - 1066s 18s/step - loss: 0.8770 - accuracy: 0.7168 - val_loss: 1.4386 - val_accuracy: 0.6195\n",
      "Epoch 3/10\n",
      "60/60 [==============================] - 882s 14s/step - loss: 0.3906 - accuracy: 0.8769 - val_loss: 1.5356 - val_accuracy: 0.6025\n",
      "Epoch 4/10\n",
      "60/60 [==============================] - 859s 14s/step - loss: 0.1472 - accuracy: 0.9554 - val_loss: 1.8556 - val_accuracy: 0.6321\n",
      "Epoch 5/10\n",
      "60/60 [==============================] - 848s 14s/step - loss: 0.0525 - accuracy: 0.9861 - val_loss: 1.9506 - val_accuracy: 0.5941\n",
      "Epoch 6/10\n",
      "60/60 [==============================] - 666s 11s/step - loss: 0.1048 - accuracy: 0.9702 - val_loss: 2.6613 - val_accuracy: 0.5476\n",
      "Epoch 7/10\n",
      "60/60 [==============================] - 628s 10s/step - loss: 0.0375 - accuracy: 0.9899 - val_loss: 2.3894 - val_accuracy: 0.5941\n",
      "Epoch 8/10\n",
      "60/60 [==============================] - 690s 12s/step - loss: 0.0324 - accuracy: 0.9905 - val_loss: 2.4962 - val_accuracy: 0.5856\n",
      "Epoch 9/10\n",
      "60/60 [==============================] - 662s 11s/step - loss: 0.0260 - accuracy: 0.9910 - val_loss: 2.3313 - val_accuracy: 0.6427\n",
      "Epoch 10/10\n",
      "60/60 [==============================] - 1094s 18s/step - loss: 0.0381 - accuracy: 0.9899 - val_loss: 3.1395 - val_accuracy: 0.6195\n"
     ]
    }
   ],
   "source": [
    "epochs=10\n",
    "history1 = model1.fit(\n",
    "  train_ds,\n",
    "  validation_data=val_ds,\n",
    "  epochs=epochs\n",
    ")"
   ]
  },
  {
   "cell_type": "code",
   "execution_count": 11,
   "metadata": {},
   "outputs": [
    {
     "data": {
      "image/png": "[encoded data removed]",
      "text/plain": [
       "<Figure size 576x576 with 2 Axes>"
      ]
     },
     "metadata": {
      "needs_background": "light"
     },
     "output_type": "display_data"
    }
   ],
   "source": [
    "acc = history1.history['accuracy']\n",
    "val_acc = history1.history['val_accuracy']\n",
    "\n",
    "loss = history1.history['loss']\n",
    "val_loss = history1.history['val_loss']\n",
    "\n",
    "epochs_range = range(epochs)\n",
    "\n",
    "plt.figure(figsize=(8, 8))\n",
    "plt.subplot(1, 2, 1)\n",
    "plt.plot(epochs_range, acc, label='Training Accuracy')\n",
    "plt.plot(epochs_range, val_acc, label='Validation Accuracy')\n",
    "plt.legend(loc='lower right')\n",
    "plt.title('Training and Validation Accuracy')\n",
    "\n",
    "plt.subplot(1, 2, 2)\n",
    "plt.plot(epochs_range, loss, label='Training Loss')\n",
    "plt.plot(epochs_range, val_loss, label='Validation Loss')\n",
    "plt.legend(loc='upper right')\n",
    "plt.title('Training and Validation Loss')\n",
    "plt.show()"
   ]
  },
  {
   "cell_type": "markdown",
   "metadata": {},
   "source": [
    "# 3rd model"
   ]
  },
  {
   "cell_type": "code",
   "execution_count": 10,
   "metadata": {},
   "outputs": [],
   "source": [
    "model2 = models.Sequential()\n",
    "# Conv2D(#filters, size of filter, )\n",
    "model2.add(layers.experimental.preprocessing.Rescaling(1./255, input_shape=(img_height, img_width, 3)))\n",
    "model2.add(layers.Conv2D(32, (3, 3), padding= 'same', input_shape=(img_height, img_width, 3),data_format='channels_last'))\n",
    "model2.add(layers.Activation('relu'))\n",
    "model2.add(layers.MaxPooling2D(pool_size=(2, 2)))\n",
    "\n",
    "model2.add(layers.BatchNormalization())\n",
    "model2.add(layers.Conv2D(64, (3, 3)))\n",
    "model2.add(layers.Activation('relu'))\n",
    "model2.add(layers.MaxPooling2D(pool_size=(2, 2)))\n",
    "\n",
    "model2.add(layers.BatchNormalization())\n",
    "model2.add(layers.Conv2D(64, (3, 3)))\n",
    "model2.add(layers.Activation('relu'))\n",
    "model2.add(layers.MaxPooling2D(pool_size=(2, 2)))\n",
    "\n",
    "model2.add(layers.Flatten())\n",
    "model2.add(layers.Dense(64))\n",
    "model2.add(layers.Activation('relu'))\n",
    "model2.add(layers.Dropout(0.2))\n",
    "model2.add(layers.Dense(num_classes))\n",
    "model2.add(layers.Activation('softmax'))\n",
    "\n",
    "model2.compile(optimizer='adam',\n",
    "              loss=tf.keras.losses.SparseCategoricalCrossentropy(from_logits=True),\n",
    "              metrics=['accuracy'])"
   ]
  },
  {
   "cell_type": "code",
   "execution_count": 11,
   "metadata": {},
   "outputs": [
    {
     "name": "stdout",
     "output_type": "stream",
     "text": [
      "Model: \"sequential_1\"\n",
      "_________________________________________________________________\n",
      "Layer (type)                 Output Shape              Param #   \n",
      "=================================================================\n",
      "rescaling_1 (Rescaling)      (None, 400, 600, 3)       0         \n",
      "_________________________________________________________________\n",
      "conv2d_3 (Conv2D)            (None, 400, 600, 32)      896       \n",
      "_________________________________________________________________\n",
      "activation_5 (Activation)    (None, 400, 600, 32)      0         \n",
      "_________________________________________________________________\n",
      "max_pooling2d_3 (MaxPooling2 (None, 200, 300, 32)      0         \n",
      "_________________________________________________________________\n",
      "batch_normalization_2 (Batch (None, 200, 300, 32)      128       \n",
      "_________________________________________________________________\n",
      "conv2d_4 (Conv2D)            (None, 198, 298, 64)      18496     \n",
      "_________________________________________________________________\n",
      "activation_6 (Activation)    (None, 198, 298, 64)      0         \n",
      "_________________________________________________________________\n",
      "max_pooling2d_4 (MaxPooling2 (None, 99, 149, 64)       0         \n",
      "_________________________________________________________________\n",
      "batch_normalization_3 (Batch (None, 99, 149, 64)       256       \n",
      "_________________________________________________________________\n",
      "conv2d_5 (Conv2D)            (None, 97, 147, 64)       36928     \n",
      "_________________________________________________________________\n",
      "activation_7 (Activation)    (None, 97, 147, 64)       0         \n",
      "_________________________________________________________________\n",
      "max_pooling2d_5 (MaxPooling2 (None, 48, 73, 64)        0         \n",
      "_________________________________________________________________\n",
      "flatten_1 (Flatten)          (None, 224256)            0         \n",
      "_________________________________________________________________\n",
      "dense_2 (Dense)              (None, 64)                14352448  \n",
      "_________________________________________________________________\n",
      "activation_8 (Activation)    (None, 64)                0         \n",
      "_________________________________________________________________\n",
      "dropout_1 (Dropout)          (None, 64)                0         \n",
      "_________________________________________________________________\n",
      "dense_3 (Dense)              (None, 10)                650       \n",
      "_________________________________________________________________\n",
      "activation_9 (Activation)    (None, 10)                0         \n",
      "=================================================================\n",
      "Total params: 14,409,802\n",
      "Trainable params: 14,409,610\n",
      "Non-trainable params: 192\n",
      "_________________________________________________________________\n"
     ]
    }
   ],
   "source": [
    "model2.summary()"
   ]
  },
  {
   "cell_type": "code",
   "execution_count": 12,
   "metadata": {},
   "outputs": [
    {
     "name": "stdout",
     "output_type": "stream",
     "text": [
      "Epoch 1/7\n",
      "60/60 [==============================] - 771s 13s/step - loss: 28.6166 - accuracy: 0.2133 - val_loss: 2.2735 - val_accuracy: 0.3742\n",
      "Epoch 2/7\n",
      "60/60 [==============================] - 743s 12s/step - loss: 2.2655 - accuracy: 0.3671 - val_loss: 2.2513 - val_accuracy: 0.3742\n",
      "Epoch 3/7\n",
      "60/60 [==============================] - 697s 12s/step - loss: 2.2267 - accuracy: 0.3604 - val_loss: 2.2016 - val_accuracy: 0.3742\n",
      "Epoch 4/7\n",
      "60/60 [==============================] - 754s 13s/step - loss: 2.2002 - accuracy: 0.3673 - val_loss: 2.1684 - val_accuracy: 0.3742\n",
      "Epoch 5/7\n",
      "60/60 [==============================] - 685s 11s/step - loss: 2.1626 - accuracy: 0.3783 - val_loss: 2.1380 - val_accuracy: 0.3742\n",
      "Epoch 6/7\n",
      "60/60 [==============================] - 740s 12s/step - loss: 2.1370 - accuracy: 0.3771 - val_loss: 2.1100 - val_accuracy: 0.3742\n",
      "Epoch 7/7\n",
      "60/60 [==============================] - 738s 12s/step - loss: 2.1090 - accuracy: 0.3726 - val_loss: 2.0843 - val_accuracy: 0.3742\n"
     ]
    }
   ],
   "source": [
    "epochs=7\n",
    "history2 = model2.fit(\n",
    "  train_ds,\n",
    "  validation_data=val_ds,\n",
    "  epochs=epochs\n",
    ")"
   ]
  },
  {
   "cell_type": "code",
   "execution_count": 13,
   "metadata": {},
   "outputs": [
    {
     "data": {
      "image/png": "[encoded data removed]",
      "text/plain": [
       "<Figure size 576x576 with 2 Axes>"
      ]
     },
     "metadata": {
      "needs_background": "light"
     },
     "output_type": "display_data"
    }
   ],
   "source": [
    "acc = history2.history['accuracy']\n",
    "val_acc = history2.history['val_accuracy']\n",
    "\n",
    "loss = history2.history['loss']\n",
    "val_loss = history2.history['val_loss']\n",
    "\n",
    "epochs_range = range(epochs)\n",
    "\n",
    "plt.figure(figsize=(8, 8))\n",
    "plt.subplot(1, 2, 1)\n",
    "plt.plot(epochs_range, acc, label='Training Accuracy')\n",
    "plt.plot(epochs_range, val_acc, label='Validation Accuracy')\n",
    "plt.legend(loc='lower right')\n",
    "plt.title('Training and Validation Accuracy')\n",
    "\n",
    "plt.subplot(1, 2, 2)\n",
    "plt.plot(epochs_range, loss, label='Training Loss')\n",
    "plt.plot(epochs_range, val_loss, label='Validation Loss')\n",
    "plt.legend(loc='upper right')\n",
    "plt.title('Training and Validation Loss')\n",
    "plt.show()"
   ]
  },
  {
   "cell_type": "code",
   "execution_count": null,
   "metadata": {},
   "outputs": [],
   "source": [
    "#4th model "
   ]
  },
  {
   "cell_type": "code",
   "execution_count": 9,
   "metadata": {},
   "outputs": [],
   "source": [
    "model3 = models.Sequential()\n",
    "# Conv2D(#filters, size of filter, )\n",
    "model3.add(layers.experimental.preprocessing.Rescaling(1./255, input_shape=(img_height, img_width, 3)))\n",
    "#model3.add(data_augmentation)\n",
    "model3.add(layers.Conv2D(32, (3, 3), padding= 'same', input_shape=(img_height, img_width, 3),data_format='channels_last'))\n",
    "model3.add(layers.Activation('relu'))\n",
    "model3.add(layers.MaxPooling2D(pool_size=(2, 2)))\n",
    "\n",
    "#model3.add(layers.BatchNormalization())\n",
    "model3.add(layers.Conv2D(64, (3, 3)))\n",
    "model3.add(layers.Activation('relu'))\n",
    "model3.add(layers.MaxPooling2D(pool_size=(2, 2)))\n",
    "\n",
    "#model3.add(layers.BatchNormalization())\n",
    "model3.add(layers.Conv2D(64, (3, 3)))\n",
    "model3.add(layers.Activation('relu'))\n",
    "model3.add(layers.MaxPooling2D(pool_size=(2, 2)))\n",
    "\n",
    "model3.add(layers.Flatten())\n",
    "model3.add(layers.Dense(32))\n",
    "model3.add(layers.Activation('relu'))\n",
    "model3.add(layers.Dropout(0.2))\n",
    "model3.add(layers.Dense(num_classes))\n",
    "model3.add(layers.Activation('softmax'))\n",
    "\n",
    "model3.compile(optimizer='adam',\n",
    "              loss=tf.keras.losses.SparseCategoricalCrossentropy(from_logits=True),\n",
    "              metrics=['accuracy'])"
   ]
  },
  {
   "cell_type": "code",
   "execution_count": 10,
   "metadata": {},
   "outputs": [
    {
     "name": "stdout",
     "output_type": "stream",
     "text": [
      "Model: \"sequential_2\"\n",
      "_________________________________________________________________\n",
      "Layer (type)                 Output Shape              Param #   \n",
      "=================================================================\n",
      "rescaling_1 (Rescaling)      (None, 400, 600, 3)       0         \n",
      "_________________________________________________________________\n",
      "sequential (Sequential)      (None, 400, 600, 3)       0         \n",
      "_________________________________________________________________\n",
      "conv2d_3 (Conv2D)            (None, 400, 600, 32)      896       \n",
      "_________________________________________________________________\n",
      "activation_5 (Activation)    (None, 400, 600, 32)      0         \n",
      "_________________________________________________________________\n",
      "max_pooling2d_3 (MaxPooling2 (None, 200, 300, 32)      0         \n",
      "_________________________________________________________________\n",
      "conv2d_4 (Conv2D)            (None, 198, 298, 64)      18496     \n",
      "_________________________________________________________________\n",
      "activation_6 (Activation)    (None, 198, 298, 64)      0         \n",
      "_________________________________________________________________\n",
      "max_pooling2d_4 (MaxPooling2 (None, 99, 149, 64)       0         \n",
      "_________________________________________________________________\n",
      "conv2d_5 (Conv2D)            (None, 97, 147, 64)       36928     \n",
      "_________________________________________________________________\n",
      "activation_7 (Activation)    (None, 97, 147, 64)       0         \n",
      "_________________________________________________________________\n",
      "max_pooling2d_5 (MaxPooling2 (None, 48, 73, 64)        0         \n",
      "_________________________________________________________________\n",
      "flatten_1 (Flatten)          (None, 224256)            0         \n",
      "_________________________________________________________________\n",
      "dense_2 (Dense)              (None, 32)                7176224   \n",
      "_________________________________________________________________\n",
      "activation_8 (Activation)    (None, 32)                0         \n",
      "_________________________________________________________________\n",
      "dropout_1 (Dropout)          (None, 32)                0         \n",
      "_________________________________________________________________\n",
      "dense_3 (Dense)              (None, 10)                330       \n",
      "_________________________________________________________________\n",
      "activation_9 (Activation)    (None, 10)                0         \n",
      "=================================================================\n",
      "Total params: 7,232,874\n",
      "Trainable params: 7,232,874\n",
      "Non-trainable params: 0\n",
      "_________________________________________________________________\n"
     ]
    }
   ],
   "source": [
    "model3.summary()"
   ]
  },
  {
   "cell_type": "code",
   "execution_count": 21,
   "metadata": {},
   "outputs": [
    {
     "name": "stdout",
     "output_type": "stream",
     "text": [
      "Epoch 1/7\n",
      "60/60 [==============================] - 649s 11s/step - loss: 1.9870 - accuracy: 0.3181 - val_loss: 1.4553 - val_accuracy: 0.5518\n",
      "Epoch 2/7\n",
      "60/60 [==============================] - 615s 10s/step - loss: 1.1593 - accuracy: 0.5828 - val_loss: 1.2394 - val_accuracy: 0.5708\n",
      "Epoch 3/7\n",
      "60/60 [==============================] - 582s 10s/step - loss: 0.8704 - accuracy: 0.6848 - val_loss: 1.5398 - val_accuracy: 0.5793\n",
      "Epoch 4/7\n",
      "60/60 [==============================] - 763s 13s/step - loss: 0.6804 - accuracy: 0.7385 - val_loss: 1.5947 - val_accuracy: 0.6068\n",
      "Epoch 5/7\n",
      "60/60 [==============================] - 731s 12s/step - loss: 0.4857 - accuracy: 0.8422 - val_loss: 1.5236 - val_accuracy: 0.6258\n",
      "Epoch 6/7\n",
      "60/60 [==============================] - 730s 12s/step - loss: 0.3808 - accuracy: 0.8637 - val_loss: 1.5124 - val_accuracy: 0.6152\n",
      "Epoch 7/7\n",
      "60/60 [==============================] - 756s 13s/step - loss: 0.3042 - accuracy: 0.8891 - val_loss: 1.6683 - val_accuracy: 0.6490\n"
     ]
    }
   ],
   "source": [
    "epochs=7\n",
    "history2 = model3.fit(\n",
    "  train_ds,\n",
    "  validation_data=val_ds,\n",
    "  epochs=epochs\n",
    ")"
   ]
  },
  {
   "cell_type": "code",
   "execution_count": 23,
   "metadata": {},
   "outputs": [
    {
     "data": {
      "image/png": "[encoded data removed]",
      "text/plain": [
       "<Figure size 576x576 with 2 Axes>"
      ]
     },
     "metadata": {
      "needs_background": "light"
     },
     "output_type": "display_data"
    }
   ],
   "source": [
    "acc = history2.history['accuracy']\n",
    "val_acc = history2.history['val_accuracy']\n",
    "\n",
    "loss = history2.history['loss']\n",
    "val_loss = history2.history['val_loss']\n",
    "\n",
    "epochs_range = range(epochs)\n",
    "\n",
    "plt.figure(figsize=(8, 8))\n",
    "plt.subplot(1, 2, 1)\n",
    "plt.plot(epochs_range, acc, label='Training Accuracy')\n",
    "plt.plot(epochs_range, val_acc, label='Validation Accuracy')\n",
    "plt.legend(loc='lower right')\n",
    "plt.title('Training and Validation Accuracy')\n",
    "\n",
    "plt.subplot(1, 2, 2)\n",
    "plt.plot(epochs_range, loss, label='Training Loss')\n",
    "plt.plot(epochs_range, val_loss, label='Validation Loss')\n",
    "plt.legend(loc='upper right')\n",
    "plt.title('Training and Validation Loss')\n",
    "plt.show()"
   ]
  },
  {
   "cell_type": "code",
   "execution_count": null,
   "metadata": {},
   "outputs": [],
   "source": [
    "# Model ..."
   ]
  },
  {
   "cell_type": "code",
   "execution_count": 11,
   "metadata": {},
   "outputs": [],
   "source": [
    "data_augmentation = tf.keras.Sequential([\n",
    "  layers.experimental.preprocessing.RandomFlip(\"horizontal_and_vertical\"),\n",
    "  layers.experimental.preprocessing.RandomRotation(0.2),\n",
    "])"
   ]
  },
  {
   "cell_type": "code",
   "execution_count": 12,
   "metadata": {},
   "outputs": [],
   "source": [
    "model4 = models.Sequential()\n",
    "# Conv2D(#filters, size of filter, )\n",
    "model4.add(layers.experimental.preprocessing.Rescaling(1./255, input_shape=(img_height, img_width, 3)))\n",
    "model4.add(data_augmentation)\n",
    "model4.add(layers.Conv2D(32, (3, 3), padding= 'same', input_shape=(img_height, img_width, 3),data_format='channels_last'))\n",
    "model4.add(layers.Activation('relu'))\n",
    "model4.add(layers.MaxPooling2D(pool_size=(2, 2)))\n",
    "\n",
    "#model3.add(layers.BatchNormalization())\n",
    "model4.add(layers.Conv2D(64, (3, 3)))\n",
    "model4.add(layers.Activation('relu'))\n",
    "model4.add(layers.MaxPooling2D(pool_size=(2, 2)))\n",
    "\n",
    "#model3.add(layers.BatchNormalization())\n",
    "model4.add(layers.Conv2D(64, (3, 3)))\n",
    "model4.add(layers.Activation('relu'))\n",
    "model4.add(layers.MaxPooling2D(pool_size=(2, 2)))\n",
    "\n",
    "model4.add(layers.Flatten())\n",
    "model4.add(layers.Dense(64))\n",
    "model4.add(layers.Activation('relu'))\n",
    "model4.add(layers.Dropout(0.2))\n",
    "model4.add(layers.Dense(num_classes))\n",
    "model4.add(layers.Activation('softmax'))\n",
    "\n",
    "model4.compile(optimizer='adam',\n",
    "              loss=tf.keras.losses.SparseCategoricalCrossentropy(from_logits=True),\n",
    "              metrics=['accuracy'])"
   ]
  },
  {
   "cell_type": "code",
   "execution_count": 13,
   "metadata": {},
   "outputs": [
    {
     "name": "stdout",
     "output_type": "stream",
     "text": [
      "Model: \"sequential_4\"\n",
      "_________________________________________________________________\n",
      "Layer (type)                 Output Shape              Param #   \n",
      "=================================================================\n",
      "rescaling_2 (Rescaling)      (None, 400, 600, 3)       0         \n",
      "_________________________________________________________________\n",
      "sequential_3 (Sequential)    (None, 400, 600, 3)       0         \n",
      "_________________________________________________________________\n",
      "conv2d_6 (Conv2D)            (None, 400, 600, 32)      896       \n",
      "_________________________________________________________________\n",
      "activation_10 (Activation)   (None, 400, 600, 32)      0         \n",
      "_________________________________________________________________\n",
      "max_pooling2d_6 (MaxPooling2 (None, 200, 300, 32)      0         \n",
      "_________________________________________________________________\n",
      "conv2d_7 (Conv2D)            (None, 198, 298, 64)      18496     \n",
      "_________________________________________________________________\n",
      "activation_11 (Activation)   (None, 198, 298, 64)      0         \n",
      "_________________________________________________________________\n",
      "max_pooling2d_7 (MaxPooling2 (None, 99, 149, 64)       0         \n",
      "_________________________________________________________________\n",
      "conv2d_8 (Conv2D)            (None, 97, 147, 64)       36928     \n",
      "_________________________________________________________________\n",
      "activation_12 (Activation)   (None, 97, 147, 64)       0         \n",
      "_________________________________________________________________\n",
      "max_pooling2d_8 (MaxPooling2 (None, 48, 73, 64)        0         \n",
      "_________________________________________________________________\n",
      "flatten_2 (Flatten)          (None, 224256)            0         \n",
      "_________________________________________________________________\n",
      "dense_4 (Dense)              (None, 64)                14352448  \n",
      "_________________________________________________________________\n",
      "activation_13 (Activation)   (None, 64)                0         \n",
      "_________________________________________________________________\n",
      "dropout_2 (Dropout)          (None, 64)                0         \n",
      "_________________________________________________________________\n",
      "dense_5 (Dense)              (None, 10)                650       \n",
      "_________________________________________________________________\n",
      "activation_14 (Activation)   (None, 10)                0         \n",
      "=================================================================\n",
      "Total params: 14,409,418\n",
      "Trainable params: 14,409,418\n",
      "Non-trainable params: 0\n",
      "_________________________________________________________________\n"
     ]
    }
   ],
   "source": [
    "model4.summary()"
   ]
  },
  {
   "cell_type": "code",
   "execution_count": 14,
   "metadata": {},
   "outputs": [
    {
     "name": "stdout",
     "output_type": "stream",
     "text": [
      "Epoch 1/10\n",
      "60/60 [==============================] - 790s 13s/step - loss: 3.0000 - accuracy: 0.3215 - val_loss: 1.6685 - val_accuracy: 0.4419\n",
      "Epoch 2/10\n",
      "60/60 [==============================] - 755s 13s/step - loss: 1.5801 - accuracy: 0.4556 - val_loss: 1.5914 - val_accuracy: 0.5137\n",
      "Epoch 3/10\n",
      "60/60 [==============================] - 761s 13s/step - loss: 1.3596 - accuracy: 0.5661 - val_loss: 1.4853 - val_accuracy: 0.4820\n",
      "Epoch 4/10\n",
      "60/60 [==============================] - 458s 8s/step - loss: 1.2681 - accuracy: 0.5836 - val_loss: 1.6201 - val_accuracy: 0.4968\n",
      "Epoch 5/10\n",
      "60/60 [==============================] - 446s 7s/step - loss: 1.0931 - accuracy: 0.6417 - val_loss: 1.3068 - val_accuracy: 0.5962\n",
      "Epoch 6/10\n",
      "60/60 [==============================] - 433s 7s/step - loss: 1.0019 - accuracy: 0.6639 - val_loss: 1.2380 - val_accuracy: 0.5941\n",
      "Epoch 7/10\n",
      "60/60 [==============================] - 443s 7s/step - loss: 0.9483 - accuracy: 0.6934 - val_loss: 1.3814 - val_accuracy: 0.6025\n",
      "Epoch 8/10\n",
      "60/60 [==============================] - 448s 7s/step - loss: 0.9272 - accuracy: 0.6890 - val_loss: 1.1877 - val_accuracy: 0.6385\n",
      "Epoch 9/10\n",
      "60/60 [==============================] - 435s 7s/step - loss: 0.9246 - accuracy: 0.6954 - val_loss: 1.4627 - val_accuracy: 0.5941\n",
      "Epoch 10/10\n",
      "60/60 [==============================] - 446s 7s/step - loss: 0.8959 - accuracy: 0.7008 - val_loss: 1.2120 - val_accuracy: 0.6216\n"
     ]
    }
   ],
   "source": [
    "epochs=10\n",
    "history4 = model4.fit(\n",
    "  train_ds,\n",
    "  validation_data=val_ds,\n",
    "  epochs=epochs\n",
    ")"
   ]
  },
  {
   "cell_type": "code",
   "execution_count": 15,
   "metadata": {},
   "outputs": [
    {
     "data": {
      "image/png": "[encoded data removed]",
      "text/plain": [
       "<Figure size 576x576 with 2 Axes>"
      ]
     },
     "metadata": {
      "needs_background": "light"
     },
     "output_type": "display_data"
    }
   ],
   "source": [
    "acc = history4.history['accuracy']\n",
    "val_acc = history4.history['val_accuracy']\n",
    "\n",
    "loss = history4.history['loss']\n",
    "val_loss = history4.history['val_loss']\n",
    "\n",
    "epochs_range = range(epochs)\n",
    "\n",
    "plt.figure(figsize=(8, 8))\n",
    "plt.subplot(1, 2, 1)\n",
    "plt.plot(epochs_range, acc, label='Training Accuracy')\n",
    "plt.plot(epochs_range, val_acc, label='Validation Accuracy')\n",
    "plt.legend(loc='lower right')\n",
    "plt.title('Training and Validation Accuracy')\n",
    "\n",
    "plt.subplot(1, 2, 2)\n",
    "plt.plot(epochs_range, loss, label='Training Loss')\n",
    "plt.plot(epochs_range, val_loss, label='Validation Loss')\n",
    "plt.legend(loc='upper right')\n",
    "plt.title('Training and Validation Loss')\n",
    "plt.show()"
   ]
  },
  {
   "cell_type": "code",
   "execution_count": null,
   "metadata": {},
   "outputs": [],
   "source": [
    "# Model"
   ]
  },
  {
   "cell_type": "code",
   "execution_count": 16,
   "metadata": {},
   "outputs": [],
   "source": [
    "model4 = models.Sequential()\n",
    "# Conv2D(#filters, size of filter, )\n",
    "model4.add(layers.experimental.preprocessing.Rescaling(1./255, input_shape=(img_height, img_width, 3)))\n",
    "model4.add(data_augmentation)\n",
    "model4.add(layers.Conv2D(16, (3, 3), padding= 'same', input_shape=(img_height, img_width, 3),data_format='channels_last'))\n",
    "model4.add(layers.Activation('relu'))\n",
    "model4.add(layers.MaxPooling2D(pool_size=(2, 2)))\n",
    "\n",
    "#model3.add(layers.BatchNormalization())\n",
    "model4.add(layers.Conv2D(32, (3, 3)))\n",
    "model4.add(layers.Activation('relu'))\n",
    "model4.add(layers.MaxPooling2D(pool_size=(2, 2)))\n",
    "\n",
    "#model3.add(layers.BatchNormalization())\n",
    "model4.add(layers.Conv2D(64, (3, 3)))\n",
    "model4.add(layers.Activation('relu'))\n",
    "model4.add(layers.MaxPooling2D(pool_size=(2, 2)))\n",
    "\n",
    "#model3.add(layers.BatchNormalization())\n",
    "model4.add(layers.Conv2D(64, (3, 3)))\n",
    "model4.add(layers.Activation('relu'))\n",
    "model4.add(layers.MaxPooling2D(pool_size=(2, 2)))\n",
    "\n",
    "model4.add(layers.Flatten())\n",
    "model4.add(layers.Dense(64))\n",
    "model4.add(layers.Activation('relu'))\n",
    "model4.add(layers.Dropout(0.2))\n",
    "model4.add(layers.Dense(num_classes))\n",
    "model4.add(layers.Activation('softmax'))\n",
    "\n",
    "model4.compile(optimizer='adam',\n",
    "              loss=tf.keras.losses.SparseCategoricalCrossentropy(from_logits=True),\n",
    "              metrics=['accuracy'])"
   ]
  },
  {
   "cell_type": "code",
   "execution_count": 17,
   "metadata": {},
   "outputs": [
    {
     "name": "stdout",
     "output_type": "stream",
     "text": [
      "Model: \"sequential_5\"\n",
      "_________________________________________________________________\n",
      "Layer (type)                 Output Shape              Param #   \n",
      "=================================================================\n",
      "rescaling_3 (Rescaling)      (None, 400, 600, 3)       0         \n",
      "_________________________________________________________________\n",
      "sequential_3 (Sequential)    (None, 400, 600, 3)       0         \n",
      "_________________________________________________________________\n",
      "conv2d_9 (Conv2D)            (None, 400, 600, 16)      448       \n",
      "_________________________________________________________________\n",
      "activation_15 (Activation)   (None, 400, 600, 16)      0         \n",
      "_________________________________________________________________\n",
      "max_pooling2d_9 (MaxPooling2 (None, 200, 300, 16)      0         \n",
      "_________________________________________________________________\n",
      "conv2d_10 (Conv2D)           (None, 198, 298, 32)      4640      \n",
      "_________________________________________________________________\n",
      "activation_16 (Activation)   (None, 198, 298, 32)      0         \n",
      "_________________________________________________________________\n",
      "max_pooling2d_10 (MaxPooling (None, 99, 149, 32)       0         \n",
      "_________________________________________________________________\n",
      "conv2d_11 (Conv2D)           (None, 97, 147, 64)       18496     \n",
      "_________________________________________________________________\n",
      "activation_17 (Activation)   (None, 97, 147, 64)       0         \n",
      "_________________________________________________________________\n",
      "max_pooling2d_11 (MaxPooling (None, 48, 73, 64)        0         \n",
      "_________________________________________________________________\n",
      "conv2d_12 (Conv2D)           (None, 46, 71, 64)        36928     \n",
      "_________________________________________________________________\n",
      "activation_18 (Activation)   (None, 46, 71, 64)        0         \n",
      "_________________________________________________________________\n",
      "max_pooling2d_12 (MaxPooling (None, 23, 35, 64)        0         \n",
      "_________________________________________________________________\n",
      "flatten_3 (Flatten)          (None, 51520)             0         \n",
      "_________________________________________________________________\n",
      "dense_6 (Dense)              (None, 64)                3297344   \n",
      "_________________________________________________________________\n",
      "activation_19 (Activation)   (None, 64)                0         \n",
      "_________________________________________________________________\n",
      "dropout_3 (Dropout)          (None, 64)                0         \n",
      "_________________________________________________________________\n",
      "dense_7 (Dense)              (None, 10)                650       \n",
      "_________________________________________________________________\n",
      "activation_20 (Activation)   (None, 10)                0         \n",
      "=================================================================\n",
      "Total params: 3,358,506\n",
      "Trainable params: 3,358,506\n",
      "Non-trainable params: 0\n",
      "_________________________________________________________________\n"
     ]
    }
   ],
   "source": [
    "model4.summary()"
   ]
  },
  {
   "cell_type": "code",
   "execution_count": 18,
   "metadata": {},
   "outputs": [
    {
     "name": "stdout",
     "output_type": "stream",
     "text": [
      "Epoch 1/10\n",
      "60/60 [==============================] - 282s 5s/step - loss: 2.0407 - accuracy: 0.3348 - val_loss: 1.7138 - val_accuracy: 0.4503\n",
      "Epoch 2/10\n",
      "60/60 [==============================] - 275s 5s/step - loss: 1.6152 - accuracy: 0.4503 - val_loss: 1.4968 - val_accuracy: 0.5095\n",
      "Epoch 3/10\n",
      "60/60 [==============================] - 279s 5s/step - loss: 1.4321 - accuracy: 0.5117 - val_loss: 1.7959 - val_accuracy: 0.4249\n",
      "Epoch 4/10\n",
      "60/60 [==============================] - 279s 5s/step - loss: 1.4275 - accuracy: 0.5303 - val_loss: 1.2954 - val_accuracy: 0.5729\n",
      "Epoch 5/10\n",
      "60/60 [==============================] - 279s 5s/step - loss: 1.2248 - accuracy: 0.5849 - val_loss: 1.4603 - val_accuracy: 0.5603\n",
      "Epoch 6/10\n",
      "60/60 [==============================] - 270s 4s/step - loss: 1.1328 - accuracy: 0.6130 - val_loss: 1.3739 - val_accuracy: 0.5687\n",
      "Epoch 7/10\n",
      "60/60 [==============================] - 269s 4s/step - loss: 1.0600 - accuracy: 0.6566 - val_loss: 1.6153 - val_accuracy: 0.5624\n",
      "Epoch 8/10\n",
      "60/60 [==============================] - 264s 4s/step - loss: 1.2000 - accuracy: 0.5998 - val_loss: 1.6631 - val_accuracy: 0.5793\n",
      "Epoch 9/10\n",
      "60/60 [==============================] - 260s 4s/step - loss: 1.0474 - accuracy: 0.6575 - val_loss: 1.2327 - val_accuracy: 0.6110\n",
      "Epoch 10/10\n",
      "60/60 [==============================] - 260s 4s/step - loss: 0.9124 - accuracy: 0.6806 - val_loss: 1.2041 - val_accuracy: 0.6068\n"
     ]
    }
   ],
   "source": [
    "epochs=10\n",
    "history4 = model4.fit(\n",
    "  train_ds,\n",
    "  validation_data=val_ds,\n",
    "  epochs=epochs\n",
    ")"
   ]
  },
  {
   "cell_type": "code",
   "execution_count": 19,
   "metadata": {},
   "outputs": [
    {
     "data": {
      "image/png": "[encoded data removed]",
      "text/plain": [
       "<Figure size 576x576 with 2 Axes>"
      ]
     },
     "metadata": {
      "needs_background": "light"
     },
     "output_type": "display_data"
    }
   ],
   "source": [
    "acc = history4.history['accuracy']\n",
    "val_acc = history4.history['val_accuracy']\n",
    "\n",
    "loss = history4.history['loss']\n",
    "val_loss = history4.history['val_loss']\n",
    "\n",
    "epochs_range = range(epochs)\n",
    "\n",
    "plt.figure(figsize=(8, 8))\n",
    "plt.subplot(1, 2, 1)\n",
    "plt.plot(epochs_range, acc, label='Training Accuracy')\n",
    "plt.plot(epochs_range, val_acc, label='Validation Accuracy')\n",
    "plt.legend(loc='lower right')\n",
    "plt.title('Training and Validation Accuracy')\n",
    "\n",
    "plt.subplot(1, 2, 2)\n",
    "plt.plot(epochs_range, loss, label='Training Loss')\n",
    "plt.plot(epochs_range, val_loss, label='Validation Loss')\n",
    "plt.legend(loc='upper right')\n",
    "plt.title('Training and Validation Loss')\n",
    "plt.show()"
   ]
  },
  {
   "cell_type": "code",
   "execution_count": 20,
   "metadata": {},
   "outputs": [],
   "source": [
    "# Model"
   ]
  },
  {
   "cell_type": "code",
   "execution_count": 23,
   "metadata": {},
   "outputs": [],
   "source": [
    "model = models.Sequential()\n",
    "# Conv2D(#filters, size of filter, )\n",
    "model.add(layers.experimental.preprocessing.Rescaling(1./255, input_shape=(img_height, img_width, 3)))\n",
    "model.add(data_augmentation)\n",
    "model.add(layers.Conv2D(32, (3, 3), padding= 'same', input_shape=(img_height, img_width, 3),data_format='channels_last'))\n",
    "model.add(layers.Activation('relu'))\n",
    "model.add(layers.MaxPooling2D(pool_size=(2, 2)))\n",
    "\n",
    "model.add(layers.Conv2D(64, (3, 3)))\n",
    "model.add(layers.Activation('relu'))\n",
    "model.add(layers.MaxPooling2D(pool_size=(2, 2)))\n",
    "\n",
    "model.add(layers.Conv2D(64, (3, 3)))\n",
    "model.add(layers.Activation('relu'))\n",
    "model.add(layers.MaxPooling2D(pool_size=(2, 2)))\n",
    "\n",
    "model.add(layers.Conv2D(64, (3, 3)))\n",
    "model.add(layers.Activation('relu'))\n",
    "model.add(layers.MaxPooling2D(pool_size=(2, 2)))\n",
    "\n",
    "model.add(layers.Flatten())\n",
    "model.add(layers.Dense(64))\n",
    "model.add(layers.Activation('relu'))\n",
    "model.add(layers.Dropout(0.2))\n",
    "model.add(layers.Dense(num_classes))\n",
    "model.add(layers.Activation('softmax'))\n",
    "\n",
    "model.compile(optimizer='adam',\n",
    "              loss=tf.keras.losses.SparseCategoricalCrossentropy(from_logits=True),\n",
    "              metrics=['accuracy'])"
   ]
  },
  {
   "cell_type": "code",
   "execution_count": 24,
   "metadata": {},
   "outputs": [
    {
     "name": "stdout",
     "output_type": "stream",
     "text": [
      "Model: \"sequential_7\"\n",
      "_________________________________________________________________\n",
      "Layer (type)                 Output Shape              Param #   \n",
      "=================================================================\n",
      "rescaling_5 (Rescaling)      (None, 400, 600, 3)       0         \n",
      "_________________________________________________________________\n",
      "sequential_3 (Sequential)    (None, 400, 600, 3)       0         \n",
      "_________________________________________________________________\n",
      "conv2d_16 (Conv2D)           (None, 400, 600, 32)      896       \n",
      "_________________________________________________________________\n",
      "activation_26 (Activation)   (None, 400, 600, 32)      0         \n",
      "_________________________________________________________________\n",
      "max_pooling2d_16 (MaxPooling (None, 200, 300, 32)      0         \n",
      "_________________________________________________________________\n",
      "conv2d_17 (Conv2D)           (None, 198, 298, 64)      18496     \n",
      "_________________________________________________________________\n",
      "activation_27 (Activation)   (None, 198, 298, 64)      0         \n",
      "_________________________________________________________________\n",
      "max_pooling2d_17 (MaxPooling (None, 99, 149, 64)       0         \n",
      "_________________________________________________________________\n",
      "conv2d_18 (Conv2D)           (None, 97, 147, 64)       36928     \n",
      "_________________________________________________________________\n",
      "activation_28 (Activation)   (None, 97, 147, 64)       0         \n",
      "_________________________________________________________________\n",
      "max_pooling2d_18 (MaxPooling (None, 48, 73, 64)        0         \n",
      "_________________________________________________________________\n",
      "conv2d_19 (Conv2D)           (None, 46, 71, 64)        36928     \n",
      "_________________________________________________________________\n",
      "activation_29 (Activation)   (None, 46, 71, 64)        0         \n",
      "_________________________________________________________________\n",
      "max_pooling2d_19 (MaxPooling (None, 23, 35, 64)        0         \n",
      "_________________________________________________________________\n",
      "flatten_5 (Flatten)          (None, 51520)             0         \n",
      "_________________________________________________________________\n",
      "dense_10 (Dense)             (None, 64)                3297344   \n",
      "_________________________________________________________________\n",
      "activation_30 (Activation)   (None, 64)                0         \n",
      "_________________________________________________________________\n",
      "dropout_5 (Dropout)          (None, 64)                0         \n",
      "_________________________________________________________________\n",
      "dense_11 (Dense)             (None, 10)                650       \n",
      "_________________________________________________________________\n",
      "activation_31 (Activation)   (None, 10)                0         \n",
      "=================================================================\n",
      "Total params: 3,391,242\n",
      "Trainable params: 3,391,242\n",
      "Non-trainable params: 0\n",
      "_________________________________________________________________\n"
     ]
    }
   ],
   "source": [
    "model.summary()"
   ]
  },
  {
   "cell_type": "code",
   "execution_count": 25,
   "metadata": {},
   "outputs": [
    {
     "name": "stdout",
     "output_type": "stream",
     "text": [
      "Epoch 1/10\n",
      "60/60 [==============================] - 478s 8s/step - loss: 2.0955 - accuracy: 0.2893 - val_loss: 1.7244 - val_accuracy: 0.3827\n",
      "Epoch 2/10\n",
      "60/60 [==============================] - 441s 7s/step - loss: 1.6323 - accuracy: 0.4457 - val_loss: 1.5139 - val_accuracy: 0.5032\n",
      "Epoch 3/10\n",
      "60/60 [==============================] - 478s 8s/step - loss: 1.4602 - accuracy: 0.5097 - val_loss: 1.4455 - val_accuracy: 0.4926\n",
      "Epoch 4/10\n",
      "60/60 [==============================] - 474s 8s/step - loss: 1.3891 - accuracy: 0.5286 - val_loss: 1.3733 - val_accuracy: 0.5391\n",
      "Epoch 5/10\n",
      "60/60 [==============================] - 453s 8s/step - loss: 1.2380 - accuracy: 0.5863 - val_loss: 1.3240 - val_accuracy: 0.5856\n",
      "Epoch 6/10\n",
      "60/60 [==============================] - 449s 7s/step - loss: 1.1368 - accuracy: 0.6085 - val_loss: 1.3512 - val_accuracy: 0.5877\n",
      "Epoch 7/10\n",
      "60/60 [==============================] - 459s 8s/step - loss: 1.1009 - accuracy: 0.6297 - val_loss: 1.3297 - val_accuracy: 0.5624\n",
      "Epoch 8/10\n",
      "60/60 [==============================] - 451s 8s/step - loss: 1.0327 - accuracy: 0.6665 - val_loss: 1.3691 - val_accuracy: 0.5983\n",
      "Epoch 9/10\n",
      "60/60 [==============================] - 478s 8s/step - loss: 0.9339 - accuracy: 0.6835 - val_loss: 1.2814 - val_accuracy: 0.6152\n",
      "Epoch 10/10\n",
      "60/60 [==============================] - 463s 8s/step - loss: 0.9280 - accuracy: 0.6787 - val_loss: 1.4155 - val_accuracy: 0.6025\n"
     ]
    }
   ],
   "source": [
    "epochs=10\n",
    "history6 = model.fit(\n",
    "  train_ds,\n",
    "  validation_data=val_ds,\n",
    "  epochs=epochs\n",
    ")"
   ]
  },
  {
   "cell_type": "code",
   "execution_count": 26,
   "metadata": {},
   "outputs": [
    {
     "data": {
      "image/png": "[encoded data removed]",
      "text/plain": [
       "<Figure size 576x576 with 2 Axes>"
      ]
     },
     "metadata": {
      "needs_background": "light"
     },
     "output_type": "display_data"
    }
   ],
   "source": [
    "acc = history6.history['accuracy']\n",
    "val_acc = history6.history['val_accuracy']\n",
    "\n",
    "loss = history6.history['loss']\n",
    "val_loss = history6.history['val_loss']\n",
    "\n",
    "epochs_range = range(epochs)\n",
    "\n",
    "plt.figure(figsize=(8, 8))\n",
    "plt.subplot(1, 2, 1)\n",
    "plt.plot(epochs_range, acc, label='Training Accuracy')\n",
    "plt.plot(epochs_range, val_acc, label='Validation Accuracy')\n",
    "plt.legend(loc='lower right')\n",
    "plt.title('Training and Validation Accuracy')\n",
    "\n",
    "plt.subplot(1, 2, 2)\n",
    "plt.plot(epochs_range, loss, label='Training Loss')\n",
    "plt.plot(epochs_range, val_loss, label='Validation Loss')\n",
    "plt.legend(loc='upper right')\n",
    "plt.title('Training and Validation Loss')\n",
    "plt.show()"
   ]
  },
  {
   "cell_type": "markdown",
   "metadata": {},
   "source": [
    "# One more model"
   ]
  },
  {
   "cell_type": "code",
   "execution_count": 48,
   "metadata": {},
   "outputs": [
    {
     "ename": "NameError",
     "evalue": "name 'metadata' is not defined",
     "output_type": "error",
     "traceback": [
      "\u001b[1;31m---------------------------------------------------------------------------\u001b[0m",
      "\u001b[1;31mNameError\u001b[0m                                 Traceback (most recent call last)",
      "\u001b[1;32m<ipython-input-48-ca4492d2ab8f>\u001b[0m in \u001b[0;36m<module>\u001b[1;34m\u001b[0m\n\u001b[0;32m      1\u001b[0m \u001b[1;32mfrom\u001b[0m \u001b[0mtensorflow\u001b[0m\u001b[1;33m.\u001b[0m\u001b[0mkeras\u001b[0m \u001b[1;32mimport\u001b[0m \u001b[0mlayers\u001b[0m\u001b[1;33m\u001b[0m\u001b[1;33m\u001b[0m\u001b[0m\n\u001b[0;32m      2\u001b[0m \u001b[1;33m\u001b[0m\u001b[0m\n\u001b[1;32m----> 3\u001b[1;33m \u001b[0mget_label_name\u001b[0m \u001b[1;33m=\u001b[0m \u001b[0mmetadata\u001b[0m\u001b[1;33m.\u001b[0m\u001b[0mfeatures\u001b[0m\u001b[1;33m[\u001b[0m\u001b[1;34m'label'\u001b[0m\u001b[1;33m]\u001b[0m\u001b[1;33m.\u001b[0m\u001b[0mint2str\u001b[0m\u001b[1;33m\u001b[0m\u001b[1;33m\u001b[0m\u001b[0m\n\u001b[0m\u001b[0;32m      4\u001b[0m \u001b[1;33m\u001b[0m\u001b[0m\n\u001b[0;32m      5\u001b[0m \u001b[0mimage\u001b[0m\u001b[1;33m,\u001b[0m \u001b[0mlabel\u001b[0m \u001b[1;33m=\u001b[0m \u001b[0mnext\u001b[0m\u001b[1;33m(\u001b[0m\u001b[0miter\u001b[0m\u001b[1;33m(\u001b[0m\u001b[0mtrain_ds\u001b[0m\u001b[1;33m)\u001b[0m\u001b[1;33m)\u001b[0m\u001b[1;33m\u001b[0m\u001b[1;33m\u001b[0m\u001b[0m\n",
      "\u001b[1;31mNameError\u001b[0m: name 'metadata' is not defined"
     ]
    }
   ],
   "source": [
    "get_label_name = metadata.features['label'].int2str\n",
    "\n",
    "image, label = next(iter(train_ds))"
   ]
  },
  {
   "cell_type": "code",
   "execution_count": 52,
   "metadata": {},
   "outputs": [],
   "source": [
    "rescale = tf.keras.Sequential([\n",
    "  layers.experimental.preprocessing.Rescaling(1./255)\n",
    "])"
   ]
  },
  {
   "cell_type": "code",
   "execution_count": 57,
   "metadata": {},
   "outputs": [],
   "source": [
    "data_augmentation = tf.keras.Sequential([\n",
    "  layers.experimental.preprocessing.RandomFlip(\"horizontal_and_vertical\",input_shape=(img_height, img_width, 3)),\n",
    "  layers.experimental.preprocessing.RandomRotation(0.2,input_shape=(img_height, img_width, 3)),\n",
    "])"
   ]
  },
  {
   "cell_type": "code",
   "execution_count": 33,
   "metadata": {},
   "outputs": [],
   "source": [
    "trainAug = tf.keras.Sequential([\n",
    "    layers.experimental.preprocessing.Rescaling(scale=1.0 / 255),\n",
    "    layers.experimental.preprocessing.RandomFlip(\"horizontal_and_vertical\"),\n",
    "    layers.experimental.preprocessing.RandomZoom(\n",
    "        height_factor=(-0.05, -0.15),\n",
    "        width_factor=(-0.05, -0.15)),\n",
    "    layers.experimental.preprocessing.RandomRotation(0.3)\n",
    "])"
   ]
  },
  {
   "cell_type": "code",
   "execution_count": 66,
   "metadata": {
    "scrolled": true
   },
   "outputs": [
    {
     "name": "stdout",
     "output_type": "stream",
     "text": [
      "(32, 400, 600, 3)\n",
      "(32,)\n",
      "(32, 400, 600, 3)\n",
      "(32,)\n",
      "(32, 400, 600, 3)\n",
      "(32,)\n",
      "(32, 400, 600, 3)\n",
      "(32,)\n",
      "(32, 400, 600, 3)\n",
      "(32,)\n",
      "(32, 400, 600, 3)\n",
      "(32,)\n",
      "(32, 400, 600, 3)\n",
      "(32,)\n",
      "(32, 400, 600, 3)\n",
      "(32,)\n",
      "(32, 400, 600, 3)\n",
      "(32,)\n",
      "(32, 400, 600, 3)\n",
      "(32,)\n",
      "(32, 400, 600, 3)\n",
      "(32,)\n",
      "(32, 400, 600, 3)\n",
      "(32,)\n",
      "(32, 400, 600, 3)\n",
      "(32,)\n",
      "(32, 400, 600, 3)\n",
      "(32,)\n",
      "(32, 400, 600, 3)\n",
      "(32,)\n",
      "(32, 400, 600, 3)\n",
      "(32,)\n",
      "(32, 400, 600, 3)\n",
      "(32,)\n",
      "(32, 400, 600, 3)\n",
      "(32,)\n",
      "(32, 400, 600, 3)\n",
      "(32,)\n",
      "(32, 400, 600, 3)\n",
      "(32,)\n",
      "(32, 400, 600, 3)\n",
      "(32,)\n",
      "(32, 400, 600, 3)\n",
      "(32,)\n",
      "(32, 400, 600, 3)\n",
      "(32,)\n",
      "(32, 400, 600, 3)\n",
      "(32,)\n",
      "(32, 400, 600, 3)\n",
      "(32,)\n",
      "(32, 400, 600, 3)\n",
      "(32,)\n",
      "(32, 400, 600, 3)\n",
      "(32,)\n",
      "(32, 400, 600, 3)\n",
      "(32,)\n",
      "(32, 400, 600, 3)\n",
      "(32,)\n",
      "(32, 400, 600, 3)\n",
      "(32,)\n",
      "(32, 400, 600, 3)\n",
      "(32,)\n",
      "(32, 400, 600, 3)\n",
      "(32,)\n",
      "(32, 400, 600, 3)\n",
      "(32,)\n",
      "(32, 400, 600, 3)\n",
      "(32,)\n",
      "(32, 400, 600, 3)\n",
      "(32,)\n",
      "(32, 400, 600, 3)\n",
      "(32,)\n",
      "(32, 400, 600, 3)\n",
      "(32,)\n",
      "(32, 400, 600, 3)\n",
      "(32,)\n",
      "(32, 400, 600, 3)\n",
      "(32,)\n",
      "(32, 400, 600, 3)\n",
      "(32,)\n",
      "(32, 400, 600, 3)\n",
      "(32,)\n",
      "(32, 400, 600, 3)\n",
      "(32,)\n",
      "(32, 400, 600, 3)\n",
      "(32,)\n",
      "(32, 400, 600, 3)\n",
      "(32,)\n",
      "(32, 400, 600, 3)\n",
      "(32,)\n",
      "(32, 400, 600, 3)\n",
      "(32,)\n",
      "(32, 400, 600, 3)\n",
      "(32,)\n",
      "(32, 400, 600, 3)\n",
      "(32,)\n",
      "(32, 400, 600, 3)\n",
      "(32,)\n",
      "(32, 400, 600, 3)\n",
      "(32,)\n",
      "(32, 400, 600, 3)\n",
      "(32,)\n",
      "(32, 400, 600, 3)\n",
      "(32,)\n",
      "(32, 400, 600, 3)\n",
      "(32,)\n",
      "(32, 400, 600, 3)\n",
      "(32,)\n",
      "(32, 400, 600, 3)\n",
      "(32,)\n",
      "(32, 400, 600, 3)\n",
      "(32,)\n",
      "(32, 400, 600, 3)\n",
      "(32,)\n",
      "(32, 400, 600, 3)\n",
      "(32,)\n",
      "(32, 400, 600, 3)\n",
      "(32,)\n",
      "(27, 400, 600, 3)\n",
      "(27,)\n"
     ]
    }
   ],
   "source": [
    "i = 0\n",
    "for image_batch, labels_batch in train_ds:\n",
    "    print(image_batch.shape)\n",
    "    print(labels_batch.shape)\n",
    "    i = i+1"
   ]
  },
  {
   "cell_type": "code",
   "execution_count": 67,
   "metadata": {},
   "outputs": [
    {
     "data": {
      "text/plain": [
       "1920"
      ]
     },
     "execution_count": 67,
     "metadata": {},
     "output_type": "execute_result"
    }
   ],
   "source": [
    "i*32"
   ]
  },
  {
   "cell_type": "code",
   "execution_count": 62,
   "metadata": {},
   "outputs": [],
   "source": [
    "batch_size = 32\n",
    "AUTOTUNE = tf.data.AUTOTUNE\n",
    "\n",
    "def prepare(ds, shuffle=False, augment=False):\n",
    "    # Resize and rescale all datasets\n",
    "    ds = ds.map(lambda x, y: (resize_and_rescale(x), y), \n",
    "                num_parallel_calls=AUTOTUNE)\n",
    "\n",
    "    # Use data augmentation only on the training set\n",
    "    if augment:\n",
    "        ds = ds.map(lambda x, y: (data_augmentation(x, training=True), y), \n",
    "                    num_parallel_calls=AUTOTUNE)\n",
    "\n",
    "    # Use buffered prefecting on all datasets\n",
    "    return ds.prefetch(buffer_size=AUTOTUNE)"
   ]
  },
  {
   "cell_type": "code",
   "execution_count": 63,
   "metadata": {},
   "outputs": [],
   "source": [
    "train_ds = prepare(train_ds, shuffle=False, augment=True)"
   ]
  },
  {
   "cell_type": "code",
   "execution_count": 65,
   "metadata": {},
   "outputs": [
    {
     "data": {
      "text/plain": [
       "<BatchDataset shapes: ((None, 400, 600, 3), (None,)), types: (tf.float32, tf.int32)>"
      ]
     },
     "execution_count": 65,
     "metadata": {},
     "output_type": "execute_result"
    }
   ],
   "source": [
    "val_ds"
   ]
  },
  {
   "cell_type": "code",
   "execution_count": 64,
   "metadata": {},
   "outputs": [
    {
     "data": {
      "text/plain": [
       "<PrefetchDataset shapes: ((None, 400, 600, 3), (None,)), types: (tf.float32, tf.int32)>"
      ]
     },
     "execution_count": 64,
     "metadata": {},
     "output_type": "execute_result"
    }
   ],
   "source": [
    "train_ds"
   ]
  },
  {
   "cell_type": "code",
   "execution_count": 35,
   "metadata": {},
   "outputs": [
    {
     "ename": "ValueError",
     "evalue": "in user code:\n\n    <ipython-input-34-a45e208e8359>:6 None  *\n        lambda x, y: (trainAug(x), y)\n    C:\\Users\\catar\\anaconda3\\lib\\site-packages\\tensorflow\\python\\keras\\engine\\base_layer.py:1012 __call__  **\n        outputs = call_fn(inputs, *args, **kwargs)\n    C:\\Users\\catar\\anaconda3\\lib\\site-packages\\tensorflow\\python\\keras\\engine\\sequential.py:389 call\n        outputs = layer(inputs, **kwargs)\n    C:\\Users\\catar\\anaconda3\\lib\\site-packages\\tensorflow\\python\\keras\\engine\\base_layer.py:998 __call__\n        input_spec.assert_input_compatibility(self.input_spec, inputs, self.name)\n    C:\\Users\\catar\\anaconda3\\lib\\site-packages\\tensorflow\\python\\keras\\engine\\input_spec.py:219 assert_input_compatibility\n        raise ValueError('Input ' + str(input_index) + ' of layer ' +\n\n    ValueError: Input 0 of layer random_flip_2 is incompatible with the layer: expected ndim=4, found ndim=5. Full shape received: (None, None, 400, 600, 3)\n",
     "output_type": "error",
     "traceback": [
      "\u001b[1;31m---------------------------------------------------------------------------\u001b[0m",
      "\u001b[1;31mValueError\u001b[0m                                Traceback (most recent call last)",
      "\u001b[1;32m<ipython-input-35-d4ea0e7610c6>\u001b[0m in \u001b[0;36m<module>\u001b[1;34m\u001b[0m\n\u001b[0;32m      1\u001b[0m \u001b[1;31m# trainDS = tf.data.Dataset.from_tensor_slices((trainX, trainLabels))\u001b[0m\u001b[1;33m\u001b[0m\u001b[1;33m\u001b[0m\u001b[1;33m\u001b[0m\u001b[0m\n\u001b[0;32m      2\u001b[0m trainDS = (\n\u001b[1;32m----> 3\u001b[1;33m     \u001b[0mtrain_ds\u001b[0m\u001b[1;33m\u001b[0m\u001b[1;33m\u001b[0m\u001b[0m\n\u001b[0m\u001b[0;32m      4\u001b[0m     \u001b[1;33m.\u001b[0m\u001b[0mshuffle\u001b[0m\u001b[1;33m(\u001b[0m\u001b[0mbatch_size\u001b[0m \u001b[1;33m*\u001b[0m \u001b[1;36m100\u001b[0m\u001b[1;33m)\u001b[0m\u001b[1;33m\u001b[0m\u001b[1;33m\u001b[0m\u001b[0m\n\u001b[0;32m      5\u001b[0m     \u001b[1;33m.\u001b[0m\u001b[0mbatch\u001b[0m\u001b[1;33m(\u001b[0m\u001b[0mbatch_size\u001b[0m\u001b[1;33m)\u001b[0m\u001b[1;33m\u001b[0m\u001b[1;33m\u001b[0m\u001b[0m\n",
      "\u001b[1;32m~\\anaconda3\\lib\\site-packages\\tensorflow\\python\\data\\ops\\dataset_ops.py\u001b[0m in \u001b[0;36mmap\u001b[1;34m(self, map_func, num_parallel_calls, deterministic)\u001b[0m\n\u001b[0;32m   1805\u001b[0m       \u001b[1;32mreturn\u001b[0m \u001b[0mMapDataset\u001b[0m\u001b[1;33m(\u001b[0m\u001b[0mself\u001b[0m\u001b[1;33m,\u001b[0m \u001b[0mmap_func\u001b[0m\u001b[1;33m,\u001b[0m \u001b[0mpreserve_cardinality\u001b[0m\u001b[1;33m=\u001b[0m\u001b[1;32mTrue\u001b[0m\u001b[1;33m)\u001b[0m\u001b[1;33m\u001b[0m\u001b[1;33m\u001b[0m\u001b[0m\n\u001b[0;32m   1806\u001b[0m     \u001b[1;32melse\u001b[0m\u001b[1;33m:\u001b[0m\u001b[1;33m\u001b[0m\u001b[1;33m\u001b[0m\u001b[0m\n\u001b[1;32m-> 1807\u001b[1;33m       return ParallelMapDataset(\n\u001b[0m\u001b[0;32m   1808\u001b[0m           \u001b[0mself\u001b[0m\u001b[1;33m,\u001b[0m\u001b[1;33m\u001b[0m\u001b[1;33m\u001b[0m\u001b[0m\n\u001b[0;32m   1809\u001b[0m           \u001b[0mmap_func\u001b[0m\u001b[1;33m,\u001b[0m\u001b[1;33m\u001b[0m\u001b[1;33m\u001b[0m\u001b[0m\n",
      "\u001b[1;32m~\\anaconda3\\lib\\site-packages\\tensorflow\\python\\data\\ops\\dataset_ops.py\u001b[0m in \u001b[0;36m__init__\u001b[1;34m(self, input_dataset, map_func, num_parallel_calls, deterministic, use_inter_op_parallelism, preserve_cardinality, use_legacy_function)\u001b[0m\n\u001b[0;32m   4240\u001b[0m     \u001b[0mself\u001b[0m\u001b[1;33m.\u001b[0m\u001b[0m_input_dataset\u001b[0m \u001b[1;33m=\u001b[0m \u001b[0minput_dataset\u001b[0m\u001b[1;33m\u001b[0m\u001b[1;33m\u001b[0m\u001b[0m\n\u001b[0;32m   4241\u001b[0m     \u001b[0mself\u001b[0m\u001b[1;33m.\u001b[0m\u001b[0m_use_inter_op_parallelism\u001b[0m \u001b[1;33m=\u001b[0m \u001b[0muse_inter_op_parallelism\u001b[0m\u001b[1;33m\u001b[0m\u001b[1;33m\u001b[0m\u001b[0m\n\u001b[1;32m-> 4242\u001b[1;33m     self._map_func = StructuredFunctionWrapper(\n\u001b[0m\u001b[0;32m   4243\u001b[0m         \u001b[0mmap_func\u001b[0m\u001b[1;33m,\u001b[0m\u001b[1;33m\u001b[0m\u001b[1;33m\u001b[0m\u001b[0m\n\u001b[0;32m   4244\u001b[0m         \u001b[0mself\u001b[0m\u001b[1;33m.\u001b[0m\u001b[0m_transformation_name\u001b[0m\u001b[1;33m(\u001b[0m\u001b[1;33m)\u001b[0m\u001b[1;33m,\u001b[0m\u001b[1;33m\u001b[0m\u001b[1;33m\u001b[0m\u001b[0m\n",
      "\u001b[1;32m~\\anaconda3\\lib\\site-packages\\tensorflow\\python\\data\\ops\\dataset_ops.py\u001b[0m in \u001b[0;36m__init__\u001b[1;34m(self, func, transformation_name, dataset, input_classes, input_shapes, input_types, input_structure, add_to_graph, use_legacy_function, defun_kwargs)\u001b[0m\n\u001b[0;32m   3523\u001b[0m       \u001b[1;32mwith\u001b[0m \u001b[0mtracking\u001b[0m\u001b[1;33m.\u001b[0m\u001b[0mresource_tracker_scope\u001b[0m\u001b[1;33m(\u001b[0m\u001b[0mresource_tracker\u001b[0m\u001b[1;33m)\u001b[0m\u001b[1;33m:\u001b[0m\u001b[1;33m\u001b[0m\u001b[1;33m\u001b[0m\u001b[0m\n\u001b[0;32m   3524\u001b[0m         \u001b[1;31m# TODO(b/141462134): Switch to using garbage collection.\u001b[0m\u001b[1;33m\u001b[0m\u001b[1;33m\u001b[0m\u001b[1;33m\u001b[0m\u001b[0m\n\u001b[1;32m-> 3525\u001b[1;33m         \u001b[0mself\u001b[0m\u001b[1;33m.\u001b[0m\u001b[0m_function\u001b[0m \u001b[1;33m=\u001b[0m \u001b[0mwrapper_fn\u001b[0m\u001b[1;33m.\u001b[0m\u001b[0mget_concrete_function\u001b[0m\u001b[1;33m(\u001b[0m\u001b[1;33m)\u001b[0m\u001b[1;33m\u001b[0m\u001b[1;33m\u001b[0m\u001b[0m\n\u001b[0m\u001b[0;32m   3526\u001b[0m         \u001b[1;32mif\u001b[0m \u001b[0madd_to_graph\u001b[0m\u001b[1;33m:\u001b[0m\u001b[1;33m\u001b[0m\u001b[1;33m\u001b[0m\u001b[0m\n\u001b[0;32m   3527\u001b[0m           \u001b[0mself\u001b[0m\u001b[1;33m.\u001b[0m\u001b[0m_function\u001b[0m\u001b[1;33m.\u001b[0m\u001b[0madd_to_graph\u001b[0m\u001b[1;33m(\u001b[0m\u001b[0mops\u001b[0m\u001b[1;33m.\u001b[0m\u001b[0mget_default_graph\u001b[0m\u001b[1;33m(\u001b[0m\u001b[1;33m)\u001b[0m\u001b[1;33m)\u001b[0m\u001b[1;33m\u001b[0m\u001b[1;33m\u001b[0m\u001b[0m\n",
      "\u001b[1;32m~\\anaconda3\\lib\\site-packages\\tensorflow\\python\\eager\\function.py\u001b[0m in \u001b[0;36mget_concrete_function\u001b[1;34m(self, *args, **kwargs)\u001b[0m\n\u001b[0;32m   3049\u001b[0m       \u001b[1;33m**\u001b[0m\u001b[0mkwargs\u001b[0m\u001b[1;33m:\u001b[0m \u001b[0minputs\u001b[0m \u001b[0mto\u001b[0m \u001b[0mspecialize\u001b[0m \u001b[0mon\u001b[0m\u001b[1;33m.\u001b[0m\u001b[1;33m\u001b[0m\u001b[1;33m\u001b[0m\u001b[0m\n\u001b[0;32m   3050\u001b[0m     \"\"\"\n\u001b[1;32m-> 3051\u001b[1;33m     graph_function = self._get_concrete_function_garbage_collected(\n\u001b[0m\u001b[0;32m   3052\u001b[0m         *args, **kwargs)\n\u001b[0;32m   3053\u001b[0m     \u001b[0mgraph_function\u001b[0m\u001b[1;33m.\u001b[0m\u001b[0m_garbage_collector\u001b[0m\u001b[1;33m.\u001b[0m\u001b[0mrelease\u001b[0m\u001b[1;33m(\u001b[0m\u001b[1;33m)\u001b[0m  \u001b[1;31m# pylint: disable=protected-access\u001b[0m\u001b[1;33m\u001b[0m\u001b[1;33m\u001b[0m\u001b[0m\n",
      "\u001b[1;32m~\\anaconda3\\lib\\site-packages\\tensorflow\\python\\eager\\function.py\u001b[0m in \u001b[0;36m_get_concrete_function_garbage_collected\u001b[1;34m(self, *args, **kwargs)\u001b[0m\n\u001b[0;32m   3017\u001b[0m       \u001b[0margs\u001b[0m\u001b[1;33m,\u001b[0m \u001b[0mkwargs\u001b[0m \u001b[1;33m=\u001b[0m \u001b[1;32mNone\u001b[0m\u001b[1;33m,\u001b[0m \u001b[1;32mNone\u001b[0m\u001b[1;33m\u001b[0m\u001b[1;33m\u001b[0m\u001b[0m\n\u001b[0;32m   3018\u001b[0m     \u001b[1;32mwith\u001b[0m \u001b[0mself\u001b[0m\u001b[1;33m.\u001b[0m\u001b[0m_lock\u001b[0m\u001b[1;33m:\u001b[0m\u001b[1;33m\u001b[0m\u001b[1;33m\u001b[0m\u001b[0m\n\u001b[1;32m-> 3019\u001b[1;33m       \u001b[0mgraph_function\u001b[0m\u001b[1;33m,\u001b[0m \u001b[0m_\u001b[0m \u001b[1;33m=\u001b[0m \u001b[0mself\u001b[0m\u001b[1;33m.\u001b[0m\u001b[0m_maybe_define_function\u001b[0m\u001b[1;33m(\u001b[0m\u001b[0margs\u001b[0m\u001b[1;33m,\u001b[0m \u001b[0mkwargs\u001b[0m\u001b[1;33m)\u001b[0m\u001b[1;33m\u001b[0m\u001b[1;33m\u001b[0m\u001b[0m\n\u001b[0m\u001b[0;32m   3020\u001b[0m       \u001b[0mseen_names\u001b[0m \u001b[1;33m=\u001b[0m \u001b[0mset\u001b[0m\u001b[1;33m(\u001b[0m\u001b[1;33m)\u001b[0m\u001b[1;33m\u001b[0m\u001b[1;33m\u001b[0m\u001b[0m\n\u001b[0;32m   3021\u001b[0m       captured = object_identity.ObjectIdentitySet(\n",
      "\u001b[1;32m~\\anaconda3\\lib\\site-packages\\tensorflow\\python\\eager\\function.py\u001b[0m in \u001b[0;36m_maybe_define_function\u001b[1;34m(self, args, kwargs)\u001b[0m\n\u001b[0;32m   3359\u001b[0m \u001b[1;33m\u001b[0m\u001b[0m\n\u001b[0;32m   3360\u001b[0m           \u001b[0mself\u001b[0m\u001b[1;33m.\u001b[0m\u001b[0m_function_cache\u001b[0m\u001b[1;33m.\u001b[0m\u001b[0mmissed\u001b[0m\u001b[1;33m.\u001b[0m\u001b[0madd\u001b[0m\u001b[1;33m(\u001b[0m\u001b[0mcall_context_key\u001b[0m\u001b[1;33m)\u001b[0m\u001b[1;33m\u001b[0m\u001b[1;33m\u001b[0m\u001b[0m\n\u001b[1;32m-> 3361\u001b[1;33m           \u001b[0mgraph_function\u001b[0m \u001b[1;33m=\u001b[0m \u001b[0mself\u001b[0m\u001b[1;33m.\u001b[0m\u001b[0m_create_graph_function\u001b[0m\u001b[1;33m(\u001b[0m\u001b[0margs\u001b[0m\u001b[1;33m,\u001b[0m \u001b[0mkwargs\u001b[0m\u001b[1;33m)\u001b[0m\u001b[1;33m\u001b[0m\u001b[1;33m\u001b[0m\u001b[0m\n\u001b[0m\u001b[0;32m   3362\u001b[0m           \u001b[0mself\u001b[0m\u001b[1;33m.\u001b[0m\u001b[0m_function_cache\u001b[0m\u001b[1;33m.\u001b[0m\u001b[0mprimary\u001b[0m\u001b[1;33m[\u001b[0m\u001b[0mcache_key\u001b[0m\u001b[1;33m]\u001b[0m \u001b[1;33m=\u001b[0m \u001b[0mgraph_function\u001b[0m\u001b[1;33m\u001b[0m\u001b[1;33m\u001b[0m\u001b[0m\n\u001b[0;32m   3363\u001b[0m \u001b[1;33m\u001b[0m\u001b[0m\n",
      "\u001b[1;32m~\\anaconda3\\lib\\site-packages\\tensorflow\\python\\eager\\function.py\u001b[0m in \u001b[0;36m_create_graph_function\u001b[1;34m(self, args, kwargs, override_flat_arg_shapes)\u001b[0m\n\u001b[0;32m   3194\u001b[0m     \u001b[0marg_names\u001b[0m \u001b[1;33m=\u001b[0m \u001b[0mbase_arg_names\u001b[0m \u001b[1;33m+\u001b[0m \u001b[0mmissing_arg_names\u001b[0m\u001b[1;33m\u001b[0m\u001b[1;33m\u001b[0m\u001b[0m\n\u001b[0;32m   3195\u001b[0m     graph_function = ConcreteFunction(\n\u001b[1;32m-> 3196\u001b[1;33m         func_graph_module.func_graph_from_py_func(\n\u001b[0m\u001b[0;32m   3197\u001b[0m             \u001b[0mself\u001b[0m\u001b[1;33m.\u001b[0m\u001b[0m_name\u001b[0m\u001b[1;33m,\u001b[0m\u001b[1;33m\u001b[0m\u001b[1;33m\u001b[0m\u001b[0m\n\u001b[0;32m   3198\u001b[0m             \u001b[0mself\u001b[0m\u001b[1;33m.\u001b[0m\u001b[0m_python_function\u001b[0m\u001b[1;33m,\u001b[0m\u001b[1;33m\u001b[0m\u001b[1;33m\u001b[0m\u001b[0m\n",
      "\u001b[1;32m~\\anaconda3\\lib\\site-packages\\tensorflow\\python\\framework\\func_graph.py\u001b[0m in \u001b[0;36mfunc_graph_from_py_func\u001b[1;34m(name, python_func, args, kwargs, signature, func_graph, autograph, autograph_options, add_control_dependencies, arg_names, op_return_value, collections, capture_by_value, override_flat_arg_shapes)\u001b[0m\n\u001b[0;32m    988\u001b[0m         \u001b[0m_\u001b[0m\u001b[1;33m,\u001b[0m \u001b[0moriginal_func\u001b[0m \u001b[1;33m=\u001b[0m \u001b[0mtf_decorator\u001b[0m\u001b[1;33m.\u001b[0m\u001b[0munwrap\u001b[0m\u001b[1;33m(\u001b[0m\u001b[0mpython_func\u001b[0m\u001b[1;33m)\u001b[0m\u001b[1;33m\u001b[0m\u001b[1;33m\u001b[0m\u001b[0m\n\u001b[0;32m    989\u001b[0m \u001b[1;33m\u001b[0m\u001b[0m\n\u001b[1;32m--> 990\u001b[1;33m       \u001b[0mfunc_outputs\u001b[0m \u001b[1;33m=\u001b[0m \u001b[0mpython_func\u001b[0m\u001b[1;33m(\u001b[0m\u001b[1;33m*\u001b[0m\u001b[0mfunc_args\u001b[0m\u001b[1;33m,\u001b[0m \u001b[1;33m**\u001b[0m\u001b[0mfunc_kwargs\u001b[0m\u001b[1;33m)\u001b[0m\u001b[1;33m\u001b[0m\u001b[1;33m\u001b[0m\u001b[0m\n\u001b[0m\u001b[0;32m    991\u001b[0m \u001b[1;33m\u001b[0m\u001b[0m\n\u001b[0;32m    992\u001b[0m       \u001b[1;31m# invariant: `func_outputs` contains only Tensors, CompositeTensors,\u001b[0m\u001b[1;33m\u001b[0m\u001b[1;33m\u001b[0m\u001b[1;33m\u001b[0m\u001b[0m\n",
      "\u001b[1;32m~\\anaconda3\\lib\\site-packages\\tensorflow\\python\\data\\ops\\dataset_ops.py\u001b[0m in \u001b[0;36mwrapper_fn\u001b[1;34m(*args)\u001b[0m\n\u001b[0;32m   3516\u001b[0m           attributes=defun_kwargs)\n\u001b[0;32m   3517\u001b[0m       \u001b[1;32mdef\u001b[0m \u001b[0mwrapper_fn\u001b[0m\u001b[1;33m(\u001b[0m\u001b[1;33m*\u001b[0m\u001b[0margs\u001b[0m\u001b[1;33m)\u001b[0m\u001b[1;33m:\u001b[0m  \u001b[1;31m# pylint: disable=missing-docstring\u001b[0m\u001b[1;33m\u001b[0m\u001b[1;33m\u001b[0m\u001b[0m\n\u001b[1;32m-> 3518\u001b[1;33m         \u001b[0mret\u001b[0m \u001b[1;33m=\u001b[0m \u001b[0m_wrapper_helper\u001b[0m\u001b[1;33m(\u001b[0m\u001b[1;33m*\u001b[0m\u001b[0margs\u001b[0m\u001b[1;33m)\u001b[0m\u001b[1;33m\u001b[0m\u001b[1;33m\u001b[0m\u001b[0m\n\u001b[0m\u001b[0;32m   3519\u001b[0m         \u001b[0mret\u001b[0m \u001b[1;33m=\u001b[0m \u001b[0mstructure\u001b[0m\u001b[1;33m.\u001b[0m\u001b[0mto_tensor_list\u001b[0m\u001b[1;33m(\u001b[0m\u001b[0mself\u001b[0m\u001b[1;33m.\u001b[0m\u001b[0m_output_structure\u001b[0m\u001b[1;33m,\u001b[0m \u001b[0mret\u001b[0m\u001b[1;33m)\u001b[0m\u001b[1;33m\u001b[0m\u001b[1;33m\u001b[0m\u001b[0m\n\u001b[0;32m   3520\u001b[0m         \u001b[1;32mreturn\u001b[0m \u001b[1;33m[\u001b[0m\u001b[0mops\u001b[0m\u001b[1;33m.\u001b[0m\u001b[0mconvert_to_tensor\u001b[0m\u001b[1;33m(\u001b[0m\u001b[0mt\u001b[0m\u001b[1;33m)\u001b[0m \u001b[1;32mfor\u001b[0m \u001b[0mt\u001b[0m \u001b[1;32min\u001b[0m \u001b[0mret\u001b[0m\u001b[1;33m]\u001b[0m\u001b[1;33m\u001b[0m\u001b[1;33m\u001b[0m\u001b[0m\n",
      "\u001b[1;32m~\\anaconda3\\lib\\site-packages\\tensorflow\\python\\data\\ops\\dataset_ops.py\u001b[0m in \u001b[0;36m_wrapper_helper\u001b[1;34m(*args)\u001b[0m\n\u001b[0;32m   3451\u001b[0m         \u001b[0mnested_args\u001b[0m \u001b[1;33m=\u001b[0m \u001b[1;33m(\u001b[0m\u001b[0mnested_args\u001b[0m\u001b[1;33m,\u001b[0m\u001b[1;33m)\u001b[0m\u001b[1;33m\u001b[0m\u001b[1;33m\u001b[0m\u001b[0m\n\u001b[0;32m   3452\u001b[0m \u001b[1;33m\u001b[0m\u001b[0m\n\u001b[1;32m-> 3453\u001b[1;33m       \u001b[0mret\u001b[0m \u001b[1;33m=\u001b[0m \u001b[0mautograph\u001b[0m\u001b[1;33m.\u001b[0m\u001b[0mtf_convert\u001b[0m\u001b[1;33m(\u001b[0m\u001b[0mfunc\u001b[0m\u001b[1;33m,\u001b[0m \u001b[0mag_ctx\u001b[0m\u001b[1;33m)\u001b[0m\u001b[1;33m(\u001b[0m\u001b[1;33m*\u001b[0m\u001b[0mnested_args\u001b[0m\u001b[1;33m)\u001b[0m\u001b[1;33m\u001b[0m\u001b[1;33m\u001b[0m\u001b[0m\n\u001b[0m\u001b[0;32m   3454\u001b[0m       \u001b[1;31m# If `func` returns a list of tensors, `nest.flatten()` and\u001b[0m\u001b[1;33m\u001b[0m\u001b[1;33m\u001b[0m\u001b[1;33m\u001b[0m\u001b[0m\n\u001b[0;32m   3455\u001b[0m       \u001b[1;31m# `ops.convert_to_tensor()` would conspire to attempt to stack\u001b[0m\u001b[1;33m\u001b[0m\u001b[1;33m\u001b[0m\u001b[1;33m\u001b[0m\u001b[0m\n",
      "\u001b[1;32m~\\anaconda3\\lib\\site-packages\\tensorflow\\python\\autograph\\impl\\api.py\u001b[0m in \u001b[0;36mwrapper\u001b[1;34m(*args, **kwargs)\u001b[0m\n\u001b[0;32m    668\u001b[0m       \u001b[1;32mexcept\u001b[0m \u001b[0mException\u001b[0m \u001b[1;32mas\u001b[0m \u001b[0me\u001b[0m\u001b[1;33m:\u001b[0m  \u001b[1;31m# pylint:disable=broad-except\u001b[0m\u001b[1;33m\u001b[0m\u001b[1;33m\u001b[0m\u001b[0m\n\u001b[0;32m    669\u001b[0m         \u001b[1;32mif\u001b[0m \u001b[0mhasattr\u001b[0m\u001b[1;33m(\u001b[0m\u001b[0me\u001b[0m\u001b[1;33m,\u001b[0m \u001b[1;34m'ag_error_metadata'\u001b[0m\u001b[1;33m)\u001b[0m\u001b[1;33m:\u001b[0m\u001b[1;33m\u001b[0m\u001b[1;33m\u001b[0m\u001b[0m\n\u001b[1;32m--> 670\u001b[1;33m           \u001b[1;32mraise\u001b[0m \u001b[0me\u001b[0m\u001b[1;33m.\u001b[0m\u001b[0mag_error_metadata\u001b[0m\u001b[1;33m.\u001b[0m\u001b[0mto_exception\u001b[0m\u001b[1;33m(\u001b[0m\u001b[0me\u001b[0m\u001b[1;33m)\u001b[0m\u001b[1;33m\u001b[0m\u001b[1;33m\u001b[0m\u001b[0m\n\u001b[0m\u001b[0;32m    671\u001b[0m         \u001b[1;32melse\u001b[0m\u001b[1;33m:\u001b[0m\u001b[1;33m\u001b[0m\u001b[1;33m\u001b[0m\u001b[0m\n\u001b[0;32m    672\u001b[0m           \u001b[1;32mraise\u001b[0m\u001b[1;33m\u001b[0m\u001b[1;33m\u001b[0m\u001b[0m\n",
      "\u001b[1;31mValueError\u001b[0m: in user code:\n\n    <ipython-input-34-a45e208e8359>:6 None  *\n        lambda x, y: (trainAug(x), y)\n    C:\\Users\\catar\\anaconda3\\lib\\site-packages\\tensorflow\\python\\keras\\engine\\base_layer.py:1012 __call__  **\n        outputs = call_fn(inputs, *args, **kwargs)\n    C:\\Users\\catar\\anaconda3\\lib\\site-packages\\tensorflow\\python\\keras\\engine\\sequential.py:389 call\n        outputs = layer(inputs, **kwargs)\n    C:\\Users\\catar\\anaconda3\\lib\\site-packages\\tensorflow\\python\\keras\\engine\\base_layer.py:998 __call__\n        input_spec.assert_input_compatibility(self.input_spec, inputs, self.name)\n    C:\\Users\\catar\\anaconda3\\lib\\site-packages\\tensorflow\\python\\keras\\engine\\input_spec.py:219 assert_input_compatibility\n        raise ValueError('Input ' + str(input_index) + ' of layer ' +\n\n    ValueError: Input 0 of layer random_flip_2 is incompatible with the layer: expected ndim=4, found ndim=5. Full shape received: (None, None, 400, 600, 3)\n"
     ]
    }
   ],
   "source": [
    "# trainDS = tf.data.Dataset.from_tensor_slices((trainX, trainLabels))\n",
    "trainDS = (\n",
    "    train_ds\n",
    "    .shuffle(batch_size * 100)\n",
    "    .batch(batch_size)\n",
    "    .map(lambda x, y: (trainAug(x), y),\n",
    "         num_parallel_calls=tf.data.AUTOTUNE)\n",
    "    .prefetch(tf.data.AUTOTUNE)\n",
    ")"
   ]
  },
  {
   "cell_type": "markdown",
   "metadata": {},
   "source": [
    "# Another one"
   ]
  },
  {
   "cell_type": "code",
   "execution_count": 170,
   "metadata": {},
   "outputs": [],
   "source": [
    "model1 = models.Sequential()\n",
    "# Conv2D(#filters, size of filter, )\n",
    "model1.add(layers.experimental.preprocessing.Rescaling(1./255, input_shape=(img_height, img_width, 3)))\n",
    "model1.add(layers.Conv2D(32, (3, 3), padding= 'same', input_shape=(img_height, img_width, 3),data_format='channels_last'))\n",
    "model1.add(layers.Activation('relu'))\n",
    "model1.add(layers.MaxPooling2D(pool_size=(2, 2)))\n",
    "\n",
    "model1.add(layers.Conv2D(64, (3, 3)))\n",
    "model1.add(layers.Activation('relu'))\n",
    "model1.add(layers.MaxPooling2D(pool_size=(2, 2)))\n",
    "\n",
    "model1.add(layers.Conv2D(64, (3, 3)))\n",
    "model1.add(layers.Activation('relu'))\n",
    "model1.add(layers.MaxPooling2D(pool_size=(2, 2)))\n",
    "\n",
    "model1.add(layers.Conv2D(64, (3, 3)))\n",
    "model1.add(layers.Activation('relu'))\n",
    "model1.add(layers.MaxPooling2D(pool_size=(2, 2)))\n",
    "\n",
    "model1.add(layers.Conv2D(64, (3, 3)))\n",
    "model1.add(layers.Activation('relu'))\n",
    "model1.add(layers.MaxPooling2D(pool_size=(2, 2)))\n",
    "\n",
    "model1.add(layers.Flatten())\n",
    "model1.add(layers.Dense(64))\n",
    "model1.add(layers.Activation('relu'))\n",
    "model1.add(layers.Dropout(0.2))\n",
    "model1.add(layers.Dense(num_classes))\n",
    "model1.add(layers.Activation('softmax'))\n",
    "\n",
    "model1.compile(optimizer='adam',\n",
    "              loss=tf.keras.losses.SparseCategoricalCrossentropy(from_logits=True),\n",
    "              metrics=['accuracy'])"
   ]
  },
  {
   "cell_type": "code",
   "execution_count": 171,
   "metadata": {},
   "outputs": [
    {
     "name": "stdout",
     "output_type": "stream",
     "text": [
      "Model: \"sequential_16\"\n",
      "_________________________________________________________________\n",
      "Layer (type)                 Output Shape              Param #   \n",
      "=================================================================\n",
      "rescaling_12 (Rescaling)     (None, 400, 600, 3)       0         \n",
      "_________________________________________________________________\n",
      "conv2d_32 (Conv2D)           (None, 400, 600, 32)      896       \n",
      "_________________________________________________________________\n",
      "activation_50 (Activation)   (None, 400, 600, 32)      0         \n",
      "_________________________________________________________________\n",
      "max_pooling2d_32 (MaxPooling (None, 200, 300, 32)      0         \n",
      "_________________________________________________________________\n",
      "conv2d_33 (Conv2D)           (None, 198, 298, 64)      18496     \n",
      "_________________________________________________________________\n",
      "activation_51 (Activation)   (None, 198, 298, 64)      0         \n",
      "_________________________________________________________________\n",
      "max_pooling2d_33 (MaxPooling (None, 99, 149, 64)       0         \n",
      "_________________________________________________________________\n",
      "conv2d_34 (Conv2D)           (None, 97, 147, 64)       36928     \n",
      "_________________________________________________________________\n",
      "activation_52 (Activation)   (None, 97, 147, 64)       0         \n",
      "_________________________________________________________________\n",
      "max_pooling2d_34 (MaxPooling (None, 48, 73, 64)        0         \n",
      "_________________________________________________________________\n",
      "conv2d_35 (Conv2D)           (None, 46, 71, 64)        36928     \n",
      "_________________________________________________________________\n",
      "activation_53 (Activation)   (None, 46, 71, 64)        0         \n",
      "_________________________________________________________________\n",
      "max_pooling2d_35 (MaxPooling (None, 23, 35, 64)        0         \n",
      "_________________________________________________________________\n",
      "conv2d_36 (Conv2D)           (None, 21, 33, 64)        36928     \n",
      "_________________________________________________________________\n",
      "activation_54 (Activation)   (None, 21, 33, 64)        0         \n",
      "_________________________________________________________________\n",
      "max_pooling2d_36 (MaxPooling (None, 10, 16, 64)        0         \n",
      "_________________________________________________________________\n",
      "flatten_9 (Flatten)          (None, 10240)             0         \n",
      "_________________________________________________________________\n",
      "dense_18 (Dense)             (None, 64)                655424    \n",
      "_________________________________________________________________\n",
      "activation_55 (Activation)   (None, 64)                0         \n",
      "_________________________________________________________________\n",
      "dropout_9 (Dropout)          (None, 64)                0         \n",
      "_________________________________________________________________\n",
      "dense_19 (Dense)             (None, 10)                650       \n",
      "_________________________________________________________________\n",
      "activation_56 (Activation)   (None, 10)                0         \n",
      "=================================================================\n",
      "Total params: 786,250\n",
      "Trainable params: 786,250\n",
      "Non-trainable params: 0\n",
      "_________________________________________________________________\n"
     ]
    }
   ],
   "source": [
    "model1.summary()"
   ]
  },
  {
   "cell_type": "code",
   "execution_count": 172,
   "metadata": {},
   "outputs": [
    {
     "name": "stdout",
     "output_type": "stream",
     "text": [
      "Epoch 1/10\n",
      "60/60 [==============================] - 466s 8s/step - loss: 1.9713 - accuracy: 0.3779 - val_loss: 1.3660 - val_accuracy: 0.5391\n",
      "Epoch 2/10\n",
      "60/60 [==============================] - 487s 8s/step - loss: 1.1246 - accuracy: 0.6165 - val_loss: 1.2223 - val_accuracy: 0.5983\n",
      "Epoch 3/10\n",
      "60/60 [==============================] - 470s 8s/step - loss: 0.7518 - accuracy: 0.7618 - val_loss: 1.1701 - val_accuracy: 0.6089\n",
      "Epoch 4/10\n",
      "60/60 [==============================] - 474s 8s/step - loss: 0.5459 - accuracy: 0.8306 - val_loss: 1.3243 - val_accuracy: 0.6364\n",
      "Epoch 5/10\n",
      "60/60 [==============================] - 489s 8s/step - loss: 0.4448 - accuracy: 0.8515 - val_loss: 1.1854 - val_accuracy: 0.6681\n",
      "Epoch 6/10\n",
      "60/60 [==============================] - 473s 8s/step - loss: 0.2747 - accuracy: 0.8968 - val_loss: 1.5052 - val_accuracy: 0.6617\n",
      "Epoch 7/10\n",
      "60/60 [==============================] - 473s 8s/step - loss: 0.2013 - accuracy: 0.9333 - val_loss: 1.3818 - val_accuracy: 0.6808\n",
      "Epoch 8/10\n",
      "60/60 [==============================] - 454s 8s/step - loss: 0.1645 - accuracy: 0.9397 - val_loss: 1.6543 - val_accuracy: 0.6638\n",
      "Epoch 9/10\n",
      "60/60 [==============================] - 470s 8s/step - loss: 0.1601 - accuracy: 0.9443 - val_loss: 1.8699 - val_accuracy: 0.6533\n",
      "Epoch 10/10\n",
      "60/60 [==============================] - 482s 8s/step - loss: 0.1181 - accuracy: 0.9612 - val_loss: 1.8053 - val_accuracy: 0.6913\n"
     ]
    }
   ],
   "source": [
    "epochs=10\n",
    "history7 = model.fit(\n",
    "  train_ds,\n",
    "  validation_data=val_ds,\n",
    "  epochs=epochs\n",
    ")"
   ]
  },
  {
   "cell_type": "code",
   "execution_count": 176,
   "metadata": {},
   "outputs": [
    {
     "data": {
      "image/png": "[encoded data removed]",
      "text/plain": [
       "<Figure size 576x576 with 2 Axes>"
      ]
     },
     "metadata": {
      "needs_background": "light"
     },
     "output_type": "display_data"
    }
   ],
   "source": [
    "acc = history7.history['accuracy']\n",
    "val_acc = history7.history['val_accuracy']\n",
    "\n",
    "loss = history7.history['loss']\n",
    "val_loss = history7.history['val_loss']\n",
    "\n",
    "epochs_range = range(epochs)\n",
    "\n",
    "plt.figure(figsize=(8, 8))\n",
    "plt.subplot(1, 2, 1)\n",
    "plt.plot(epochs_range, acc, label='Training Accuracy')\n",
    "plt.plot(epochs_range, val_acc, label='Validation Accuracy')\n",
    "plt.legend(loc='lower right')\n",
    "plt.title('Training and Validation Accuracy')\n",
    "\n",
    "plt.subplot(1, 2, 2)\n",
    "plt.plot(epochs_range, loss, label='Training Loss')\n",
    "plt.plot(epochs_range, val_loss, label='Validation Loss')\n",
    "plt.legend(loc='upper right')\n",
    "plt.title('Training and Validation Loss')\n",
    "plt.show()"
   ]
  },
  {
   "cell_type": "markdown",
   "metadata": {},
   "source": [
    "# Model with just 3 classes"
   ]
  },
  {
   "cell_type": "code",
   "execution_count": 177,
   "metadata": {},
   "outputs": [
    {
     "name": "stdout",
     "output_type": "stream",
     "text": [
      "Found 827 files belonging to 3 classes.\n",
      "Found 205 files belonging to 3 classes.\n",
      "['Liberty', 'Pisa', 'bigBen']\n"
     ]
    }
   ],
   "source": [
    "train_ds1 = tf.keras.preprocessing.image_dataset_from_directory(\n",
    "  \"images_model2/Training\",\n",
    "  validation_split=None,\n",
    "  subset=None,\n",
    "  seed=None,\n",
    "  image_size=(img_height, img_width),\n",
    "  batch_size=batch_size)\n",
    "val_ds1 = tf.keras.preprocessing.image_dataset_from_directory(\n",
    "  \"images_model2/Validation\",\n",
    "  validation_split=None,\n",
    "  subset=None,\n",
    "  seed=None,\n",
    "  image_size=(img_height, img_width),\n",
    "  batch_size=batch_size)\n",
    "class_names1 = train_ds1.class_names\n",
    "num_classes1 = len(class_names1)\n",
    "print(class_names1)"
   ]
  },
  {
   "cell_type": "code",
   "execution_count": 190,
   "metadata": {},
   "outputs": [],
   "source": [
    "model1 = models.Sequential()\n",
    "# Conv2D(#filters, size of filter, )\n",
    "model1.add(layers.experimental.preprocessing.Rescaling(1./255, input_shape=(img_height, img_width, 3)))\n",
    "model1.add(layers.Conv2D(32, (3, 3), padding= 'same', input_shape=(img_height, img_width, 3),data_format='channels_last'))\n",
    "model1.add(layers.Activation('relu'))\n",
    "model1.add(layers.MaxPooling2D(pool_size=(2, 2)))\n",
    "\n",
    "model1.add(layers.Conv2D(64, (3, 3)))\n",
    "model1.add(layers.Activation('relu'))\n",
    "model1.add(layers.MaxPooling2D(pool_size=(2, 2)))\n",
    "\n",
    "model1.add(layers.Conv2D(64, (3, 3)))\n",
    "model1.add(layers.Activation('relu'))\n",
    "model1.add(layers.MaxPooling2D(pool_size=(2, 2)))\n",
    "\n",
    "model1.add(layers.Conv2D(64, (3, 3)))\n",
    "model1.add(layers.Activation('relu'))\n",
    "model1.add(layers.MaxPooling2D(pool_size=(2, 2)))\n",
    "\n",
    "model1.add(layers.Flatten())\n",
    "model1.add(layers.Dense(64))\n",
    "model1.add(layers.Activation('relu'))\n",
    "model1.add(layers.Dropout(0.2))\n",
    "model1.add(layers.Dense(num_classes))\n",
    "model1.add(layers.Activation('softmax'))\n",
    "\n",
    "model1.compile(optimizer='RMSprop',\n",
    "              loss=tf.keras.losses.SparseCategoricalCrossentropy(from_logits=True),\n",
    "              metrics=['accuracy'])"
   ]
  },
  {
   "cell_type": "code",
   "execution_count": 187,
   "metadata": {},
   "outputs": [
    {
     "name": "stdout",
     "output_type": "stream",
     "text": [
      "Epoch 1/10\n",
      "26/26 [==============================] - 199s 8s/step - loss: 1.8029 - accuracy: 0.2833 - val_loss: 1.1576 - val_accuracy: 0.3512\n",
      "Epoch 2/10\n",
      "26/26 [==============================] - 202s 8s/step - loss: 1.2548 - accuracy: 0.3698 - val_loss: 1.1124 - val_accuracy: 0.3902\n",
      "Epoch 3/10\n",
      "26/26 [==============================] - 205s 8s/step - loss: 1.1875 - accuracy: 0.3879 - val_loss: 1.0251 - val_accuracy: 0.5268\n",
      "Epoch 4/10\n",
      "26/26 [==============================] - 197s 8s/step - loss: 1.1106 - accuracy: 0.4238 - val_loss: 1.1403 - val_accuracy: 0.3707\n",
      "Epoch 5/10\n",
      "26/26 [==============================] - 201s 7s/step - loss: 1.0932 - accuracy: 0.4518 - val_loss: 0.9098 - val_accuracy: 0.5415\n",
      "Epoch 6/10\n",
      "26/26 [==============================] - 196s 8s/step - loss: 1.0050 - accuracy: 0.5597 - val_loss: 0.8942 - val_accuracy: 0.6537\n",
      "Epoch 7/10\n",
      "26/26 [==============================] - 199s 8s/step - loss: 0.8244 - accuracy: 0.6494 - val_loss: 0.8083 - val_accuracy: 0.6732\n",
      "Epoch 8/10\n",
      "26/26 [==============================] - 198s 8s/step - loss: 0.7637 - accuracy: 0.6714 - val_loss: 0.8425 - val_accuracy: 0.6439\n",
      "Epoch 9/10\n",
      "26/26 [==============================] - 193s 7s/step - loss: 0.6581 - accuracy: 0.7492 - val_loss: 0.7749 - val_accuracy: 0.6927\n",
      "Epoch 10/10\n",
      "26/26 [==============================] - 191s 7s/step - loss: 0.6116 - accuracy: 0.7412 - val_loss: 0.7822 - val_accuracy: 0.6732\n"
     ]
    }
   ],
   "source": [
    "# with SGD\n",
    "epochs=10\n",
    "history7 = model1.fit(\n",
    "  train_ds1,\n",
    "  validation_data=val_ds1,\n",
    "  epochs=epochs\n",
    ")"
   ]
  },
  {
   "cell_type": "code",
   "execution_count": 188,
   "metadata": {
    "scrolled": true
   },
   "outputs": [
    {
     "data": {
      "image/png": "[encoded data removed]",
      "text/plain": [
       "<Figure size 576x576 with 2 Axes>"
      ]
     },
     "metadata": {
      "needs_background": "light"
     },
     "output_type": "display_data"
    }
   ],
   "source": [
    "# with SGD\n",
    "acc = history7.history['accuracy']\n",
    "val_acc = history7.history['val_accuracy']\n",
    "\n",
    "loss = history7.history['loss']\n",
    "val_loss = history7.history['val_loss']\n",
    "\n",
    "epochs_range = range(epochs)\n",
    "\n",
    "plt.figure(figsize=(8, 8))\n",
    "plt.subplot(1, 2, 1)\n",
    "plt.plot(epochs_range, acc, label='Training Accuracy')\n",
    "plt.plot(epochs_range, val_acc, label='Validation Accuracy')\n",
    "plt.legend(loc='lower right')\n",
    "plt.title('Training and Validation Accuracy')\n",
    "\n",
    "plt.subplot(1, 2, 2)\n",
    "plt.plot(epochs_range, loss, label='Training Loss')\n",
    "plt.plot(epochs_range, val_loss, label='Validation Loss')\n",
    "plt.legend(loc='upper right')\n",
    "plt.title('Training and Validation Loss')\n",
    "plt.show()"
   ]
  },
  {
   "cell_type": "code",
   "execution_count": 191,
   "metadata": {},
   "outputs": [
    {
     "name": "stdout",
     "output_type": "stream",
     "text": [
      "Epoch 1/10\n",
      "26/26 [==============================] - 200s 8s/step - loss: 9.9567 - accuracy: 0.3621 - val_loss: 1.1551 - val_accuracy: 0.3366\n",
      "Epoch 2/10\n",
      "26/26 [==============================] - 191s 7s/step - loss: 1.0717 - accuracy: 0.5056 - val_loss: 0.9588 - val_accuracy: 0.6049\n",
      "Epoch 3/10\n",
      "26/26 [==============================] - 187s 7s/step - loss: 0.9051 - accuracy: 0.6739 - val_loss: 0.8547 - val_accuracy: 0.7024\n",
      "Epoch 4/10\n",
      "26/26 [==============================] - 180s 7s/step - loss: 0.6343 - accuracy: 0.7816 - val_loss: 0.7668 - val_accuracy: 0.7317\n",
      "Epoch 5/10\n",
      "26/26 [==============================] - 207s 8s/step - loss: 0.5042 - accuracy: 0.8469 - val_loss: 1.2782 - val_accuracy: 0.5561\n",
      "Epoch 6/10\n",
      "26/26 [==============================] - 203s 8s/step - loss: 0.3840 - accuracy: 0.8586 - val_loss: 0.9651 - val_accuracy: 0.7122\n",
      "Epoch 7/10\n",
      "26/26 [==============================] - 201s 8s/step - loss: 0.2769 - accuracy: 0.9085 - val_loss: 1.1478 - val_accuracy: 0.7561\n",
      "Epoch 8/10\n",
      "26/26 [==============================] - 197s 8s/step - loss: 0.2692 - accuracy: 0.8971 - val_loss: 1.2002 - val_accuracy: 0.7659\n",
      "Epoch 9/10\n",
      "26/26 [==============================] - 196s 8s/step - loss: 0.2151 - accuracy: 0.9437 - val_loss: 1.5573 - val_accuracy: 0.7463\n",
      "Epoch 10/10\n",
      "26/26 [==============================] - 218s 8s/step - loss: 0.1329 - accuracy: 0.9594 - val_loss: 1.1473 - val_accuracy: 0.7463\n"
     ]
    }
   ],
   "source": [
    "# with RMSprop\n",
    "epochs=10\n",
    "history7 = model1.fit(\n",
    "  train_ds1,\n",
    "  validation_data=val_ds1,\n",
    "  epochs=epochs\n",
    ")"
   ]
  },
  {
   "cell_type": "code",
   "execution_count": 192,
   "metadata": {},
   "outputs": [
    {
     "data": {
      "image/png": "[encoded data removed]",
      "text/plain": [
       "<Figure size 576x576 with 2 Axes>"
      ]
     },
     "metadata": {
      "needs_background": "light"
     },
     "output_type": "display_data"
    }
   ],
   "source": [
    "#Results with RMS\n",
    "acc = history7.history['accuracy']\n",
    "val_acc = history7.history['val_accuracy']\n",
    "\n",
    "loss = history7.history['loss']\n",
    "val_loss = history7.history['val_loss']\n",
    "\n",
    "epochs_range = range(epochs)\n",
    "\n",
    "plt.figure(figsize=(8, 8))\n",
    "plt.subplot(1, 2, 1)\n",
    "plt.plot(epochs_range, acc, label='Training Accuracy')\n",
    "plt.plot(epochs_range, val_acc, label='Validation Accuracy')\n",
    "plt.legend(loc='lower right')\n",
    "plt.title('Training and Validation Accuracy')\n",
    "\n",
    "plt.subplot(1, 2, 2)\n",
    "plt.plot(epochs_range, loss, label='Training Loss')\n",
    "plt.plot(epochs_range, val_loss, label='Validation Loss')\n",
    "plt.legend(loc='upper right')\n",
    "plt.title('Training and Validation Loss')\n",
    "plt.show()"
   ]
  },
  {
   "cell_type": "code",
   "execution_count": null,
   "metadata": {},
   "outputs": [],
   "source": []
  }
 ],
 "metadata": {
  "kernelspec": {
   "display_name": "Python 3",
   "language": "python",
   "name": "python3"
  },
  "language_info": {
   "codemirror_mode": {
    "name": "ipython",
    "version": 3
   },
   "file_extension": ".py",
   "mimetype": "text/x-python",
   "name": "python",
   "nbconvert_exporter": "python",
   "pygments_lexer": "ipython3",
   "version": "3.8.5"
  }
 },
 "nbformat": 4,
 "nbformat_minor": 4
}
